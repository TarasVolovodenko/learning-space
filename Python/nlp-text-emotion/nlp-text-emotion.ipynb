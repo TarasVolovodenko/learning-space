{
 "cells": [
  {
   "cell_type": "markdown",
   "metadata": {},
   "source": [
    "Link: https://www.linkedin.com/pulse/applied-machine-learning-naive-bayes-linear-svm-logistic-thota/"
   ]
  },
  {
   "cell_type": "code",
   "execution_count": 1,
   "metadata": {},
   "outputs": [],
   "source": [
    "# Load libraries\n",
    "import pandas as pd\n",
    "import numpy as np\n",
    "import re\n",
    "from nltk.corpus import stopwords\n",
    "from textblob import Word\n",
    "from sklearn import preprocessing\n",
    "from sklearn.model_selection import train_test_split"
   ]
  },
  {
   "cell_type": "code",
   "execution_count": 2,
   "metadata": {},
   "outputs": [],
   "source": [
    "FILEPATH = 'text_emotion.csv'\n",
    "\n",
    "def load_unprocessed_data(filepath):\n",
    "    df = pd.read_csv(filepath)\n",
    "    return df\n",
    "\n",
    "def cleanup_author_column_raw_data(df):\n",
    "    df = df.drop('author', axis=1)\n",
    "    return df\n",
    "\n",
    "def cleanup_other_emotions(df):\n",
    "    df = df.drop(df[df.sentiment == 'anger'].index)\n",
    "    df = df.drop(df[df.sentiment == 'boredom'].index)\n",
    "    df = df.drop(df[df.sentiment == 'enthusiasm'].index)\n",
    "    df = df.drop(df[df.sentiment == 'empty'].index)\n",
    "    df = df.drop(df[df.sentiment == 'fun'].index)\n",
    "    df = df.drop(df[df.sentiment == 'relief'].index)\n",
    "    df = df.drop(df[df.sentiment == 'surprise'].index)\n",
    "    df = df.drop(df[df.sentiment == 'love'].index)\n",
    "    df = df.drop(df[df.sentiment == 'hate'].index)\n",
    "    df = df.drop(df[df.sentiment == 'neutral'].index)\n",
    "    df = df.drop(df[df.sentiment == 'worry'].index)\n",
    "    return df"
   ]
  },
  {
   "cell_type": "code",
   "execution_count": 3,
   "metadata": {},
   "outputs": [],
   "source": [
    "def process_text_content(df):\n",
    "    #Making all letters lowercase\n",
    "    df['content'] = df['content'].apply(lambda x: \" \".join(x.lower() for x in x.split()))\n",
    "\n",
    "    #Removing Punctuation, Symbols\n",
    "    df['content'] = df['content'].str.replace('[^\\w\\s]',' ')\n",
    "\n",
    "    #Removing Stop Words using NLTK\n",
    "    from nltk.corpus import stopwords\n",
    "    stop = stopwords.words('english')\n",
    "    df['content'] = df['content'].apply(lambda x: \" \".join(x for x in x.split() if x not in stop))\n",
    "\n",
    "    #Lemmatisation\n",
    "    from textblob import Word\n",
    "    df['content'] = df['content'].apply(lambda x: \" \".join([Word(word).lemmatize() for word in x.split()]))\n",
    "\n",
    "    #Correcting Letter Repetitions\n",
    "    import re\n",
    "    def de_repeat(text):\n",
    "        pattern = re.compile(r\"(.)\\1{2,}\")\n",
    "        return pattern.sub(r\"\\1\\1\", text)\n",
    "\n",
    "    #%%\n",
    "    df['content'] = df['content'].apply(lambda x: \" \".join(de_repeat(x) for x in x.split())) \n",
    "    return df"
   ]
  },
  {
   "cell_type": "code",
   "execution_count": 4,
   "metadata": {},
   "outputs": [],
   "source": [
    "def cleanup_rare_words(df):\n",
    "    # Code to find the top 10,000 rarest words (modify according to your dataset) \n",
    "    # appearing in the data\n",
    "    freq = pd.Series(' '.join(df['content']).split()).value_counts()[-10000:]\n",
    "\n",
    "    # Removing all those rarely appearing words from the data\n",
    "    freq = list(freq.index)\n",
    "    df['content'] = df['content'].apply(lambda x: \" \".join(x for x in x.split() if x not in freq))\n",
    "    return df"
   ]
  },
  {
   "cell_type": "code",
   "execution_count": 5,
   "metadata": {},
   "outputs": [],
   "source": [
    "def encoding_emotions(df):\n",
    "    #Encoding output labels 'sadness' as '1' & 'happiness' as '0'\n",
    "    from sklearn import preprocessing\n",
    "    lbl_enc = preprocessing.LabelEncoder()\n",
    "    y = lbl_enc.fit_transform(df.sentiment.values)\n",
    "    return y"
   ]
  },
  {
   "cell_type": "code",
   "execution_count": 6,
   "metadata": {},
   "outputs": [],
   "source": [
    "def split_train_test_data(df, y):\n",
    "    # Splitting into training and testing data in 90:10 ratio\n",
    "    from sklearn.model_selection import train_test_split\n",
    "    X_train, X_val, y_train, y_val = train_test_split(df.content.values, y, stratify=y, random_state=42, test_size=0.1, shuffle=True)\n",
    "    return X_train, X_val, y_train, y_val"
   ]
  },
  {
   "cell_type": "code",
   "execution_count": 7,
   "metadata": {},
   "outputs": [],
   "source": [
    "def extract_tfidf_parameters(X_train, X_val):\n",
    "    # Extracting TF-IDF parameters\n",
    "    from sklearn.feature_extraction.text import TfidfVectorizer\n",
    "    tfidf = TfidfVectorizer(max_features=1000, analyzer='word',ngram_range=(1,3))\n",
    "    X_train_tfidf = tfidf.fit_transform(X_train)\n",
    "    X_val_tfidf = tfidf.fit_transform(X_val)\n",
    "    return tfidf, X_train_tfidf, X_val_tfidf"
   ]
  },
  {
   "cell_type": "code",
   "execution_count": 8,
   "metadata": {},
   "outputs": [],
   "source": [
    "def extract_countvectors_parameters(df, X_train, X_val):\n",
    "    # Extracting Count Vectors Parameters\n",
    "    from sklearn.feature_extraction.text import CountVectorizer\n",
    "    count_vect = CountVectorizer(analyzer='word')\n",
    "    count_vect.fit(df['content'])\n",
    "    X_train_count =  count_vect.transform(X_train)\n",
    "    X_val_count =  count_vect.transform(X_val)\n",
    "    return count_vect, X_train_count, X_val_count"
   ]
  },
  {
   "cell_type": "code",
   "execution_count": 9,
   "metadata": {},
   "outputs": [],
   "source": [
    "def train_vanilla_models(X_train, y_train, X_val, y_val, variable_type):\n",
    "    from sklearn.metrics import accuracy_score\n",
    "\n",
    "    # Model 1: Multinomial Naive Bayes Classifier\n",
    "    from sklearn.naive_bayes import MultinomialNB\n",
    "    nb = MultinomialNB()\n",
    "    nb.fit(X_train, y_train)\n",
    "    y_pred = nb.predict(X_val)\n",
    "    print(f'naive bayes {variable_type} accuracy %s' % accuracy_score(y_pred, y_val))\n",
    "\n",
    "    # Model 2: Linear SVM\n",
    "    from sklearn.linear_model import SGDClassifier\n",
    "    lsvm = SGDClassifier(alpha=0.001, random_state=5, max_iter=15, tol=0.01)\n",
    "    lsvm.fit(X_train, y_train)\n",
    "    y_pred = lsvm.predict(X_val)\n",
    "    print(f'svm using {variable_type} accuracy %s' % accuracy_score(y_pred, y_val))\n",
    "\n",
    "    # Model 3: logistic regression\n",
    "    from sklearn.linear_model import LogisticRegression\n",
    "    logreg = LogisticRegression(C=1, solver='lbfgs')\n",
    "    logreg.fit(X_train, y_train)\n",
    "    y_pred = logreg.predict(X_val)\n",
    "    print(f'log reg {variable_type} accuracy %s' % accuracy_score(y_pred, y_val))\n",
    "\n",
    "    # Model 4: Random Forest Classifier\n",
    "    from sklearn.ensemble import RandomForestClassifier\n",
    "    rf = RandomForestClassifier(n_estimators=500)\n",
    "    rf.fit(X_train, y_train)\n",
    "    y_pred = rf.predict(X_val)\n",
    "    print(f'random forest {variable_type} accuracy %s' % accuracy_score(y_pred, y_val))\n",
    "    return nb, lsvm, logreg, rf"
   ]
  },
  {
   "cell_type": "code",
   "execution_count": 10,
   "metadata": {},
   "outputs": [],
   "source": [
    "def twitt_sentiment_prediction(model):\n",
    "    #Below are 8 random statements.\n",
    "    #The first 4 depict happiness\n",
    "    #The last 4 depict sadness\n",
    "\n",
    "    tweets = pd.DataFrame([\n",
    "        'I am very happy today! The atmosphere looks cheerful',\n",
    "        'Things are looking great. It was such a good day',\n",
    "        'Success is right around the corner. Lets celebrate this victory',\n",
    "        'Everything is more beautiful when you experience them with a smile!',\n",
    "        'Now this is my worst, okay? But I am gonna get better.',\n",
    "        'I am tired, boss. Tired of being on the road, lonely as a sparrow in the rain. I am tired of all the pain I feel',\n",
    "        'This is quite depressing. I am filled with sorrow',\n",
    "        'His death broke my heart. It was a sad day'\n",
    "    ])\n",
    "\n",
    "    # Doing some preprocessing on these tweets as done before\n",
    "    tweets[0] = tweets[0].str.replace('[^\\w\\s]',' ')\n",
    "\n",
    "    from nltk.corpus import stopwords\n",
    "    stop = stopwords.words('english')\n",
    "    tweets[0] = tweets[0].apply(lambda x: \" \".join(x for x in x.split() if x not in stop))\n",
    "\n",
    "    from textblob import Word\n",
    "    tweets[0] = tweets[0].apply(lambda x: \" \".join([Word(word).lemmatize() for word in x.split()]))\n",
    "\n",
    "    # Extracting Count Vectors feature from our tweets\n",
    "    tweet_count = count_vect.transform(tweets[0])\n",
    "\n",
    "    #Predicting the emotion of the tweet using our already trained linear SVM\n",
    "    tweet_pred = model.predict(tweet_count)\n",
    "\n",
    "    print(tweet_pred)"
   ]
  },
  {
   "cell_type": "code",
   "execution_count": 11,
   "metadata": {
    "scrolled": true
   },
   "outputs": [
    {
     "name": "stdout",
     "output_type": "stream",
     "text": [
      "naive bayes TF-IDF accuracy 0.4720616570327553\n",
      "svm using TF-IDF accuracy 0.49229287090558765\n",
      "log reg TF-IDF accuracy 0.5009633911368016\n",
      "random forest TF-IDF accuracy 0.4884393063583815\n",
      "naive bayes COUNT-VECTORS accuracy 0.7764932562620424\n",
      "svm using COUNT-VECTORS accuracy 0.7928709055876686\n",
      "log reg COUNT-VECTORS accuracy 0.7842003853564548\n",
      "random forest COUNT-VECTORS accuracy 0.7543352601156069\n",
      "[0 0 0 0 1 1 1 1]\n"
     ]
    }
   ],
   "source": [
    "df = load_unprocessed_data(FILEPATH)\n",
    "df = cleanup_author_column_raw_data(df)\n",
    "df = cleanup_other_emotions(df)\n",
    "df = process_text_content(df)\n",
    "df = cleanup_rare_words(df)\n",
    "y = encoding_emotions(df)\n",
    "\n",
    "X_train, X_val, y_train, y_val = split_train_test_data(df, y)\n",
    "\n",
    "tfidf, X_train_tfidf, X_val_tfidf = extract_tfidf_parameters(X_train, X_val)\n",
    "\n",
    "count_vect, X_train_count, X_val_count = extract_countvectors_parameters(df, X_train, X_val)\n",
    "\n",
    "train_vanilla_models(X_train_tfidf, y_train, X_val_tfidf, y_val, variable_type='TF-IDF')\n",
    "\n",
    "nb_model, lsvm_model, logreg_model, rf_model = train_vanilla_models(X_train_count,\n",
    "                                                                    y_train,\n",
    "                                                                    X_val_count,\n",
    "                                                                    y_val,\n",
    "                                                                    variable_type='COUNT-VECTORS')\n",
    "twitt_sentiment_prediction(lsvm_model)"
   ]
  }
 ],
 "metadata": {
  "kernelspec": {
   "display_name": "Python 3",
   "language": "python",
   "name": "python3"
  },
  "language_info": {
   "codemirror_mode": {
    "name": "ipython",
    "version": 3
   },
   "file_extension": ".py",
   "mimetype": "text/x-python",
   "name": "python",
   "nbconvert_exporter": "python",
   "pygments_lexer": "ipython3",
   "version": "3.6.7"
  }
 },
 "nbformat": 4,
 "nbformat_minor": 2
}
