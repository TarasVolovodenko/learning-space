{
 "cells": [
  {
   "cell_type": "markdown",
   "metadata": {},
   "source": [
    "Missing package  \n",
    "`pip install pydub`\n",
    "\n",
    "`brew install pydub`\n",
    "\n",
    "`pip install git+https://github.com/jiaaro/pydub.git@master`"
   ]
  },
  {
   "cell_type": "code",
   "execution_count": 28,
   "metadata": {
    "collapsed": false
   },
   "outputs": [],
   "source": [
    "#required libraries\n",
    "import urllib\n",
    "import scipy.io.wavfile\n",
    "import pydub"
   ]
  },
  {
   "cell_type": "code",
   "execution_count": 38,
   "metadata": {
    "collapsed": false
   },
   "outputs": [
    {
     "data": {
      "text/plain": [
       "'/Users/flavio.clesio/Downloads/audio_analysis/'"
      ]
     },
     "execution_count": 38,
     "metadata": {},
     "output_type": "execute_result"
    }
   ],
   "source": [
    "#a temp folder for downloads\n",
    "temp_folder=\"/Users/flavio.clesio/Downloads/audio_analysis/\"\n",
    "temp_folder"
   ]
  },
  {
   "cell_type": "code",
   "execution_count": 39,
   "metadata": {
    "collapsed": true
   },
   "outputs": [],
   "source": [
    "#spotify mp3 sample file\n",
    "web_file=\"http://p.scdn.co/mp3-preview/35b4ce45af06203992a86fa729d17b1c1f93cac5\""
   ]
  },
  {
   "cell_type": "code",
   "execution_count": 40,
   "metadata": {
    "collapsed": false
   },
   "outputs": [
    {
     "data": {
      "text/plain": [
       "('/Users/flavio.clesio/Downloads/audio_analysis/file.mp3',\n",
       " <httplib.HTTPMessage instance at 0x10c0546c8>)"
      ]
     },
     "execution_count": 40,
     "metadata": {},
     "output_type": "execute_result"
    }
   ],
   "source": [
    "#download file\n",
    "urllib.urlretrieve(web_file,temp_folder+\"file.mp3\")\n",
    "#read mp3 file\n",
    "mp3 = pydub.AudioSegment.from_mp3(temp_folder+\"file.mp3\")\n",
    "#convert to wav\n",
    "mp3.export(temp_folder+\"file.wav\", format=\"wav\")\n",
    "#read wav file\n",
    "rate,audData=scipy.io.wavfile.read(temp_folder+\"file.wav\")"
   ]
  },
  {
   "cell_type": "code",
   "execution_count": null,
   "metadata": {
    "collapsed": false
   },
   "outputs": [],
   "source": [
    "# There's a bug in the code, reported in https://github.com/jiaaro/pydub/issues/189\n",
    "\n",
    "#read mp3 file\n",
    "mp3 = pydub.AudioSegment.from_mp3(\"Users/flavio.clesio/Downloads/file.mp3\")"
   ]
  },
  {
   "cell_type": "code",
   "execution_count": null,
   "metadata": {
    "collapsed": true
   },
   "outputs": [],
   "source": [
    "#convert to wav\n",
    "mp3.export(temp_folder+\"file.wav\", format=\"wav\")"
   ]
  },
  {
   "cell_type": "code",
   "execution_count": null,
   "metadata": {
    "collapsed": true
   },
   "outputs": [],
   "source": [
    "#read wav file\n",
    "rate,audData=scipy.io.wavfile.read(temp_folder+\"file.wav\")"
   ]
  },
  {
   "cell_type": "code",
   "execution_count": null,
   "metadata": {
    "collapsed": true
   },
   "outputs": [],
   "source": [
    "print(rate)"
   ]
  },
  {
   "cell_type": "code",
   "execution_count": null,
   "metadata": {
    "collapsed": true
   },
   "outputs": [],
   "source": [
    "print(audData)"
   ]
  },
  {
   "cell_type": "code",
   "execution_count": null,
   "metadata": {
    "collapsed": true
   },
   "outputs": [],
   "source": [
    "#wav length\n",
    "audData.shape[0] / rate"
   ]
  },
  {
   "cell_type": "code",
   "execution_count": null,
   "metadata": {
    "collapsed": true
   },
   "outputs": [],
   "source": [
    "#wav number of channels mono/stereo\n",
    "audData.shape[1]"
   ]
  },
  {
   "cell_type": "code",
   "execution_count": null,
   "metadata": {
    "collapsed": true
   },
   "outputs": [],
   "source": [
    "#if stereo grab both channels\n",
    "channel1=audData[:,0] #left\n",
    "channel2=audData[:,1] #right"
   ]
  },
  {
   "cell_type": "code",
   "execution_count": null,
   "metadata": {
    "collapsed": true
   },
   "outputs": [],
   "source": [
    "audData.dtype"
   ]
  },
  {
   "cell_type": "code",
   "execution_count": null,
   "metadata": {
    "collapsed": true
   },
   "outputs": [],
   "source": [
    "#save wav file\n",
    "scipy.io.wavfile.write(temp_folder+\"file2.wav\", rate, audData)"
   ]
  },
  {
   "cell_type": "code",
   "execution_count": null,
   "metadata": {
    "collapsed": true
   },
   "outputs": [],
   "source": [
    "#save a file at half and double speed\n",
    "scipy.io.wavfile.write(temp_folder+\"file2.wav\", rate/2, audData)\n",
    "scipy.io.wavfile.write(temp_folder+\"file2.wav\", rate*2, audData)"
   ]
  },
  {
   "cell_type": "code",
   "execution_count": null,
   "metadata": {
    "collapsed": true
   },
   "outputs": [],
   "source": [
    "#save a single channel\n",
    "scipy.io.wavfile.write(temp_folder+\"file2.wav\", rate, channel1)"
   ]
  },
  {
   "cell_type": "code",
   "execution_count": null,
   "metadata": {
    "collapsed": true
   },
   "outputs": [],
   "source": [
    "import numpy as np"
   ]
  },
  {
   "cell_type": "code",
   "execution_count": null,
   "metadata": {
    "collapsed": true
   },
   "outputs": [],
   "source": [
    "#averaging the channels damages the music\n",
    "mono=np.sum(audData.astype(float), axis=1)/2\n",
    "scipy.io.wavfile.write(temp_folder+\"file2.wav\", rate, mono)"
   ]
  },
  {
   "cell_type": "code",
   "execution_count": null,
   "metadata": {
    "collapsed": true
   },
   "outputs": [],
   "source": [
    "#Energy of music\n",
    "np.sum(channel1.astype(float)**2)"
   ]
  },
  {
   "cell_type": "code",
   "execution_count": null,
   "metadata": {
    "collapsed": true
   },
   "outputs": [],
   "source": [
    "#power - energy per unit of time\n",
    "1.0/(2*(channel1.size)+1)*np.sum(channel1.astype(float)**2)/rate"
   ]
  },
  {
   "cell_type": "code",
   "execution_count": null,
   "metadata": {
    "collapsed": true
   },
   "outputs": [],
   "source": [
    "import matplotlib.pyplot as plt"
   ]
  },
  {
   "cell_type": "code",
   "execution_count": null,
   "metadata": {
    "collapsed": true
   },
   "outputs": [],
   "source": [
    "#create a time variable in seconds\n",
    "time = np.arange(0, float(audData.shape[0]), 1) / rate"
   ]
  },
  {
   "cell_type": "code",
   "execution_count": null,
   "metadata": {
    "collapsed": true
   },
   "outputs": [],
   "source": [
    "#plot amplitude (or loudness) over time\n",
    "plt.figure(1)\n",
    "plt.subplot(211)\n",
    "plt.plot(time, channel1, linewidth=0.01, alpha=0.7, color='#ff7f00')\n",
    "plt.xlabel('Time (s)')\n",
    "plt.ylabel('Amplitude')\n",
    "plt.subplot(212)\n",
    "plt.plot(time, channel2, linewidth=0.01, alpha=0.7, color='#ff7f00')\n",
    "plt.xlabel('Time (s)')\n",
    "plt.ylabel('Amplitude')\n",
    "plt.show()"
   ]
  },
  {
   "cell_type": "code",
   "execution_count": null,
   "metadata": {
    "collapsed": true
   },
   "outputs": [],
   "source": [
    "from numpy import fft as fft"
   ]
  },
  {
   "cell_type": "code",
   "execution_count": null,
   "metadata": {
    "collapsed": true
   },
   "outputs": [],
   "source": [
    "fourier=fft.fft(channel1)"
   ]
  },
  {
   "cell_type": "code",
   "execution_count": null,
   "metadata": {
    "collapsed": true
   },
   "outputs": [],
   "source": [
    "plt.plot(fourier, color='#ff7f00')\n",
    "plt.xlabel('k')\n",
    "plt.ylabel('Amplitude')"
   ]
  },
  {
   "cell_type": "code",
   "execution_count": null,
   "metadata": {
    "collapsed": true
   },
   "outputs": [],
   "source": [
    "n = len(channel1)\n",
    "fourier = fourier[0:(n/2)]"
   ]
  },
  {
   "cell_type": "code",
   "execution_count": null,
   "metadata": {
    "collapsed": true
   },
   "outputs": [],
   "source": [
    "# scale by the number of points so that the magnitude does not depend on the length\n",
    "fourier = fourier / float(n)"
   ]
  },
  {
   "cell_type": "code",
   "execution_count": null,
   "metadata": {
    "collapsed": true
   },
   "outputs": [],
   "source": [
    "#calculate the frequency at each point in Hz\n",
    "freqArray = np.arange(0, (n/2), 1.0) * (rate*1.0/n);"
   ]
  },
  {
   "cell_type": "code",
   "execution_count": null,
   "metadata": {
    "collapsed": true
   },
   "outputs": [],
   "source": [
    "plt.plot(freqArray/1000, 10*np.log10(fourier), color='#ff7f00', linewidth=0.02)\n",
    "plt.xlabel('Frequency (kHz)')\n",
    "plt.ylabel('Power (dB)')"
   ]
  },
  {
   "cell_type": "code",
   "execution_count": null,
   "metadata": {
    "collapsed": true
   },
   "outputs": [],
   "source": [
    "plt.figure(2, figsize=(8,6))\n",
    "plt.subplot(211)\n",
    "Pxx, freqs, bins, im = plt.specgram(channel1, Fs=rate, NFFT=1024, cmap=plt.get_cmap('autumn_r'))\n",
    "cbar=plt.colorbar(im)\n",
    "plt.xlabel('Time (s)')\n",
    "plt.ylabel('Frequency (Hz)')\n",
    "cbar.set_label('Intensity dB')\n",
    "plt.subplot(212)\n",
    "Pxx, freqs, bins, im = plt.specgram(channel2, Fs=rate, NFFT=1024, cmap=plt.get_cmap('autumn_r'))\n",
    "cbar=plt.colorbar(im)\n",
    "plt.xlabel('Time (s)')\n",
    "plt.ylabel('Frequency (Hz)')\n",
    "cbar.set_label('Intensity (dB)')\n",
    "#plt.show()"
   ]
  },
  {
   "cell_type": "code",
   "execution_count": null,
   "metadata": {
    "collapsed": true
   },
   "outputs": [],
   "source": [
    "np.where(freqs==10034.47265625)\n",
    "MHZ10=Pxx[233,:]\n",
    "plt.plot(bins, MHZ10, color='#ff7f00')"
   ]
  }
 ],
 "metadata": {
  "kernelspec": {
   "display_name": "Python 2",
   "language": "python",
   "name": "python2"
  },
  "language_info": {
   "codemirror_mode": {
    "name": "ipython",
    "version": 2
   },
   "file_extension": ".py",
   "mimetype": "text/x-python",
   "name": "python",
   "nbconvert_exporter": "python",
   "pygments_lexer": "ipython2",
   "version": "2.7.13"
  }
 },
 "nbformat": 4,
 "nbformat_minor": 2
}
