{
 "cells": [
  {
   "cell_type": "markdown",
   "metadata": {},
   "source": [
    "Este notebook tem como finalidade realizar a tradução e as interações de cada passo do problema do [Stable Marriage Problem](https://en.wikipedia.org/wiki/Stable_marriage_problem). O codigo original esta em [Rosetta Code](https://rosettacode.org/wiki/Stable_marriage_problem#Python) e esse codigo serve apenas para propositos educacionais."
   ]
  },
  {
   "cell_type": "code",
   "execution_count": 1,
   "metadata": {},
   "outputs": [],
   "source": [
    "import copy\n",
    " \n",
    "# Preferencia dos homens\n",
    "guyprefers = {\n",
    " 'abe':  ['abi', 'eve', 'cath', 'ivy', 'jan', 'dee', 'fay', 'bea', 'hope', 'gay'],\n",
    " 'bob':  ['cath', 'hope', 'abi', 'dee', 'eve', 'fay', 'bea', 'jan', 'ivy', 'gay'],\n",
    " 'col':  ['hope', 'eve', 'abi', 'dee', 'bea', 'fay', 'ivy', 'gay', 'cath', 'jan'],\n",
    " 'dan':  ['ivy', 'fay', 'dee', 'gay', 'hope', 'eve', 'jan', 'bea', 'cath', 'abi'],\n",
    " 'ed':   ['jan', 'dee', 'bea', 'cath', 'fay', 'eve', 'abi', 'ivy', 'hope', 'gay'],\n",
    " 'fred': ['bea', 'abi', 'dee', 'gay', 'eve', 'ivy', 'cath', 'jan', 'hope', 'fay'],\n",
    " 'gav':  ['gay', 'eve', 'ivy', 'bea', 'cath', 'abi', 'dee', 'hope', 'jan', 'fay'],\n",
    " 'hal':  ['abi', 'eve', 'hope', 'fay', 'ivy', 'cath', 'jan', 'bea', 'gay', 'dee'],\n",
    " 'ian':  ['hope', 'cath', 'dee', 'gay', 'bea', 'abi', 'fay', 'ivy', 'jan', 'eve'],\n",
    " 'jon':  ['abi', 'fay', 'jan', 'gay', 'eve', 'bea', 'dee', 'cath', 'ivy', 'hope']}\n",
    "\n",
    "# Preferencia das mulheres\n",
    "galprefers = {\n",
    " 'abi':  ['bob', 'fred', 'jon', 'gav', 'ian', 'abe', 'dan', 'ed', 'col', 'hal'],\n",
    " 'bea':  ['bob', 'abe', 'col', 'fred', 'gav', 'dan', 'ian', 'ed', 'jon', 'hal'],\n",
    " 'cath': ['fred', 'bob', 'ed', 'gav', 'hal', 'col', 'ian', 'abe', 'dan', 'jon'],\n",
    " 'dee':  ['fred', 'jon', 'col', 'abe', 'ian', 'hal', 'gav', 'dan', 'bob', 'ed'],\n",
    " 'eve':  ['jon', 'hal', 'fred', 'dan', 'abe', 'gav', 'col', 'ed', 'ian', 'bob'],\n",
    " 'fay':  ['bob', 'abe', 'ed', 'ian', 'jon', 'dan', 'fred', 'gav', 'col', 'hal'],\n",
    " 'gay':  ['jon', 'gav', 'hal', 'fred', 'bob', 'abe', 'col', 'ed', 'dan', 'ian'],\n",
    " 'hope': ['gav', 'jon', 'bob', 'abe', 'ian', 'dan', 'hal', 'ed', 'col', 'fred'],\n",
    " 'ivy':  ['ian', 'col', 'hal', 'gav', 'fred', 'bob', 'abe', 'ed', 'jon', 'dan'],\n",
    " 'jan':  ['ed', 'hal', 'gav', 'abe', 'bob', 'jon', 'col', 'ian', 'fred', 'dan']}\n",
    "\n",
    "guys = sorted(guyprefers.keys())\n",
    "gals = sorted(galprefers.keys())"
   ]
  },
  {
   "cell_type": "code",
   "execution_count": 2,
   "metadata": {},
   "outputs": [
    {
     "data": {
      "text/plain": [
       "['abe', 'bob', 'col', 'dan', 'ed', 'fred', 'gav', 'hal', 'ian', 'jon']"
      ]
     },
     "execution_count": 2,
     "metadata": {},
     "output_type": "execute_result"
    }
   ],
   "source": [
    "guys"
   ]
  },
  {
   "cell_type": "code",
   "execution_count": 3,
   "metadata": {},
   "outputs": [
    {
     "data": {
      "text/plain": [
       "['abi', 'bea', 'cath', 'dee', 'eve', 'fay', 'gay', 'hope', 'ivy', 'jan']"
      ]
     },
     "execution_count": 3,
     "metadata": {},
     "output_type": "execute_result"
    }
   ],
   "source": [
    "gals"
   ]
  },
  {
   "cell_type": "code",
   "execution_count": 4,
   "metadata": {},
   "outputs": [],
   "source": [
    "def check(engaged):\n",
    "    inverseengaged = dict((v,k) for k,v in engaged.items())\n",
    "    for she, he in engaged.items():\n",
    "        shelikes = galprefers[she]\n",
    "        shelikesbetter = shelikes[:shelikes.index(he)]\n",
    "        helikes = guyprefers[he]\n",
    "        helikesbetter = helikes[:helikes.index(she)]\n",
    "        for guy in shelikesbetter:\n",
    "            guysgirl = inverseengaged[guy]\n",
    "            guylikes = guyprefers[guy]\n",
    "            if guylikes.index(guysgirl) > guylikes.index(she):\n",
    "                print(f'{she} e {guy} gostam mais de si mesmos do que os seus atuais parceiros: {he} e {guysgirl}, respectivamente')\n",
    "                return False\n",
    "        for gal in helikesbetter:\n",
    "            girlsguy = engaged[gal]\n",
    "            gallikes = galprefers[gal]\n",
    "            if gallikes.index(girlsguy) > gallikes.index(he):\n",
    "                print(f'{he} e {gal} gostam mais de si mesmos do que os seus atuais parceiros: {she} e {girlsguy}, respectivamente')\n",
    "                return False\n",
    "    return True"
   ]
  },
  {
   "cell_type": "code",
   "execution_count": 5,
   "metadata": {},
   "outputs": [],
   "source": [
    "def matchmaker():\n",
    "    \n",
    "    # Lista de caras disponiveis ()\n",
    "    guysfree = guys[:]\n",
    "    \n",
    "    # Lista de noivados\n",
    "    engaged  = {}\n",
    "    \n",
    "    # Copia das listas de preferencias\n",
    "    guyprefers2 = copy.deepcopy(guyprefers)\n",
    "    galprefers2 = copy.deepcopy(galprefers)\n",
    "    \n",
    "    # Enquanto houver homens disponiveis\n",
    "    while guysfree:\n",
    "        \n",
    "        print(f'0. Caras livres: {guysfree}')\n",
    "        \n",
    "        # Pega o primeiro homem da lista\n",
    "        guy = guysfree.pop(0)\n",
    "        print(f'1. Homem a fazer a proposta: {guy}')\n",
    "        \n",
    "        # Pega a lista de preferencias desse homem\n",
    "        guyslist = guyprefers2[guy]\n",
    "        print(f'2. Preferencias de {guy}: {guyslist}')\n",
    "        \n",
    "        # Pega a primeira preferencia do homem\n",
    "        gal = guyslist.pop(0)\n",
    "        print(f'3. Pega a primeira preferencia de {guy} que eh: {gal}')\n",
    "        \n",
    "        # Busca na lista de propostas o status pra ver se a mulher esta noiva ou não\n",
    "        fiance = engaged.get(gal)\n",
    "        print(f'4. {gal} esta noiva? - Resposta: {fiance}')\n",
    "        \n",
    "        if not fiance: # Se ela não estiver noiva\n",
    "            ## Ela esta livre\n",
    "            print(f'5a. {gal} esta livre')\n",
    "            engaged[gal] = guy\n",
    "            print(f'5b. {guy} esta noivo de {gal} \\n')\n",
    "        else:\n",
    "            # Se o homem fez a proposta para uma mulher que ja tem um noivo\n",
    "            # Pega as preferencias dessa mulher e coloca em uma lista.\n",
    "            print(f'6a. {gal} esta noiva de {fiance}')\n",
    "            \n",
    "            print(f'6b. Pega a lista de preferencias de {gal}')\n",
    "            galslist = galprefers2[gal]\n",
    "            \n",
    "            print(f'6c. As preferencias de {gal} são \\n {galslist}')\n",
    "            print(f'6d. Posição do noivo atual {galslist[galslist.index(fiance)]}: {galslist.index(fiance)}')\n",
    "            print(f'6e. Posição da proposta atual {galslist[galslist.index(guy)]}: {galslist.index(guy)}')\n",
    "            \n",
    "            if galslist.index(fiance) > galslist.index(guy):\n",
    "                \n",
    "                # She prefers new guy\n",
    "                print(f'7a. {gal} prefere o novo cara {guy}')\n",
    "                engaged[gal] = guy\n",
    "                print(f'7b. {gal} largou {fiance} pra ficar com {guy}')\n",
    "            \n",
    "                if guyprefers2[fiance]:\n",
    "                    print(f'8a. Pega as preferencias do {fiance}')\n",
    "                    print(f'8b. {fiance} pode tentar {guyprefers2[fiance]}')\n",
    "                    print(f'8c. {fiance} vai para a lista de caras livres')\n",
    "                    # Ex has more girls to try\n",
    "                    guysfree.append(fiance)\n",
    "                    print(f'8d. Caras livres {guysfree} \\n')\n",
    "            else:\n",
    "                # She is faithful to old fiance\n",
    "                print(f'9. O atual de {gal} ({fiance}) eh melhor do que ({guy})')\n",
    "                if guyslist:\n",
    "                    # Look again\n",
    "                    print(f'10a. {guy} vai para a lista de caras livres')\n",
    "                    guysfree.append(guy)\n",
    "                    print(f'10b. Caras livres: {guysfree} \\n')\n",
    "                    \n",
    "    return engaged"
   ]
  },
  {
   "cell_type": "code",
   "execution_count": 6,
   "metadata": {
    "scrolled": false
   },
   "outputs": [
    {
     "name": "stdout",
     "output_type": "stream",
     "text": [
      "\n",
      "Noivados:\n",
      "0. Caras livres: ['abe', 'bob', 'col', 'dan', 'ed', 'fred', 'gav', 'hal', 'ian', 'jon']\n",
      "1. Homem a fazer a proposta: abe\n",
      "2. Preferencias de abe: ['abi', 'eve', 'cath', 'ivy', 'jan', 'dee', 'fay', 'bea', 'hope', 'gay']\n",
      "3. Pega a primeira preferencia de abe que eh: abi\n",
      "4. abi esta noiva? - Resposta: None\n",
      "5a. abi esta livre\n",
      "5b. abe esta noivo de abi \n",
      "\n",
      "0. Caras livres: ['bob', 'col', 'dan', 'ed', 'fred', 'gav', 'hal', 'ian', 'jon']\n",
      "1. Homem a fazer a proposta: bob\n",
      "2. Preferencias de bob: ['cath', 'hope', 'abi', 'dee', 'eve', 'fay', 'bea', 'jan', 'ivy', 'gay']\n",
      "3. Pega a primeira preferencia de bob que eh: cath\n",
      "4. cath esta noiva? - Resposta: None\n",
      "5a. cath esta livre\n",
      "5b. bob esta noivo de cath \n",
      "\n",
      "0. Caras livres: ['col', 'dan', 'ed', 'fred', 'gav', 'hal', 'ian', 'jon']\n",
      "1. Homem a fazer a proposta: col\n",
      "2. Preferencias de col: ['hope', 'eve', 'abi', 'dee', 'bea', 'fay', 'ivy', 'gay', 'cath', 'jan']\n",
      "3. Pega a primeira preferencia de col que eh: hope\n",
      "4. hope esta noiva? - Resposta: None\n",
      "5a. hope esta livre\n",
      "5b. col esta noivo de hope \n",
      "\n",
      "0. Caras livres: ['dan', 'ed', 'fred', 'gav', 'hal', 'ian', 'jon']\n",
      "1. Homem a fazer a proposta: dan\n",
      "2. Preferencias de dan: ['ivy', 'fay', 'dee', 'gay', 'hope', 'eve', 'jan', 'bea', 'cath', 'abi']\n",
      "3. Pega a primeira preferencia de dan que eh: ivy\n",
      "4. ivy esta noiva? - Resposta: None\n",
      "5a. ivy esta livre\n",
      "5b. dan esta noivo de ivy \n",
      "\n",
      "0. Caras livres: ['ed', 'fred', 'gav', 'hal', 'ian', 'jon']\n",
      "1. Homem a fazer a proposta: ed\n",
      "2. Preferencias de ed: ['jan', 'dee', 'bea', 'cath', 'fay', 'eve', 'abi', 'ivy', 'hope', 'gay']\n",
      "3. Pega a primeira preferencia de ed que eh: jan\n",
      "4. jan esta noiva? - Resposta: None\n",
      "5a. jan esta livre\n",
      "5b. ed esta noivo de jan \n",
      "\n",
      "0. Caras livres: ['fred', 'gav', 'hal', 'ian', 'jon']\n",
      "1. Homem a fazer a proposta: fred\n",
      "2. Preferencias de fred: ['bea', 'abi', 'dee', 'gay', 'eve', 'ivy', 'cath', 'jan', 'hope', 'fay']\n",
      "3. Pega a primeira preferencia de fred que eh: bea\n",
      "4. bea esta noiva? - Resposta: None\n",
      "5a. bea esta livre\n",
      "5b. fred esta noivo de bea \n",
      "\n",
      "0. Caras livres: ['gav', 'hal', 'ian', 'jon']\n",
      "1. Homem a fazer a proposta: gav\n",
      "2. Preferencias de gav: ['gay', 'eve', 'ivy', 'bea', 'cath', 'abi', 'dee', 'hope', 'jan', 'fay']\n",
      "3. Pega a primeira preferencia de gav que eh: gay\n",
      "4. gay esta noiva? - Resposta: None\n",
      "5a. gay esta livre\n",
      "5b. gav esta noivo de gay \n",
      "\n",
      "0. Caras livres: ['hal', 'ian', 'jon']\n",
      "1. Homem a fazer a proposta: hal\n",
      "2. Preferencias de hal: ['abi', 'eve', 'hope', 'fay', 'ivy', 'cath', 'jan', 'bea', 'gay', 'dee']\n",
      "3. Pega a primeira preferencia de hal que eh: abi\n",
      "4. abi esta noiva? - Resposta: abe\n",
      "6a. abi esta noiva de abe\n",
      "6b. Pega a lista de preferencias de abi\n",
      "6c. As preferencias de abi são \n",
      " ['bob', 'fred', 'jon', 'gav', 'ian', 'abe', 'dan', 'ed', 'col', 'hal']\n",
      "6d. Posição do noivo atual abe: 5\n",
      "6e. Posição da proposta atual hal: 9\n",
      "9. O atual de abi (abe) eh melhor do que (hal)\n",
      "10a. hal vai para a lista de caras livres\n",
      "10b. Caras livres: ['ian', 'jon', 'hal'] \n",
      "\n",
      "0. Caras livres: ['ian', 'jon', 'hal']\n",
      "1. Homem a fazer a proposta: ian\n",
      "2. Preferencias de ian: ['hope', 'cath', 'dee', 'gay', 'bea', 'abi', 'fay', 'ivy', 'jan', 'eve']\n",
      "3. Pega a primeira preferencia de ian que eh: hope\n",
      "4. hope esta noiva? - Resposta: col\n",
      "6a. hope esta noiva de col\n",
      "6b. Pega a lista de preferencias de hope\n",
      "6c. As preferencias de hope são \n",
      " ['gav', 'jon', 'bob', 'abe', 'ian', 'dan', 'hal', 'ed', 'col', 'fred']\n",
      "6d. Posição do noivo atual col: 8\n",
      "6e. Posição da proposta atual ian: 4\n",
      "7a. hope prefere o novo cara ian\n",
      "7b. hope largou col pra ficar com ian\n",
      "8a. Pega as preferencias do col\n",
      "8b. col pode tentar ['eve', 'abi', 'dee', 'bea', 'fay', 'ivy', 'gay', 'cath', 'jan']\n",
      "8c. col vai para a lista de caras livres\n",
      "8d. Caras livres ['jon', 'hal', 'col'] \n",
      "\n",
      "0. Caras livres: ['jon', 'hal', 'col']\n",
      "1. Homem a fazer a proposta: jon\n",
      "2. Preferencias de jon: ['abi', 'fay', 'jan', 'gay', 'eve', 'bea', 'dee', 'cath', 'ivy', 'hope']\n",
      "3. Pega a primeira preferencia de jon que eh: abi\n",
      "4. abi esta noiva? - Resposta: abe\n",
      "6a. abi esta noiva de abe\n",
      "6b. Pega a lista de preferencias de abi\n",
      "6c. As preferencias de abi são \n",
      " ['bob', 'fred', 'jon', 'gav', 'ian', 'abe', 'dan', 'ed', 'col', 'hal']\n",
      "6d. Posição do noivo atual abe: 5\n",
      "6e. Posição da proposta atual jon: 2\n",
      "7a. abi prefere o novo cara jon\n",
      "7b. abi largou abe pra ficar com jon\n",
      "8a. Pega as preferencias do abe\n",
      "8b. abe pode tentar ['eve', 'cath', 'ivy', 'jan', 'dee', 'fay', 'bea', 'hope', 'gay']\n",
      "8c. abe vai para a lista de caras livres\n",
      "8d. Caras livres ['hal', 'col', 'abe'] \n",
      "\n",
      "0. Caras livres: ['hal', 'col', 'abe']\n",
      "1. Homem a fazer a proposta: hal\n",
      "2. Preferencias de hal: ['eve', 'hope', 'fay', 'ivy', 'cath', 'jan', 'bea', 'gay', 'dee']\n",
      "3. Pega a primeira preferencia de hal que eh: eve\n",
      "4. eve esta noiva? - Resposta: None\n",
      "5a. eve esta livre\n",
      "5b. hal esta noivo de eve \n",
      "\n",
      "0. Caras livres: ['col', 'abe']\n",
      "1. Homem a fazer a proposta: col\n",
      "2. Preferencias de col: ['eve', 'abi', 'dee', 'bea', 'fay', 'ivy', 'gay', 'cath', 'jan']\n",
      "3. Pega a primeira preferencia de col que eh: eve\n",
      "4. eve esta noiva? - Resposta: hal\n",
      "6a. eve esta noiva de hal\n",
      "6b. Pega a lista de preferencias de eve\n",
      "6c. As preferencias de eve são \n",
      " ['jon', 'hal', 'fred', 'dan', 'abe', 'gav', 'col', 'ed', 'ian', 'bob']\n",
      "6d. Posição do noivo atual hal: 1\n",
      "6e. Posição da proposta atual col: 6\n",
      "9. O atual de eve (hal) eh melhor do que (col)\n",
      "10a. col vai para a lista de caras livres\n",
      "10b. Caras livres: ['abe', 'col'] \n",
      "\n",
      "0. Caras livres: ['abe', 'col']\n",
      "1. Homem a fazer a proposta: abe\n",
      "2. Preferencias de abe: ['eve', 'cath', 'ivy', 'jan', 'dee', 'fay', 'bea', 'hope', 'gay']\n",
      "3. Pega a primeira preferencia de abe que eh: eve\n",
      "4. eve esta noiva? - Resposta: hal\n",
      "6a. eve esta noiva de hal\n",
      "6b. Pega a lista de preferencias de eve\n",
      "6c. As preferencias de eve são \n",
      " ['jon', 'hal', 'fred', 'dan', 'abe', 'gav', 'col', 'ed', 'ian', 'bob']\n",
      "6d. Posição do noivo atual hal: 1\n",
      "6e. Posição da proposta atual abe: 4\n",
      "9. O atual de eve (hal) eh melhor do que (abe)\n",
      "10a. abe vai para a lista de caras livres\n",
      "10b. Caras livres: ['col', 'abe'] \n",
      "\n",
      "0. Caras livres: ['col', 'abe']\n",
      "1. Homem a fazer a proposta: col\n",
      "2. Preferencias de col: ['abi', 'dee', 'bea', 'fay', 'ivy', 'gay', 'cath', 'jan']\n",
      "3. Pega a primeira preferencia de col que eh: abi\n",
      "4. abi esta noiva? - Resposta: jon\n",
      "6a. abi esta noiva de jon\n",
      "6b. Pega a lista de preferencias de abi\n",
      "6c. As preferencias de abi são \n",
      " ['bob', 'fred', 'jon', 'gav', 'ian', 'abe', 'dan', 'ed', 'col', 'hal']\n",
      "6d. Posição do noivo atual jon: 2\n",
      "6e. Posição da proposta atual col: 8\n",
      "9. O atual de abi (jon) eh melhor do que (col)\n",
      "10a. col vai para a lista de caras livres\n",
      "10b. Caras livres: ['abe', 'col'] \n",
      "\n",
      "0. Caras livres: ['abe', 'col']\n",
      "1. Homem a fazer a proposta: abe\n",
      "2. Preferencias de abe: ['cath', 'ivy', 'jan', 'dee', 'fay', 'bea', 'hope', 'gay']\n",
      "3. Pega a primeira preferencia de abe que eh: cath\n",
      "4. cath esta noiva? - Resposta: bob\n",
      "6a. cath esta noiva de bob\n",
      "6b. Pega a lista de preferencias de cath\n",
      "6c. As preferencias de cath são \n",
      " ['fred', 'bob', 'ed', 'gav', 'hal', 'col', 'ian', 'abe', 'dan', 'jon']\n",
      "6d. Posição do noivo atual bob: 1\n",
      "6e. Posição da proposta atual abe: 7\n",
      "9. O atual de cath (bob) eh melhor do que (abe)\n",
      "10a. abe vai para a lista de caras livres\n",
      "10b. Caras livres: ['col', 'abe'] \n",
      "\n",
      "0. Caras livres: ['col', 'abe']\n",
      "1. Homem a fazer a proposta: col\n",
      "2. Preferencias de col: ['dee', 'bea', 'fay', 'ivy', 'gay', 'cath', 'jan']\n",
      "3. Pega a primeira preferencia de col que eh: dee\n",
      "4. dee esta noiva? - Resposta: None\n",
      "5a. dee esta livre\n",
      "5b. col esta noivo de dee \n",
      "\n",
      "0. Caras livres: ['abe']\n",
      "1. Homem a fazer a proposta: abe\n",
      "2. Preferencias de abe: ['ivy', 'jan', 'dee', 'fay', 'bea', 'hope', 'gay']\n",
      "3. Pega a primeira preferencia de abe que eh: ivy\n",
      "4. ivy esta noiva? - Resposta: dan\n",
      "6a. ivy esta noiva de dan\n",
      "6b. Pega a lista de preferencias de ivy\n",
      "6c. As preferencias de ivy são \n",
      " ['ian', 'col', 'hal', 'gav', 'fred', 'bob', 'abe', 'ed', 'jon', 'dan']\n",
      "6d. Posição do noivo atual dan: 9\n",
      "6e. Posição da proposta atual abe: 6\n",
      "7a. ivy prefere o novo cara abe\n",
      "7b. ivy largou dan pra ficar com abe\n",
      "8a. Pega as preferencias do dan\n",
      "8b. dan pode tentar ['fay', 'dee', 'gay', 'hope', 'eve', 'jan', 'bea', 'cath', 'abi']\n",
      "8c. dan vai para a lista de caras livres\n",
      "8d. Caras livres ['dan'] \n",
      "\n",
      "0. Caras livres: ['dan']\n",
      "1. Homem a fazer a proposta: dan\n",
      "2. Preferencias de dan: ['fay', 'dee', 'gay', 'hope', 'eve', 'jan', 'bea', 'cath', 'abi']\n",
      "3. Pega a primeira preferencia de dan que eh: fay\n",
      "4. fay esta noiva? - Resposta: None\n",
      "5a. fay esta livre\n",
      "5b. dan esta noivo de fay \n",
      "\n"
     ]
    }
   ],
   "source": [
    "print('\\nNoivados:')\n",
    "engaged = matchmaker()"
   ]
  },
  {
   "cell_type": "code",
   "execution_count": 7,
   "metadata": {},
   "outputs": [
    {
     "name": "stdout",
     "output_type": "stream",
     "text": [
      "\n",
      "Noivados\n"
     ]
    },
    {
     "data": {
      "text/plain": [
       "{'abi': 'jon',\n",
       " 'cath': 'bob',\n",
       " 'hope': 'ian',\n",
       " 'ivy': 'abe',\n",
       " 'jan': 'ed',\n",
       " 'bea': 'fred',\n",
       " 'gay': 'gav',\n",
       " 'eve': 'hal',\n",
       " 'dee': 'col',\n",
       " 'fay': 'dan'}"
      ]
     },
     "execution_count": 7,
     "metadata": {},
     "output_type": "execute_result"
    }
   ],
   "source": [
    "print('\\nNoivados')\n",
    "engaged"
   ]
  },
  {
   "cell_type": "code",
   "execution_count": 8,
   "metadata": {},
   "outputs": [
    {
     "name": "stdout",
     "output_type": "stream",
     "text": [
      "\n",
      "Casais:\n",
      "  abi esta noivo de jon,\n",
      "  bea esta noivo de fred,\n",
      "  cath esta noivo de bob,\n",
      "  dee esta noivo de col,\n",
      "  eve esta noivo de hal,\n",
      "  fay esta noivo de dan,\n",
      "  gay esta noivo de gav,\n",
      "  hope esta noivo de ian,\n",
      "  ivy esta noivo de abe,\n",
      "  jan esta noivo de ed\n"
     ]
    }
   ],
   "source": [
    "print('\\nCasais:')\n",
    "print('  ' + ',\\n  '.join('%s esta noivo de %s' % couple\n",
    "                          for couple in sorted(engaged.items())))"
   ]
  },
  {
   "cell_type": "code",
   "execution_count": 9,
   "metadata": {},
   "outputs": [
    {
     "name": "stdout",
     "output_type": "stream",
     "text": [
      "\n",
      "Teste de estabilidade dos noivados - PASSOU\n"
     ]
    }
   ],
   "source": [
    "print('\\nTeste de estabilidade dos noivados - PASSOU'\n",
    "      if check(engaged) else 'Teste de estabilidade dos noivados - FALHOU')"
   ]
  },
  {
   "cell_type": "code",
   "execution_count": 10,
   "metadata": {},
   "outputs": [
    {
     "name": "stdout",
     "output_type": "stream",
     "text": [
      "\n",
      "Trocando dois noivados para introduzir um erro\n",
      "abi esta noiva de fred\n",
      "bea esta noiva de jon\n"
     ]
    }
   ],
   "source": [
    "print('\\nTrocando dois noivados para introduzir um erro')\n",
    "engaged[gals[0]], engaged[gals[1]] = engaged[gals[1]], engaged[gals[0]]\n",
    "for gal in gals[:2]:\n",
    "    print(f'{gal} esta noiva de {engaged[gal]}')"
   ]
  },
  {
   "cell_type": "code",
   "execution_count": 11,
   "metadata": {},
   "outputs": [
    {
     "name": "stdout",
     "output_type": "stream",
     "text": [
      "\n",
      "Casais:\n",
      "  abi esta noivo de fred,\n",
      "  bea esta noivo de jon,\n",
      "  cath esta noivo de bob,\n",
      "  dee esta noivo de col,\n",
      "  eve esta noivo de hal,\n",
      "  fay esta noivo de dan,\n",
      "  gay esta noivo de gav,\n",
      "  hope esta noivo de ian,\n",
      "  ivy esta noivo de abe,\n",
      "  jan esta noivo de ed\n"
     ]
    }
   ],
   "source": [
    "print('\\nCasais:')\n",
    "print('  ' + ',\\n  '.join('%s esta noivo de %s' % couple\n",
    "                          for couple in sorted(engaged.items())))"
   ]
  },
  {
   "cell_type": "code",
   "execution_count": 12,
   "metadata": {},
   "outputs": [
    {
     "name": "stdout",
     "output_type": "stream",
     "text": [
      "fred e bea gostam mais de si mesmos do que os seus atuais parceiros: abi e jon, respectivamente\n",
      "Teste de estabilidade dos noivados - FALHOU\n"
     ]
    }
   ],
   "source": [
    "print('\\nTeste de estabilidade dos noivados - PASSOU'\n",
    "      if check(engaged) else 'Teste de estabilidade dos noivados - FALHOU')"
   ]
  },
  {
   "cell_type": "code",
   "execution_count": null,
   "metadata": {},
   "outputs": [],
   "source": []
  }
 ],
 "metadata": {
  "kernelspec": {
   "display_name": "Python 3",
   "language": "python",
   "name": "python3"
  },
  "language_info": {
   "codemirror_mode": {
    "name": "ipython",
    "version": 3
   },
   "file_extension": ".py",
   "mimetype": "text/x-python",
   "name": "python",
   "nbconvert_exporter": "python",
   "pygments_lexer": "ipython3",
   "version": "3.6.8"
  }
 },
 "nbformat": 4,
 "nbformat_minor": 2
}
