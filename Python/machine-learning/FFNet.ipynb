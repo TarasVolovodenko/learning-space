{
 "cells": [
  {
   "cell_type": "markdown",
   "metadata": {},
   "source": [
    "`$ pip install ffnet`"
   ]
  },
  {
   "cell_type": "code",
   "execution_count": 1,
   "metadata": {
    "collapsed": false
   },
   "outputs": [
    {
     "name": "stderr",
     "output_type": "stream",
     "text": [
      "testReadData (ffnet._tests.TestDataReader) ... ok\n",
      "testArray (ffnet._tests.TestExport2Fortran) ... ok\n",
      "testCall (ffnet._tests.TestFfnetSigmoid) ... ok\n",
      "testDerivative (ffnet._tests.TestFfnetSigmoid) ... ok\n",
      "testDerivative2 (ffnet._tests.TestFfnetSigmoid) ... ok\n",
      "testRenormalize (ffnet._tests.TestFfnetSigmoid) ... ok\n",
      "testSqerror (ffnet._tests.TestFfnetSigmoid) ... ok\n",
      "testSqgrad (ffnet._tests.TestFfnetSigmoid) ... ok\n",
      "testTestdata (ffnet._tests.TestFfnetSigmoid) ... ok\n",
      "testTrainBfgs (ffnet._tests.TestFfnetSigmoid) ... ok\n",
      "testTrainCg (ffnet._tests.TestFfnetSigmoid) ... "
     ]
    },
    {
     "name": "stdout",
     "output_type": "stream",
     "text": [
      "Test of BFGS algorithm\n",
      "Skipped because of problems on some scipy compilations.\n",
      "Test of conjugate gradient algorithm\n",
      "Optimization terminated successfully.\n",
      "         Current function value: 0.000000\n",
      "         Iterations: 39\n",
      "         Function evaluations: 128\n",
      "         Gradient evaluations: 128\n"
     ]
    },
    {
     "name": "stderr",
     "output_type": "stream",
     "text": [
      "ok\n",
      "testTrainGenetic (ffnet._tests.TestFfnetSigmoid) ... ok\n",
      "testTrainMomentum (ffnet._tests.TestFfnetSigmoid) ... ok\n",
      "testTrainRprop (ffnet._tests.TestFfnetSigmoid) ... ok\n",
      "testTrainTnc (ffnet._tests.TestFfnetSigmoid) ... ok\n",
      "testTrainTncMp (ffnet._tests.TestFfnetSigmoid) ... "
     ]
    },
    {
     "name": "stdout",
     "output_type": "stream",
     "text": [
      "Testing results for 4 testing cases:\n",
      "OUTPUT 1 (node nr 4):\n",
      "Regression line parameters:\n",
      "slope         =  0.999989\n",
      "intercept     = -0.000009\n",
      "r-value       =  1.000000\n",
      "p-value       =  0.000000\n",
      "slope stderr  =  0.000014\n",
      "estim. stderr =  0.000014\n",
      "\n",
      "Test of genetic algorithm optimization\n",
      "Testing results for 4 testing cases:\n",
      "OUTPUT 1 (node nr 4):\n",
      "Regression line parameters:\n",
      "slope         =  0.992144\n",
      "intercept     =  0.003960\n",
      "r-value       =  0.999839\n",
      "p-value       =  0.000161\n",
      "slope stderr  =  0.012581\n",
      "estim. stderr =  0.012581\n",
      "\n",
      "Test of backpropagation momentum algorithm\n",
      "Testing results for 4 testing cases:\n",
      "OUTPUT 1 (node nr 4):\n",
      "Regression line parameters:\n",
      "slope         =  0.994933\n",
      "intercept     =  0.002470\n",
      "r-value       =  0.999999\n",
      "p-value       =  0.000001\n",
      "slope stderr  =  0.001199\n",
      "estim. stderr =  0.001199\n",
      "\n",
      "Test of rprop algorithm\n",
      "Initial error --> 0.5*(sum of squared errors at output): 0.246665505699588\n",
      "Final error   --> 0.5*(sum of squared errors at output): 0.000000000002019\n",
      "Testing results for 4 testing cases:\n",
      "OUTPUT 1 (node nr 4):\n",
      "Regression line parameters:\n",
      "slope         =  0.999997\n",
      "intercept     =  0.000002\n",
      "r-value       =  1.000000\n",
      "p-value       =  0.000000\n",
      "slope stderr  =  0.000000\n",
      "estim. stderr =  0.000000\n",
      "\n",
      "Test of TNC algorithm\n",
      "Testing results for 4 testing cases:\n",
      "OUTPUT 1 (node nr 4):\n",
      "Regression line parameters:\n",
      "slope         =  0.999998\n",
      "intercept     =  0.000002\n",
      "r-value       =  1.000000\n",
      "p-value       =  0.000000\n",
      "slope stderr  =  0.000002\n",
      "estim. stderr =  0.000002\n",
      "\n",
      "Test of TNC parallel algorithm\n"
     ]
    },
    {
     "name": "stderr",
     "output_type": "stream",
     "text": [
      "ok\n",
      "testExportNoDerivative (ffnet._tests.TestSaveLoadExport) ... "
     ]
    },
    {
     "name": "stdout",
     "output_type": "stream",
     "text": [
      "Testing results for 4 testing cases:\n",
      "OUTPUT 1 (node nr 4):\n",
      "Regression line parameters:\n",
      "slope         =  0.999997\n",
      "intercept     =  0.000002\n",
      "r-value       =  1.000000\n",
      "p-value       =  0.000000\n",
      "slope stderr  =  0.000002\n",
      "estim. stderr =  0.000002\n",
      "\n"
     ]
    },
    {
     "name": "stderr",
     "output_type": "stream",
     "text": [
      "ok\n",
      "testExportWithDerivative (ffnet._tests.TestSaveLoadExport) ... "
     ]
    },
    {
     "name": "stdout",
     "output_type": "stream",
     "text": [
      "/Volumes/PANZER/Github/learning-space/Python\n"
     ]
    },
    {
     "name": "stderr",
     "output_type": "stream",
     "text": [
      "ok\n",
      "testSaveLoad (ffnet._tests.TestSaveLoadExport) ... ok\n",
      "testNoCycles (ffnet._tests.Testbconec) ... ok\n",
      "testNoCycles (ffnet._tests.Testdconec) ... ok\n",
      "testNoCycles (ffnet._tests.Testdconec2) ... ok\n",
      "testEmpty (ffnet._tests.Testffconec) ... ok\n",
      "testNoCycles (ffnet._tests.Testffconec) ... ok\n",
      "testWithCycles (ffnet._tests.Testffconec) ... ok\n",
      "testEmpty (ffnet._tests.Testimlgraph) ... ok\n",
      "testNoBiases (ffnet._tests.Testimlgraph) ... ok\n",
      "testOneLayer (ffnet._tests.Testimlgraph) ... ok\n",
      "testThreeLayers (ffnet._tests.Testimlgraph) ... ok\n",
      "testTwoLayers (ffnet._tests.Testimlgraph) ... ok\n",
      "testEqualInRanges (ffnet._tests.Testlinear) ... ok\n",
      "testEqualOutRanges (ffnet._tests.Testlinear) ... ok\n",
      "testNormalCase (ffnet._tests.Testlinear) ... ok\n",
      "testEmpty (ffnet._tests.Testmlgraph) ... ok\n",
      "testNoBiases (ffnet._tests.Testmlgraph) ... ok\n",
      "testOneLayer (ffnet._tests.Testmlgraph) ... ok\n",
      "testThreeLayers (ffnet._tests.Testmlgraph) ... ok\n",
      "testTwoLayers (ffnet._tests.Testmlgraph) ... ok\n",
      "testEmpty (ffnet._tests.Testnormarray) ... ok\n",
      "testOneColumn (ffnet._tests.Testnormarray) ... ok\n",
      "testEmpty (ffnet._tests.Testnorms) ... ok\n",
      "testNormalCase (ffnet._tests.Testnorms) ... ok\n",
      "testOneColumn (ffnet._tests.Testnorms) ... ok\n",
      "testEmpty (ffnet._tests.Testtmlgraph) ... ok\n",
      "testNoBiases (ffnet._tests.Testtmlgraph) ... ok\n",
      "testOneLayer (ffnet._tests.Testtmlgraph) ... ok\n",
      "testThreeLayers (ffnet._tests.Testtmlgraph) ... ok\n",
      "testTwoLayers (ffnet._tests.Testtmlgraph) ... ok\n",
      "\n",
      "----------------------------------------------------------------------\n",
      "Ran 48 tests in 26.728s\n",
      "\n",
      "OK\n"
     ]
    }
   ],
   "source": [
    "from ffnet._tests import runtest\n",
    "runtest()"
   ]
  },
  {
   "cell_type": "markdown",
   "metadata": {},
   "source": [
    "# Sine training"
   ]
  },
  {
   "cell_type": "code",
   "execution_count": 2,
   "metadata": {
    "collapsed": true
   },
   "outputs": [],
   "source": [
    "### Sine training example for ffnet ###\n",
    "from ffnet import ffnet\n",
    "from math import pi, sin, cos"
   ]
  },
  {
   "cell_type": "code",
   "execution_count": 3,
   "metadata": {
    "collapsed": true
   },
   "outputs": [],
   "source": [
    "# Let's define network connectivity by hand:\n",
    "conec = [(1, 2), (1, 3), (1, 4), (1, 5), (2, 6), (3, 6), (4, 6), (5, 6), \\\n",
    "         (0, 2), (0, 3), (0, 4), (0, 5), (0, 6)]\n",
    "# Note 1: Biases in ffnet are handled as the connections\n",
    "#         from special node numbered 0. Input nodes cannot be biased.\n",
    "# Note 2: Node numbering and order of links in conec is meaningless,\n",
    "#         but the connections have to be from source to target.\n",
    "# Note 3: The same connectivity can be obtained using mlgraph function\n",
    "#         provided with ffnet (layered architecture (1,4,1))."
   ]
  },
  {
   "cell_type": "code",
   "execution_count": 4,
   "metadata": {
    "collapsed": false
   },
   "outputs": [
    {
     "data": {
      "text/plain": [
       "[(1, 2),\n",
       " (1, 3),\n",
       " (1, 4),\n",
       " (1, 5),\n",
       " (2, 6),\n",
       " (3, 6),\n",
       " (4, 6),\n",
       " (5, 6),\n",
       " (0, 2),\n",
       " (0, 3),\n",
       " (0, 4),\n",
       " (0, 5),\n",
       " (0, 6)]"
      ]
     },
     "execution_count": 4,
     "metadata": {},
     "output_type": "execute_result"
    }
   ],
   "source": [
    "conec"
   ]
  },
  {
   "cell_type": "code",
   "execution_count": 5,
   "metadata": {
    "collapsed": true
   },
   "outputs": [],
   "source": [
    "# Network creation\n",
    "net = ffnet(conec)"
   ]
  },
  {
   "cell_type": "code",
   "execution_count": 6,
   "metadata": {
    "collapsed": true
   },
   "outputs": [],
   "source": [
    "# Generation of training data (sine values for x from 0 to 2*pi)\n",
    "patterns = 16\n",
    "input = [ [ 0. ] ] + [ [ k*2*pi/patterns ] for k in xrange(1, patterns + 1) ]\n",
    "target = [ [ sin(x[0]) ] for x in input ]"
   ]
  },
  {
   "cell_type": "code",
   "execution_count": 7,
   "metadata": {
    "collapsed": false
   },
   "outputs": [
    {
     "name": "stdout",
     "output_type": "stream",
     "text": [
      "FINDING STARTING WEIGHTS WITH GENETIC ALGORITHM...\n",
      "TRAINING NETWORK...\n"
     ]
    }
   ],
   "source": [
    "# Training network\n",
    "#first find good starting point with genetic algorithm (not necessary, but may be helpful)\n",
    "print \"FINDING STARTING WEIGHTS WITH GENETIC ALGORITHM...\"\n",
    "net.train_genetic(input, target, individuals=20, generations=500)\n",
    "\n",
    "#then train with scipy tnc optimizer\n",
    "print \"TRAINING NETWORK...\"\n",
    "net.train_tnc(input, target, maxfun = 5000, messages=1)"
   ]
  },
  {
   "cell_type": "code",
   "execution_count": 8,
   "metadata": {
    "collapsed": false
   },
   "outputs": [
    {
     "name": "stdout",
     "output_type": "stream",
     "text": [
      "\n",
      "TESTNG NETWORK...\n",
      "Feed-forward neural network: \n",
      "inputs:     1 \n",
      "hiddens:    4 \n",
      "outputs:    1 \n",
      "connections and biases:   13\n",
      "\n",
      "Testing results for 17 testing cases:\n",
      "OUTPUT 1 (node nr 6):\n",
      "Targets vs. outputs:\n",
      "   1      0.000000      0.006884\n",
      "   2      0.382683      0.362441\n",
      "   3      0.707107      0.729520\n",
      "   4      0.923880      0.933329\n",
      "   5      1.000000      0.975714\n",
      "   6      0.923880      0.900476\n",
      "   7      0.707107      0.714394\n",
      "   8      0.382683      0.409005\n",
      "   9      0.000000      0.007564\n",
      "  10     -0.382683     -0.404109\n",
      "  11     -0.707107     -0.725041\n",
      "  12     -0.923880     -0.913237\n",
      "  13     -1.000000     -0.977272\n",
      "  14     -0.923880     -0.921823\n",
      "  15     -0.707107     -0.722717\n",
      "  16     -0.382683     -0.376682\n",
      "  17     -0.000000     -0.000549\n",
      "Regression line parameters:\n",
      "slope         =  0.997664\n",
      "intercept     = -0.000124\n",
      "r-value       =  0.999709\n",
      "p-value       =  0.000000\n",
      "slope stderr  =  0.006218\n",
      "estim. stderr =  0.017589\n",
      "\n"
     ]
    }
   ],
   "source": [
    "# Testing network\n",
    "print\n",
    "print \"TESTNG NETWORK...\"\n",
    "output, regression = net.test(input, target, iprint = 2)"
   ]
  },
  {
   "cell_type": "code",
   "execution_count": 9,
   "metadata": {
    "collapsed": false
   },
   "outputs": [
    {
     "data": {
      "image/png": "[encoded data removed]",
      "text/plain": [
       "<matplotlib.figure.Figure at 0x10eeb0950>"
      ]
     },
     "metadata": {},
     "output_type": "display_data"
    }
   ],
   "source": [
    "#################\n",
    "# Make some plots\n",
    "try:\n",
    "    from pylab import *\n",
    "    points = 128\n",
    "    xaxis = [ 0. ] + [ k*2*pi/points for k in xrange(1, points + 1) ]\n",
    "    sine = [ sin(x) for x in xaxis ]\n",
    "    cosine = [ cos(x) for x in xaxis ]\n",
    "    netsine = [ net([x])[0] for x in xaxis]\n",
    "    netcosine = [ net.derivative([x])[0][0] for x in xaxis ]\n",
    "\n",
    "    subplot(211)\n",
    "    plot(xaxis, sine, 'b--', xaxis, netsine, 'k-')\n",
    "    legend(('sine', 'network output'))\n",
    "    grid(True)\n",
    "    title('Outputs of trained network.')\n",
    "\n",
    "    subplot(212)\n",
    "    plot(xaxis, cosine, 'b--', xaxis, netcosine, 'k-')\n",
    "    legend(('cosine', 'network derivative'))\n",
    "    grid(True)\n",
    "    show()\n",
    "except ImportError:\n",
    "    print \"Cannot make plots. For plotting install matplotlib...\""
   ]
  },
  {
   "cell_type": "markdown",
   "metadata": {},
   "source": [
    "# Parallel training"
   ]
  },
  {
   "cell_type": "code",
   "execution_count": 10,
   "metadata": {
    "collapsed": true
   },
   "outputs": [],
   "source": [
    "### Multiprocessing training example for ffnet ###\n",
    "from ffnet import ffnet, mlgraph\n",
    "from scipy import rand"
   ]
  },
  {
   "cell_type": "code",
   "execution_count": 11,
   "metadata": {
    "collapsed": true
   },
   "outputs": [],
   "source": [
    "# Generate random training data (large)\n",
    "input = rand(10000, 10)\n",
    "target = rand(10000, 1)"
   ]
  },
  {
   "cell_type": "code",
   "execution_count": 12,
   "metadata": {
    "collapsed": true
   },
   "outputs": [],
   "source": [
    "# Define net (large one)\n",
    "conec = mlgraph((10,300,1))\n",
    "net = ffnet(conec)"
   ]
  },
  {
   "cell_type": "code",
   "execution_count": 13,
   "metadata": {
    "collapsed": false
   },
   "outputs": [
    {
     "name": "stdout",
     "output_type": "stream",
     "text": [
      "TRAINING, this can take a while...\n",
      "1 processes: 21.9666740894 s\n",
      "2 processes: 10.1439838409 s\n",
      "3 processes: 8.87527704239 s\n",
      "4 processes: 8.26030898094 s\n"
     ]
    }
   ],
   "source": [
    "# Test training speed-up\n",
    "# Note that the below *if* is necessary only on Windows\n",
    "if __name__=='__main__':    \n",
    "    from time import time\n",
    "    from multiprocessing import cpu_count\n",
    "    \n",
    "    # Preserve original weights\n",
    "    weights0 = net.weights.copy()\n",
    "    \n",
    "    print \"TRAINING, this can take a while...\"\n",
    "    for n in range(1, cpu_count()+1):\n",
    "        net.weights[:] = weights0  #Start always from the same point\n",
    "        t0 = time()\n",
    "        net.train_tnc(input, target, nproc = n, maxfun=50, messages=0)\n",
    "        t1 = time()\n",
    "        print '%s processes: %s s' %(n, t1-t0)"
   ]
  },
  {
   "cell_type": "markdown",
   "metadata": {},
   "source": [
    "# Black-Scholes option pricing"
   ]
  },
  {
   "cell_type": "code",
   "execution_count": 14,
   "metadata": {
    "collapsed": true
   },
   "outputs": [],
   "source": [
    "### stock problem example for ffnet ###\n",
    "\n",
    "# Data and description for this example is borrowed from:\n",
    "# http://www.scientific-consultants.com/nnbd.html\n",
    "#\n",
    "#\n",
    "# Training data consists of Black-Scholes option prices\n",
    "# for volatility levels running from 20 percent to 200 percent,\n",
    "# for time remaining running from 5 to 15 days, and for strike price\n",
    "# running from 70 dollars to 130 dollars. The stock price was set to\n",
    "# 100 dollars and the interest rate to 0 percent when generating\n",
    "# the data.\n",
    "#\n",
    "# The data is \"difficult\" in that (for a neural network to\n",
    "# practically emulate Black-Scholes) a very tight fit is required.\n",
    "# The R-squared should be at least 0.999999 or better, and the largest\n",
    "# absolute error must be less than 0.05 dollars (the price increment\n",
    "# for most options) or, better yet, less than 0.01 dollars.\n",
    "#\n",
    "#\n",
    "# So let's try.\n",
    "# Attention: training might be a long process since we train a big network.\n",
    "from ffnet import ffnet, mlgraph, readdata\n",
    "from numpy import array"
   ]
  },
  {
   "cell_type": "code",
   "execution_count": 15,
   "metadata": {
    "collapsed": true
   },
   "outputs": [],
   "source": [
    "# Generate standard layered network architecture and create network\n",
    "conec = mlgraph((3,22,12,1))\n",
    "net = ffnet(conec)"
   ]
  },
  {
   "cell_type": "code",
   "execution_count": 16,
   "metadata": {
    "collapsed": false
   },
   "outputs": [
    {
     "name": "stdout",
     "output_type": "stream",
     "text": [
      "READING DATA...\n"
     ]
    }
   ],
   "source": [
    "# Read training data omitting first column and first line\n",
    "print \"READING DATA...\"\n",
    "data = readdata( '/Volumes/PANZER/Github/learning-space/Datasets/04 - Linear Regression/black-scholes.dat',\n",
    "                 usecols  = (1, 2, 3, 4),\n",
    "                 skiprows =  1)\n",
    "input =  data[:, :3] #first 3 columns\n",
    "target = data[:, -1] #last column"
   ]
  },
  {
   "cell_type": "code",
   "execution_count": 17,
   "metadata": {
    "collapsed": false
   },
   "outputs": [
    {
     "name": "stdout",
     "output_type": "stream",
     "text": [
      "TRAINING NETWORK...\n"
     ]
    }
   ],
   "source": [
    "print \"TRAINING NETWORK...\"\n",
    "import sys; sys.stdout.flush() #Just to ensure dislpaing the above messages here\n",
    "net.train_tnc(input, target, maxfun = 5000, messages=1)"
   ]
  },
  {
   "cell_type": "code",
   "execution_count": 18,
   "metadata": {
    "collapsed": false
   },
   "outputs": [
    {
     "name": "stdout",
     "output_type": "stream",
     "text": [
      "\n",
      "TESTING NETWORK...\n",
      "R-squared:           0.999999492609  (should be >= 0.999999)\n",
      "max. absolute error: 0.0491859182921  (should be <= 0.05)\n",
      "\n",
      "Is ffnet ready for a stock?\n"
     ]
    }
   ],
   "source": [
    "# Test network\n",
    "print\n",
    "print \"TESTING NETWORK...\"\n",
    "output, regression = net.test(input, target, iprint = 0)\n",
    "Rsquared = regression[0][2]\n",
    "maxerr = abs( array(output).reshape( len(output) ) - array(target) ).max()\n",
    "print \"R-squared:           %s  (should be >= 0.999999)\" %str(Rsquared)\n",
    "print \"max. absolute error: %s  (should be <= 0.05)\" %str(maxerr)\n",
    "print\n",
    "print \"Is ffnet ready for a stock?\""
   ]
  },
  {
   "cell_type": "code",
   "execution_count": 19,
   "metadata": {
    "collapsed": false
   },
   "outputs": [
    {
     "data": {
      "image/png": "[encoded data removed]",
      "text/plain": [
       "<matplotlib.figure.Figure at 0x10f70d410>"
      ]
     },
     "metadata": {},
     "output_type": "display_data"
    }
   ],
   "source": [
    "#####################################\n",
    "# Make plot if matplotlib is avialble\n",
    "try:\n",
    "    from pylab import *\n",
    "    plot( target, 'b--' )\n",
    "    plot( output, 'k-' )\n",
    "    legend(('target', 'output'))\n",
    "    xlabel('pattern'); ylabel('price')\n",
    "    title('Outputs vs. target of trained network.')\n",
    "    grid(True)\n",
    "    show()\n",
    "except ImportError, e:\n",
    "    print \"Cannot make plots. For plotting install matplotlib.\\n%s\" % e"
   ]
  },
  {
   "cell_type": "markdown",
   "metadata": {},
   "source": [
    "# XOR Problem"
   ]
  },
  {
   "cell_type": "code",
   "execution_count": 20,
   "metadata": {
    "collapsed": true
   },
   "outputs": [],
   "source": [
    "### XOR problem example for ffnet ###\n",
    "from ffnet import ffnet, mlgraph"
   ]
  },
  {
   "cell_type": "code",
   "execution_count": 21,
   "metadata": {
    "collapsed": true
   },
   "outputs": [],
   "source": [
    "# Generate standard layered network architecture and create network\n",
    "conec = mlgraph((2,2,1))\n",
    "net = ffnet(conec)"
   ]
  },
  {
   "cell_type": "code",
   "execution_count": 22,
   "metadata": {
    "collapsed": true
   },
   "outputs": [],
   "source": [
    "# Define training data\n",
    "input = [[0.,0.], [0.,1.], [1.,0.], [1.,1.]]\n",
    "target  = [[1.], [0.], [0.], [1.]]"
   ]
  },
  {
   "cell_type": "code",
   "execution_count": 23,
   "metadata": {
    "collapsed": false
   },
   "outputs": [
    {
     "name": "stdout",
     "output_type": "stream",
     "text": [
      "FINDING STARTING WEIGHTS WITH GENETIC ALGORITHM...\n",
      "TRAINING NETWORK...\n"
     ]
    }
   ],
   "source": [
    "# Train network\n",
    "#first find good starting point with genetic algorithm (not necessary, but may be helpful)\n",
    "print \"FINDING STARTING WEIGHTS WITH GENETIC ALGORITHM...\"\n",
    "net.train_genetic(input, target, individuals=20, generations=500)\n",
    "#then train with scipy tnc optimizer\n",
    "print \"TRAINING NETWORK...\"\n",
    "net.train_tnc(input, target, maxfun = 1000, messages=1)"
   ]
  },
  {
   "cell_type": "code",
   "execution_count": 24,
   "metadata": {
    "collapsed": false
   },
   "outputs": [
    {
     "name": "stdout",
     "output_type": "stream",
     "text": [
      "\n",
      "TESTING NETWORK...\n",
      "Feed-forward neural network: \n",
      "inputs:     2 \n",
      "hiddens:    2 \n",
      "outputs:    1 \n",
      "connections and biases:    9\n",
      "\n",
      "Testing results for 4 testing cases:\n",
      "OUTPUT 1 (node nr 5):\n",
      "Targets vs. outputs:\n",
      "   1      1.000000      0.999992\n",
      "   2      0.000000      0.000006\n",
      "   3      0.000000      0.000000\n",
      "   4      1.000000      1.000003\n",
      "Regression line parameters:\n",
      "slope         =  0.999995\n",
      "intercept     =  0.000003\n",
      "r-value       =  1.000000\n",
      "p-value       =  0.000000\n",
      "slope stderr  =  0.000006\n",
      "estim. stderr =  0.000006\n",
      "\n"
     ]
    }
   ],
   "source": [
    "# Test network\n",
    "print\n",
    "print \"TESTING NETWORK...\"\n",
    "output, regression = net.test(input, target, iprint = 2)"
   ]
  },
  {
   "cell_type": "code",
   "execution_count": 25,
   "metadata": {
    "collapsed": false
   },
   "outputs": [
    {
     "name": "stdout",
     "output_type": "stream",
     "text": [
      "Network is saved...\n",
      "Network is reloaded...\n",
      "Network is tested again, but nothing is printed...\n",
      "\n",
      "Exporting trained network to the fortran source...\n",
      "Done...\n",
      "Look at the generated xor.f file.\n",
      "Note: you must compile xor.f along with the ffnet.f\n",
      "file which can be found in ffnet sources.\n"
     ]
    }
   ],
   "source": [
    "# Save/load/export network\n",
    "from ffnet import savenet, loadnet, exportnet\n",
    "print \"Network is saved...\"\n",
    "savenet(net, \"xor.net\")\n",
    "print \"Network is reloaded...\"\n",
    "net = loadnet(\"xor.net\")\n",
    "print \"Network is tested again, but nothing is printed...\"\n",
    "output, regression = net.test(input, target, iprint = 0)\n",
    "print\n",
    "print \"Exporting trained network to the fortran source...\"\n",
    "exportnet(net, \"xor.f\")\n",
    "print \"Done...\"\n",
    "print \"Look at the generated xor.f file.\"\n",
    "print \"Note: you must compile xor.f along with the ffnet.f\"\n",
    "print \"file which can be found in ffnet sources.\""
   ]
  },
  {
   "cell_type": "markdown",
   "metadata": {},
   "source": [
    "# Pattern Recognition"
   ]
  },
  {
   "cell_type": "code",
   "execution_count": 26,
   "metadata": {
    "collapsed": true
   },
   "outputs": [],
   "source": [
    "### Digits recognition example for ffnet ###\n",
    "\n",
    "# Training file (data/ocr.dat) contains 68 patterns - first 58\n",
    "# are used for training and last 10 are used for testing.\n",
    "# Each pattern contains 64 inputs which define 8x8 bitmap of\n",
    "# the digit and last 10 numbers are the targets (10 targets for 10 digits).\n",
    "# Layered network architecture is used here: (64, 10, 10, 10).\n",
    "\n",
    "from ffnet import ffnet, mlgraph, readdata"
   ]
  },
  {
   "cell_type": "code",
   "execution_count": 27,
   "metadata": {
    "collapsed": true
   },
   "outputs": [],
   "source": [
    "# Generate standard layered network architecture and create network\n",
    "conec = mlgraph((64,10,10,10))\n",
    "net = ffnet(conec)"
   ]
  },
  {
   "cell_type": "code",
   "execution_count": 28,
   "metadata": {
    "collapsed": false
   },
   "outputs": [
    {
     "name": "stdout",
     "output_type": "stream",
     "text": [
      "READING DATA...\n"
     ]
    }
   ],
   "source": [
    "# Read data file\n",
    "print \"READING DATA...\"\n",
    "data = readdata( '/Volumes/PANZER/Github/learning-space/Datasets/03 - Clustering/ocr_dat.txt', delimiter = ' ' )\n",
    "input =  data[:, :64] #first 64 columns - bitmap definition\n",
    "target = data[:, 64:] #the rest - 10 columns for 10 digits"
   ]
  },
  {
   "cell_type": "code",
   "execution_count": 29,
   "metadata": {
    "collapsed": false
   },
   "outputs": [
    {
     "name": "stdout",
     "output_type": "stream",
     "text": [
      "TRAINING NETWORK...\n"
     ]
    }
   ],
   "source": [
    "# Train network with scipy tnc optimizer - 58 lines used for training\n",
    "print \"TRAINING NETWORK...\"\n",
    "net.train_tnc(input[:58], target[:58], maxfun = 2000, messages=1)"
   ]
  },
  {
   "cell_type": "code",
   "execution_count": 30,
   "metadata": {
    "collapsed": false
   },
   "outputs": [
    {
     "name": "stdout",
     "output_type": "stream",
     "text": [
      "\n",
      "TESTING NETWORK...\n",
      "Feed-forward neural network: \n",
      "inputs:    64 \n",
      "hiddens:   20 \n",
      "outputs:   10 \n",
      "connections and biases:  870\n",
      "\n",
      "Testing results for 10 testing cases:\n",
      "OUTPUT 1 (node nr 85):\n",
      "Targets vs. outputs:\n",
      "   1      1.000000      1.001101\n",
      "   2      0.000000     -0.004047\n",
      "   3      0.000000      0.000067\n",
      "   4      0.000000     -0.000126\n",
      "   5      0.000000      0.016843\n",
      "   6      0.000000     -0.012481\n",
      "   7      0.000000     -0.142786\n",
      "   8      0.000000      0.828782\n",
      "   9      0.000000     -0.034669\n",
      "  10      0.000000     -0.000063\n",
      "Regression line parameters:\n",
      "slope         =  0.928710\n",
      "intercept     =  0.072391\n",
      "r-value       =  0.734717\n",
      "p-value       =  0.015504\n",
      "slope stderr  =  0.303169\n",
      "estim. stderr =  0.287611\n",
      "\n",
      "OUTPUT 2 (node nr 86):\n",
      "Targets vs. outputs:\n",
      "   1      0.000000     -0.000208\n",
      "   2      1.000000      0.987324\n",
      "   3      0.000000     -0.000404\n",
      "   4      0.000000      0.000044\n",
      "   5      0.000000      0.758051\n",
      "   6      0.000000     -0.000667\n",
      "   7      0.000000      0.053858\n",
      "   8      0.000000     -0.056031\n",
      "   9      0.000000     -0.009542\n",
      "  10      0.000000      0.000032\n",
      "Regression line parameters:\n",
      "slope         =  0.904532\n",
      "intercept     =  0.082792\n",
      "r-value       =  0.765856\n",
      "p-value       =  0.009803\n",
      "slope stderr  =  0.268504\n",
      "estim. stderr =  0.254726\n",
      "\n",
      "OUTPUT 3 (node nr 87):\n",
      "Targets vs. outputs:\n",
      "   1      0.000000      0.004053\n",
      "   2      0.000000      0.000347\n",
      "   3      1.000000      0.996924\n",
      "   4      0.000000     -0.000017\n",
      "   5      0.000000     -0.101038\n",
      "   6      0.000000      0.026276\n",
      "   7      0.000000     -0.041482\n",
      "   8      0.000000     -0.160940\n",
      "   9      0.000000      0.011173\n",
      "  10      0.000000     -0.000050\n",
      "Regression line parameters:\n",
      "slope         =  1.025999\n",
      "intercept     = -0.029075\n",
      "r-value       =  0.984003\n",
      "p-value       =  0.000000\n",
      "slope stderr  =  0.065674\n",
      "estim. stderr =  0.062304\n",
      "\n",
      "OUTPUT 4 (node nr 88):\n",
      "Targets vs. outputs:\n",
      "   1      0.000000     -0.000364\n",
      "   2      0.000000      0.001337\n",
      "   3      0.000000     -0.000476\n",
      "   4      1.000000      1.003876\n",
      "   5      0.000000      0.083431\n",
      "   6      0.000000      0.041490\n",
      "   7      0.000000      0.047000\n",
      "   8      0.000000     -0.114411\n",
      "   9      0.000000     -0.001013\n",
      "  10      0.000000     -0.000025\n",
      "Regression line parameters:\n",
      "slope         =  0.997546\n",
      "intercept     =  0.006330\n",
      "r-value       =  0.987066\n",
      "p-value       =  0.000000\n",
      "slope stderr  =  0.057281\n",
      "estim. stderr =  0.054341\n",
      "\n",
      "OUTPUT 5 (node nr 89):\n",
      "Targets vs. outputs:\n",
      "   1      0.000000     -0.000127\n",
      "   2      0.000000     -0.001705\n",
      "   3      0.000000     -0.000254\n",
      "   4      0.000000      0.000022\n",
      "   5      1.000000      1.039808\n",
      "   6      0.000000      0.067136\n",
      "   7      0.000000     -0.111124\n",
      "   8      0.000000      0.098719\n",
      "   9      0.000000      0.011443\n",
      "  10      0.000000     -0.000182\n",
      "Regression line parameters:\n",
      "slope         =  1.032705\n",
      "intercept     =  0.007103\n",
      "r-value       =  0.986584\n",
      "p-value       =  0.000000\n",
      "slope stderr  =  0.060416\n",
      "estim. stderr =  0.057316\n",
      "\n",
      "OUTPUT 6 (node nr 90):\n",
      "Targets vs. outputs:\n",
      "   1      0.000000      0.000153\n",
      "   2      0.000000      0.003518\n",
      "   3      0.000000     -0.004707\n",
      "   4      0.000000     -0.003914\n",
      "   5      0.000000     -0.039824\n",
      "   6      1.000000      0.977957\n",
      "   7      0.000000      0.080058\n",
      "   8      0.000000     -0.112857\n",
      "   9      0.000000      0.014743\n",
      "  10      0.000000     -0.000020\n",
      "Regression line parameters:\n",
      "slope         =  0.984940\n",
      "intercept     = -0.006983\n",
      "r-value       =  0.988430\n",
      "p-value       =  0.000000\n",
      "slope stderr  =  0.053438\n",
      "estim. stderr =  0.050696\n",
      "\n",
      "OUTPUT 7 (node nr 91):\n",
      "Targets vs. outputs:\n",
      "   1      0.000000      0.001086\n",
      "   2      0.000000      0.001643\n",
      "   3      0.000000      0.001846\n",
      "   4      0.000000      0.000092\n",
      "   5      0.000000     -0.016090\n",
      "   6      0.000000      0.073362\n",
      "   7      1.000000      0.578924\n",
      "   8      0.000000      0.002098\n",
      "   9      0.000000      0.006806\n",
      "  10      0.000000      0.000431\n",
      "Regression line parameters:\n",
      "slope         =  0.571005\n",
      "intercept     =  0.007919\n",
      "r-value       =  0.991364\n",
      "p-value       =  0.000000\n",
      "slope stderr  =  0.026705\n",
      "estim. stderr =  0.025334\n",
      "\n",
      "OUTPUT 8 (node nr 92):\n",
      "Targets vs. outputs:\n",
      "   1      0.000000     -0.002216\n",
      "   2      0.000000      0.002898\n",
      "   3      0.000000      0.000048\n",
      "   4      0.000000     -0.000050\n",
      "   5      0.000000      0.131961\n",
      "   6      0.000000      0.036445\n",
      "   7      0.000000      0.022635\n",
      "   8      1.000000      0.166409\n",
      "   9      0.000000     -0.006157\n",
      "  10      0.000000     -0.000209\n",
      "Regression line parameters:\n",
      "slope         =  0.145815\n",
      "intercept     =  0.020595\n",
      "r-value       =  0.743420\n",
      "p-value       =  0.013725\n",
      "slope stderr  =  0.046380\n",
      "estim. stderr =  0.044000\n",
      "\n",
      "OUTPUT 9 (node nr 93):\n",
      "Targets vs. outputs:\n",
      "   1      0.000000     -0.000415\n",
      "   2      0.000000     -0.000807\n",
      "   3      0.000000     -0.003316\n",
      "   4      0.000000     -0.000146\n",
      "   5      0.000000     -0.054741\n",
      "   6      0.000000     -0.028932\n",
      "   7      0.000000      0.309778\n",
      "   8      0.000000      0.803751\n",
      "   9      1.000000      0.981238\n",
      "  10      0.000000      0.000136\n",
      "Regression line parameters:\n",
      "slope         =  0.867315\n",
      "intercept     =  0.113923\n",
      "r-value       =  0.719982\n",
      "p-value       =  0.018872\n",
      "slope stderr  =  0.295573\n",
      "estim. stderr =  0.280406\n",
      "\n",
      "OUTPUT 10 (node nr 94):\n",
      "Targets vs. outputs:\n",
      "   1      0.000000     -0.004733\n",
      "   2      0.000000      0.011562\n",
      "   3      0.000000      0.008162\n",
      "   4      0.000000      0.000066\n",
      "   5      0.000000     -0.114145\n",
      "   6      0.000000     -0.019051\n",
      "   7      0.000000      0.355938\n",
      "   8      0.000000     -0.117121\n",
      "   9      0.000000     -0.008632\n",
      "  10      1.000000      0.999729\n",
      "Regression line parameters:\n",
      "slope         =  0.987280\n",
      "intercept     =  0.012450\n",
      "r-value       =  0.922896\n",
      "p-value       =  0.000141\n",
      "slope stderr  =  0.145632\n",
      "estim. stderr =  0.138159\n",
      "\n"
     ]
    }
   ],
   "source": [
    "# Test network - remaining 10 lines used for testing\n",
    "print\n",
    "print \"TESTING NETWORK...\"\n",
    "output, regression = net.test(input[58:], target[58:], iprint = 2)"
   ]
  },
  {
   "cell_type": "code",
   "execution_count": 31,
   "metadata": {
    "collapsed": false
   },
   "outputs": [
    {
     "data": {
      "image/png": "[encoded data removed]",
      "text/plain": [
       "<matplotlib.figure.Figure at 0x10e0a6a90>"
      ]
     },
     "metadata": {},
     "output_type": "display_data"
    }
   ],
   "source": [
    "############################################################\n",
    "# Make a plot of a chosen digit along with the network guess\n",
    "try:\n",
    "    from pylab import *\n",
    "    from random import randint\n",
    "\n",
    "    digitpat = randint(58, 67) #Choose testing pattern to plot\n",
    "\n",
    "    subplot(211)\n",
    "    imshow(input[digitpat].reshape(8,8), interpolation = 'nearest')\n",
    "\n",
    "    subplot(212)\n",
    "    N = 10  # number of digits / network outputs\n",
    "    ind = arange(N)   # the x locations for the groups\n",
    "    width = 0.35       # the width of the bars\n",
    "    bar(ind, net(input[digitpat]), width, color='b') #make a plot\n",
    "    xticks(ind+width/2., ('1', '2', '3', '4', '5', '6', '7', '8', '9', '0'))\n",
    "    xlim(-width,N-width)\n",
    "    axhline(linewidth=1, color='black')\n",
    "    title(\"Trained network (64-10-10-10) guesses a digit above...\")\n",
    "    xlabel(\"Digit\")\n",
    "    ylabel(\"Network outputs\")\n",
    "    show()\n",
    "except ImportError, e:\n",
    "    print \"Cannot make plots. For plotting install matplotlib.\\n%s\" % e"
   ]
  }
 ],
 "metadata": {
  "kernelspec": {
   "display_name": "Python 2",
   "language": "python",
   "name": "python2"
  },
  "language_info": {
   "codemirror_mode": {
    "name": "ipython",
    "version": 2
   },
   "file_extension": ".py",
   "mimetype": "text/x-python",
   "name": "python",
   "nbconvert_exporter": "python",
   "pygments_lexer": "ipython2",
   "version": "2.7.13"
  }
 },
 "nbformat": 4,
 "nbformat_minor": 2
}
