{
 "cells": [
  {
   "cell_type": "markdown",
   "metadata": {},
   "source": [
    "Tutorial from [RASA NLU](https://github.com/golastmile/rasa_nlu/blob/master/docs/tutorial.rst).\n",
    "\n",
    "## 0) Installation \n",
    "\n",
    "MITTE: For _corpus_  \n",
    "`pip install git+https://github.com/mit-nlp/MITIE.git`\n",
    "\n",
    "Spacy: For _corpus_  \n",
    "`pip install -U spacy`\n",
    "\n",
    "Rasa NLU: For NLP programming  \n",
    "`pip install rasa_nlu`\n",
    "\n",
    "Flask: For API/Web Service support  \n",
    "`pip install flask`\n",
    "\n",
    "Gevent: For coroutines with the API  \n",
    "`pip install gevent`"
   ]
  },
  {
   "cell_type": "markdown",
   "metadata": {},
   "source": [
    "## 1) Initiate the server  \n",
    "`$ python -m rasa_nlu.server`"
   ]
  },
  {
   "cell_type": "code",
   "execution_count": 1,
   "metadata": {
    "collapsed": true
   },
   "outputs": [],
   "source": [
    "# INFO:root:Configuration: {\n",
    "#     \"num_threads\": 1,\n",
    "#     \"log_level\": 20,\n",
    "#     \"language\": \"en\",\n",
    "#     \"mitie_file\": \"data/total_word_feature_extractor.dat\",\n",
    "#     \"emulate\": null,\n",
    "#     \"config\": \"config.json\",\n",
    "#     \"response_log\": \"/Users/flavio.clesio/logs\",\n",
    "#     \"server_model_dirs\": null,\n",
    "#     \"fine_tune_spacy_ner\": false,\n",
    "#     \"token\": null,\n",
    "#     \"path\": \"/Users/flavio.clesio/models\",\n",
    "#     \"log_file\": null,\n",
    "#     \"data\": null,\n",
    "#     \"port\": 5000,\n",
    "#     \"backend\": \"mitie\"\n",
    "# }\n",
    "# INFO:root:Logging requests to '/Users/flavio.clesio/logs/rasa_nlu_log-20170423-110825-12766.log'.\n",
    "# INFO:root:Started http server on port 5000\n",
    "# 127.0.0.1 - - [2017-04-23 11:08:39] \"GET /parse?q=hello HTTP/1.1\" 200 193 0.002418\n",
    "# 127.0.0.1 - - [2017-04-23 11:08:40] \"GET /favicon.ico HTTP/1.1\" 404 342 0.020442\n"
   ]
  },
  {
   "cell_type": "markdown",
   "metadata": {},
   "source": [
    "## 2) In shell script to see the version  \n",
    "`$ python -c \"import rasa_nlu; print rasa_nlu.__version__\"`\n"
   ]
  },
  {
   "cell_type": "markdown",
   "metadata": {},
   "source": [
    "## 3) Train the model using Mitte background  \n",
    "`$ python -m rasa_nlu.train -c config_mitie.json`"
   ]
  },
  {
   "cell_type": "code",
   "execution_count": 2,
   "metadata": {
    "collapsed": false
   },
   "outputs": [],
   "source": [
    "# Training to recognize 4 categories: 'greet', 'restaurant_search', 'affirm', 'goodbye'\n",
    "# Train classifier\n",
    "# extracting text features\n",
    "# now do training\n",
    "# num training samples: 51\n",
    "# C: 200   f-score: 0.84\n",
    "# C: 400   f-score: 0.84\n",
    "# C: 300   f-score: 0.84\n",
    "# C: 100   f-score: 0.84\n",
    "# C: 0.01   f-score: 0.74\n",
    "# C: 600   f-score: 0.84\n",
    "# C: 1400   f-score: 0.84\n",
    "# C: 3000   f-score: 0.84\n",
    "# C: 5000   f-score: 0.84\n",
    "# C: 2550   f-score: 0.84\n",
    "# C: 1325   f-score: 0.84\n",
    "# C: 712.5   f-score: 0.84\n",
    "# C: 406.25   f-score: 0.84\n",
    "# C: 253.125   f-score: 0.84\n",
    "# C: 176.562   f-score: 0.84\n",
    "# C: 138.281   f-score: 0.84\n",
    "# C: 119.141   f-score: 0.84\n",
    "# C: 109.57   f-score: 0.84\n",
    "# C: 104.785   f-score: 0.84\n",
    "# C: 102.393   f-score: 0.84\n",
    "# C: 101.196   f-score: 0.84\n",
    "# C: 100.598   f-score: 0.84\n",
    "# C: 100.299   f-score: 0.84\n",
    "# best C: 100.598\n",
    "# test on train:\n",
    "# 10  0  0  0\n",
    "#  0 17  0  0\n",
    "#  0  0 14  0\n",
    "#  0  0  0 10\n",
    "\n",
    "# overall accuracy: 1\n",
    "# Training time: 535 seconds.\n",
    "# df.number_of_classes(): 4\n",
    "\n",
    "# Training to recognize 2 labels: 'location', 'cuisine'\n",
    "# Part I: train segmenter\n",
    "# words in dictionary: 200000\n",
    "# num features: 271\n",
    "# now do training\n",
    "# C:           20\n",
    "# epsilon:     0.01\n",
    "# num threads: 1\n",
    "# cache size:  5\n",
    "# max iterations: 2000\n",
    "# loss per missed segment:  3\n",
    "# C: 20   loss: 3 \t1\n",
    "# C: 35   loss: 3 \t1\n",
    "# C: 20   loss: 4.5 \t1\n",
    "# C: 5   loss: 3 \t1\n",
    "# C: 20   loss: 1.5 \t0.888889\n",
    "# C: 20   loss: 3.75 \t1\n",
    "# C: 21.5   loss: 3 \t1\n",
    "# C: 20   loss: 3.375 \t1\n",
    "# C: 18.5   loss: 3 \t1\n",
    "# C: 20   loss: 3.1875 \t1\n",
    "# C: 20   loss: 2.9 \t1\n",
    "# C: 20   loss: 2.9 \t1\n",
    "# C: 20   loss: 2.97801 \t1\n",
    "# best C: 20\n",
    "# best loss: 3\n",
    "# num feats in chunker model: 4095\n",
    "# train: precision, recall, f1-score: 1 1 1\n",
    "# Part I: elapsed time: 1 seconds.\n",
    "\n",
    "# Part II: train segment classifier\n",
    "# now do training\n",
    "# num training samples: 9\n",
    "# C: 200   f-score: 1\n",
    "# C: 400   f-score: 1\n",
    "# C: 300   f-score: 1\n",
    "# C: 100   f-score: 1\n",
    "# C: 0.01   f-score: 0.875\n",
    "# C: 600   f-score: 1\n",
    "# C: 1400   f-score: 1\n",
    "# C: 3000   f-score: 1\n",
    "# C: 5000   f-score: 1\n",
    "# C: 2550   f-score: 1\n",
    "# C: 1325   f-score: 1\n",
    "# C: 712.5   f-score: 1\n",
    "# C: 406.25   f-score: 1\n",
    "# C: 253.125   f-score: 1\n",
    "# C: 176.562   f-score: 1\n",
    "# C: 138.281   f-score: 1\n",
    "# C: 119.141   f-score: 1\n",
    "# C: 109.57   f-score: 1\n",
    "# C: 104.785   f-score: 1\n",
    "# C: 102.393   f-score: 1\n",
    "# C: 101.196   f-score: 1\n",
    "# C: 100.598   f-score: 1\n",
    "# C: 100.299   f-score: 1\n",
    "# best C: 100.598\n",
    "# test on train:\n",
    "# 4 0\n",
    "# 0 5\n",
    "\n",
    "# overall accuracy: 1\n",
    "# Part II: elapsed time: 9 seconds.\n",
    "# df.number_of_classes(): 2"
   ]
  },
  {
   "cell_type": "markdown",
   "metadata": {},
   "source": [
    "## 4) See new folder created  \n",
    "`$ cd /Users/flavio.clesio/Desktop/RASA_NLU/models/model_20170423-130702`"
   ]
  },
  {
   "cell_type": "markdown",
   "metadata": {},
   "source": [
    "## 5) See contents \n",
    "`$model_20170423-130702 ls`  \n",
    "\n",
    "`entity_extractor.dat`  \n",
    "`intent_classifier.dat`  \n",
    "`training_data.json`  \n",
    "`index.json`  \n",
    "`metadata.json`"
   ]
  },
  {
   "cell_type": "markdown",
   "metadata": {},
   "source": [
    "## 6) Use the model  \n",
    "`$RASA_NLU python -m rasa_nlu.server -c config_spacy.json --server_model_dirs=./model_20170423-130702`"
   ]
  },
  {
   "cell_type": "markdown",
   "metadata": {},
   "source": [
    "## 7) Kill who's using the port(Because I've made a test before)  \n",
    "`$ lsof -i :5000`  \n",
    "`$ kill 12766`"
   ]
  },
  {
   "cell_type": "markdown",
   "metadata": {},
   "source": [
    "## 8) Request to see the cousine  \n",
    "`$ curl -XPOST localhost:5000/parse -d '{\"q\":\"I am looking for Chinese food\"}' | python -mjson.tool`"
   ]
  },
  {
   "cell_type": "code",
   "execution_count": 3,
   "metadata": {
    "collapsed": true
   },
   "outputs": [],
   "source": [
    "# % Total    % Received % Xferd  Average Speed   Time    Time     Time  Current\n",
    "#                                  Dload  Upload   Total   Spent    Left  Speed\n",
    "# 100   279  100   242  100    37  10041   1535 --:--:-- --:--:-- --:--:-- 10521\n",
    "# {\n",
    "#     \"confidence\": 0.6487632074644808,\n",
    "#     \"entities\": [\n",
    "#         {\n",
    "#             \"end\": 24,\n",
    "#             \"entity\": \"cuisine\",\n",
    "#             \"start\": 17,\n",
    "#             \"value\": \"Chinese\"\n",
    "#         }\n",
    "#     ],\n",
    "#     \"intent\": \"restaurant_search\",\n",
    "#     \"text\": \"I am looking for Chinese food\"\n",
    "# }"
   ]
  }
 ],
 "metadata": {
  "kernelspec": {
   "display_name": "Python 2",
   "language": "python",
   "name": "python2"
  },
  "language_info": {
   "codemirror_mode": {
    "name": "ipython",
    "version": 2
   },
   "file_extension": ".py",
   "mimetype": "text/x-python",
   "name": "python",
   "nbconvert_exporter": "python",
   "pygments_lexer": "ipython2",
   "version": "2.7.13"
  }
 },
 "nbformat": 4,
 "nbformat_minor": 2
}
