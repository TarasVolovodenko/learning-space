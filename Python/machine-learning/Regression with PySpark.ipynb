{
 "cells": [
  {
   "cell_type": "code",
   "execution_count": 1,
   "metadata": {
    "collapsed": true,
    "deletable": true,
    "editable": true
   },
   "outputs": [],
   "source": [
    "# Imports relativos ao sistema operacional\n",
    "import os\n",
    "import sys"
   ]
  },
  {
   "cell_type": "code",
   "execution_count": 2,
   "metadata": {
    "collapsed": true,
    "deletable": true,
    "editable": true
   },
   "outputs": [],
   "source": [
    "# Passagem de caminhos do Spark e do diretório de dados\n",
    "SPARK_PATH = \"/Users/flavio.clesio/Documents/spark-2.1.0\" \n",
    "ROOT_DIR = \"/Users/flavio.clesio/Downloads/machine-learning-with-spark-code/data/bike-sharing/Bike-Sharing-Dataset\""
   ]
  },
  {
   "cell_type": "code",
   "execution_count": 3,
   "metadata": {
    "collapsed": true,
    "deletable": true,
    "editable": true
   },
   "outputs": [],
   "source": [
    "# Neste snippet passamos os caminhos do Spark como variaveis de ambiente para o sistema operacional\n",
    "os.environ['SPARK_HOME'] = SPARK_PATH\n",
    "os.environ['HADOOP_HOME'] = SPARK_PATH\n",
    "\n",
    "# Neste snippet passamos todas as partes da instalacao do Spark\n",
    "sys.path.append(SPARK_PATH + \"/bin\")\n",
    "sys.path.append(SPARK_PATH + \"/python\")\n",
    "sys.path.append(SPARK_PATH + \"/python/pyspark/\")\n",
    "sys.path.append(SPARK_PATH + \"/python/lib\")\n",
    "sys.path.append(SPARK_PATH + \"/python/lib/pyspark.zip\")\n",
    "sys.path.append(SPARK_PATH + \"/python/lib/py4j-0.10.4-src.zip\") # Must be the same version of your Spark Version"
   ]
  },
  {
   "cell_type": "code",
   "execution_count": 154,
   "metadata": {
    "collapsed": true
   },
   "outputs": [],
   "source": [
    "%matplotlib inline"
   ]
  },
  {
   "cell_type": "code",
   "execution_count": 155,
   "metadata": {
    "collapsed": true
   },
   "outputs": [],
   "source": [
    "# Vamos fazer agora alguns imports iniciais em relação ao Spark\n",
    "from pyspark import SparkContext\n",
    "from pyspark import SparkConf\n",
    "from pyspark.mllib.tree import DecisionTree, DecisionTreeModel\n",
    "from pyspark.mllib.util import MLUtils\n",
    "from pyspark.mllib.regression import LabeledPoint\n",
    "from pyspark.mllib.regression import LinearRegressionWithSGD\n",
    "from pyspark.mllib.tree import DecisionTree\n",
    "import matplotlib.pyplot\n",
    "import numpy as np\n",
    "import matplotlib\n",
    "matplotlib.use('Agg')"
   ]
  },
  {
   "cell_type": "code",
   "execution_count": 156,
   "metadata": {
    "collapsed": false
   },
   "outputs": [
    {
     "name": "stdout",
     "output_type": "stream",
     "text": [
      "Populating the interactive namespace from numpy and matplotlib\n"
     ]
    },
    {
     "name": "stderr",
     "output_type": "stream",
     "text": [
      "/usr/local/lib/python2.7/site-packages/IPython/core/magics/pylab.py:161: UserWarning: pylab import has clobbered these variables: ['pylab', 'test']\n",
      "`%matplotlib` prevents importing * from pylab and numpy\n",
      "  \"\\n`%matplotlib` prevents importing * from pylab and numpy\"\n"
     ]
    }
   ],
   "source": [
    "%pylab inline\n",
    "pylab.rcParams['figure.figsize'] = (14, 9)"
   ]
  },
  {
   "cell_type": "code",
   "execution_count": 5,
   "metadata": {
    "collapsed": false,
    "deletable": true,
    "editable": true
   },
   "outputs": [
    {
     "data": {
      "text/plain": [
       "<pyspark.context.SparkContext at 0x105c31d50>"
      ]
     },
     "execution_count": 5,
     "metadata": {},
     "output_type": "execute_result"
    }
   ],
   "source": [
    "# Instanciamento da sessao do Spark\n",
    "sc = SparkContext(\"local\", \"app-regressao-pyspark\")\n",
    "sc"
   ]
  },
  {
   "cell_type": "markdown",
   "metadata": {},
   "source": [
    "# Extracao de features para o modelo linear\n",
    "\n",
    "Paper: Fanaee-T, Hadi and Gama Joao, Event labeling combining ensemble detectors and background knowledge, Progress in Artificial Intelligence, pp.1-15, Springer Berlin Heidelberg, 2013.  \n",
    "\n",
    "Paper original: http://link.springer.com/article/10.1007%2Fs13748-013-0040-3.\n",
    "\n",
    "Descricao das variaveis:\n",
    "\n",
    "• instant: Chave da transacao  \n",
    "• dteday: Data  \n",
    "• season: Estacao do ano  \n",
    "• yr: Ano  \n",
    "• mnth: Mes do ano  \n",
    "• hr: Hora do ano  \n",
    "• holiday: Se e feriado ou nao  \n",
    "• weekday: Qual o dia da semana  \n",
    "• workingday: Se e dia util ou nao  \n",
    "• weathersit: Descricao do tempo  \n",
    "• temp: Temperatura normalizada  \n",
    "• atemp: Temperatura aparente  \n",
    "• hum: Umidade aparente  \n",
    "• windspeed: Velocidade do vento normalizada  \n",
    "• cnt: Variavel target com o numero de bikes alugadas na respectiva hora"
   ]
  },
  {
   "cell_type": "code",
   "execution_count": 12,
   "metadata": {
    "collapsed": true
   },
   "outputs": [],
   "source": [
    "# Carga do arquivo .csv\n",
    "raw_data = sc.textFile(ROOT_DIR + \"/hour_noheader.csv\")"
   ]
  },
  {
   "cell_type": "code",
   "execution_count": 18,
   "metadata": {
    "collapsed": false
   },
   "outputs": [
    {
     "name": "stdout",
     "output_type": "stream",
     "text": [
      "Quantidade de registros: 17379\n"
     ]
    }
   ],
   "source": [
    "# Contagem simples em relacao ao numero de registros\n",
    "num_data = raw_data.count()\n",
    "print 'Quantidade de registros:',  num_data"
   ]
  },
  {
   "cell_type": "code",
   "execution_count": 14,
   "metadata": {
    "collapsed": false
   },
   "outputs": [],
   "source": [
    "# Transformacao do arquivo em um RDD realizando a divisao pela virgula\n",
    "records = raw_data.map(lambda x: x.split(\",\"))"
   ]
  },
  {
   "cell_type": "code",
   "execution_count": 15,
   "metadata": {
    "collapsed": false
   },
   "outputs": [
    {
     "name": "stdout",
     "output_type": "stream",
     "text": [
      "[u'1', u'2011-01-01', u'1', u'0', u'1', u'0', u'0', u'6', u'0', u'1', u'0.24', u'0.2879', u'0.81', u'0', u'3', u'13', u'16']\n"
     ]
    }
   ],
   "source": [
    "# Primeiro registro ja sem os headers\n",
    "first = records.first()\n",
    "print first"
   ]
  },
  {
   "cell_type": "code",
   "execution_count": 16,
   "metadata": {
    "collapsed": false
   },
   "outputs": [
    {
     "data": {
      "text/plain": [
       "PythonRDD[10] at RDD at PythonRDD.scala:48"
      ]
     },
     "execution_count": 16,
     "metadata": {},
     "output_type": "execute_result"
    }
   ],
   "source": [
    "# Vamos colocar os dados em cache, ja que vamos realizar inumeras leituras\n",
    "records.cache()"
   ]
  },
  {
   "cell_type": "code",
   "execution_count": 19,
   "metadata": {
    "collapsed": false
   },
   "outputs": [],
   "source": [
    "# A funcao abaixo ira realizar o map no rdd passado como parametro, e aplicando a funcao lambda nos campos pegando\n",
    "# cada valor do seu indice fields[idx] e nao somente isso ira pegar os registros distintos de cada campo .distinct()\n",
    "# e cada elmento sera indexado de acordo com a sua aparicao usando o .zipWithIndex() e por no final o .collectAsMap()\n",
    "# vai retornar o valor pareado via chave-valor\n",
    "\n",
    "def get_mapping(rdd, idx):\n",
    "    return rdd.map(lambda fields: fields[idx]).distinct().zipWithIndex().collectAsMap()"
   ]
  },
  {
   "cell_type": "code",
   "execution_count": 27,
   "metadata": {
    "collapsed": false
   },
   "outputs": [
    {
     "name": "stdout",
     "output_type": "stream",
     "text": [
      "Mapeamento da primeira coluna categorica: {u'1': 0, u'3': 1, u'2': 2, u'4': 3}\n"
     ]
    }
   ],
   "source": [
    "print \"Mapeamento da primeira coluna categorica: %s\" % get_mapping(records, 2)"
   ]
  },
  {
   "cell_type": "code",
   "execution_count": null,
   "metadata": {
    "collapsed": true
   },
   "outputs": [],
   "source": [
    "# Agora o mapeamento sera feito para as variaveis da 2 ate a 10 de forma incremental e sera armazenada no objeto \n",
    "# mappings\n",
    "mappings = [get_mapping(records, i) for i in range(2,10)]"
   ]
  },
  {
   "cell_type": "code",
   "execution_count": 30,
   "metadata": {
    "collapsed": false
   },
   "outputs": [
    {
     "data": {
      "text/plain": [
       "[{u'1': 0, u'2': 2, u'3': 1, u'4': 3},\n",
       " {u'0': 1, u'1': 0},\n",
       " {u'1': 3,\n",
       "  u'10': 1,\n",
       "  u'11': 0,\n",
       "  u'12': 2,\n",
       "  u'2': 5,\n",
       "  u'3': 4,\n",
       "  u'4': 7,\n",
       "  u'5': 6,\n",
       "  u'6': 9,\n",
       "  u'7': 8,\n",
       "  u'8': 11,\n",
       "  u'9': 10},\n",
       " {u'0': 5,\n",
       "  u'1': 4,\n",
       "  u'10': 15,\n",
       "  u'11': 14,\n",
       "  u'12': 17,\n",
       "  u'13': 16,\n",
       "  u'14': 19,\n",
       "  u'15': 18,\n",
       "  u'16': 21,\n",
       "  u'17': 20,\n",
       "  u'18': 23,\n",
       "  u'19': 22,\n",
       "  u'2': 7,\n",
       "  u'20': 0,\n",
       "  u'21': 1,\n",
       "  u'22': 2,\n",
       "  u'23': 3,\n",
       "  u'3': 6,\n",
       "  u'4': 9,\n",
       "  u'5': 8,\n",
       "  u'6': 11,\n",
       "  u'7': 10,\n",
       "  u'8': 13,\n",
       "  u'9': 12},\n",
       " {u'0': 1, u'1': 0},\n",
       " {u'0': 1, u'1': 0, u'2': 3, u'3': 2, u'4': 5, u'5': 4, u'6': 6},\n",
       " {u'0': 1, u'1': 0},\n",
       " {u'1': 0, u'2': 2, u'3': 1, u'4': 3}]"
      ]
     },
     "execution_count": 30,
     "metadata": {},
     "output_type": "execute_result"
    }
   ],
   "source": [
    "# Mapeamentos para cada uma das variaveis (Por ordem)\n",
    "mappings"
   ]
  },
  {
   "cell_type": "code",
   "execution_count": 32,
   "metadata": {
    "collapsed": false
   },
   "outputs": [
    {
     "name": "stdout",
     "output_type": "stream",
     "text": [
      "Numero de categorias distintas das variaveis categoricas: 57\n"
     ]
    }
   ],
   "source": [
    "# Aqui vamos fazer a soma de quantas categorias diferentes apareceram\n",
    "cat_len = sum(map(len, mappings))\n",
    "print 'Numero de categorias distintas das variaveis categoricas:',  cat_len"
   ]
  },
  {
   "cell_type": "code",
   "execution_count": 38,
   "metadata": {
    "collapsed": false
   },
   "outputs": [
    {
     "data": {
      "text/plain": [
       "[u'0.2879', u'0.81', u'0', u'3']"
      ]
     },
     "execution_count": 38,
     "metadata": {},
     "output_type": "execute_result"
    }
   ],
   "source": [
    "# Primeiro registro das colunas 11 até a 15\n",
    "records.first()[11:15]"
   ]
  },
  {
   "cell_type": "code",
   "execution_count": 39,
   "metadata": {
    "collapsed": false
   },
   "outputs": [
    {
     "data": {
      "text/plain": [
       "[u'1',\n",
       " u'2011-01-01',\n",
       " u'1',\n",
       " u'0',\n",
       " u'1',\n",
       " u'0',\n",
       " u'0',\n",
       " u'6',\n",
       " u'0',\n",
       " u'1',\n",
       " u'0.24',\n",
       " u'0.2879',\n",
       " u'0.81',\n",
       " u'0',\n",
       " u'3',\n",
       " u'13',\n",
       " u'16']"
      ]
     },
     "execution_count": 39,
     "metadata": {},
     "output_type": "execute_result"
    }
   ],
   "source": [
    "# Primeiro registro do dataset records\n",
    "records.first()"
   ]
  },
  {
   "cell_type": "code",
   "execution_count": 40,
   "metadata": {
    "collapsed": false
   },
   "outputs": [
    {
     "name": "stdout",
     "output_type": "stream",
     "text": [
      "Quantidade de variaveis numericas: 4\n"
     ]
    }
   ],
   "source": [
    "# Tamanho das variaveis numericas\n",
    "num_len = len(records.first()[11:15])\n",
    "print 'Quantidade de variaveis numericas:', num_len"
   ]
  },
  {
   "cell_type": "code",
   "execution_count": 41,
   "metadata": {
    "collapsed": true
   },
   "outputs": [],
   "source": [
    "total_len = num_len + cat_len"
   ]
  },
  {
   "cell_type": "code",
   "execution_count": 45,
   "metadata": {
    "collapsed": false
   },
   "outputs": [
    {
     "name": "stdout",
     "output_type": "stream",
     "text": [
      "Tamanho do vetor de features (Feature vector) das variaveis categoricas: 57\n"
     ]
    }
   ],
   "source": [
    "print \"Tamanho do vetor de features (Feature vector) das variaveis categoricas: %d\" % cat_len"
   ]
  },
  {
   "cell_type": "code",
   "execution_count": 46,
   "metadata": {
    "collapsed": false
   },
   "outputs": [
    {
     "name": "stdout",
     "output_type": "stream",
     "text": [
      "Tamanho do vetor de features (Feature vector) das variaveis numericas: 4\n"
     ]
    }
   ],
   "source": [
    "print \"Tamanho do vetor de features (Feature vector) das variaveis numericas: %d\" % num_len"
   ]
  },
  {
   "cell_type": "code",
   "execution_count": 47,
   "metadata": {
    "collapsed": false
   },
   "outputs": [
    {
     "name": "stdout",
     "output_type": "stream",
     "text": [
      "Tamanho total do vetor de features: 61\n"
     ]
    }
   ],
   "source": [
    "print \"Tamanho total do vetor de features: %d\" % total_len"
   ]
  },
  {
   "cell_type": "markdown",
   "metadata": {},
   "source": [
    "# Criando vetor de features para o modelo linear\n",
    "\n",
    "No caso vamos pegar os mappings que foram extraidos anteriormente das variaveis categoricas, e vamos transformar em variaveis binarias.  \n",
    "\n",
    "No caso a funcao abaixo vai aplicar esse binary-encoding para todas as instancias da base de dados.  \n",
    "\n",
    "Tambem sera criada uma funcao para extrair a variavel target de cada registro.  \n",
    "\n",
    "O import da classe LabeledPoint vai construir os vetores de features e as variaveis target."
   ]
  },
  {
   "cell_type": "code",
   "execution_count": 49,
   "metadata": {
    "collapsed": false
   },
   "outputs": [],
   "source": [
    "# A funcao passa por cada coluna do dataset e faz a extracao do encoding binario de cada uma das variaveis. A variavei\n",
    "# step garante que uma feature nao-zero sera acrescida ao vetor de features. A vetor numerico sera criado primeiramente\n",
    "# convertendo os dados para ponto flutuante e guardar esse numero em um array do numpy\n",
    "\n",
    "def extract_features(record):\n",
    "    cat_vec = np.zeros(cat_len)\n",
    "    i = 0\n",
    "    step = 0\n",
    "    for field in record[2:9]:\n",
    "        m = mappings[i]\n",
    "        idx = m[field]\n",
    "        cat_vec[idx + step] = 1\n",
    "        i = i + 1\n",
    "    step = step + len(m)\n",
    "    num_vec = np.array([float(field) for field in record[10:14]])\n",
    "    return np.concatenate((cat_vec, num_vec))"
   ]
  },
  {
   "cell_type": "code",
   "execution_count": 50,
   "metadata": {
    "collapsed": true
   },
   "outputs": [],
   "source": [
    "# Essa funcao simplesmente converte a ultima coluna da variavel (um count) em um float\n",
    "def extract_label(record):\n",
    "    return float(record[-1])"
   ]
  },
  {
   "cell_type": "code",
   "execution_count": 52,
   "metadata": {
    "collapsed": true
   },
   "outputs": [],
   "source": [
    "# Usando o metodo .map vamos passar as duas funcoes no dataset records para gerar a base data\n",
    "data = records.map(lambda r: LabeledPoint(extract_label(r), extract_features(r)))"
   ]
  },
  {
   "cell_type": "code",
   "execution_count": 55,
   "metadata": {
    "collapsed": false
   },
   "outputs": [
    {
     "data": {
      "text/plain": [
       "[LabeledPoint(16.0, [1.0,1.0,0.0,1.0,0.0,1.0,1.0,0.0,0.0,0.0,0.0,0.0,0.0,0.0,0.0,0.0,0.0,0.0,0.0,0.0,0.0,0.0,0.0,0.0,0.0,0.0,0.0,0.0,0.0,0.0,0.0,0.0,0.0,0.0,0.0,0.0,0.0,0.0,0.0,0.0,0.0,0.0,0.0,0.0,0.0,0.0,0.0,0.0,0.0,0.0,0.0,0.0,0.0,0.0,0.0,0.0,0.0,0.24,0.2879,0.81,0.0]),\n",
       " LabeledPoint(40.0, [1.0,1.0,0.0,1.0,1.0,0.0,1.0,0.0,0.0,0.0,0.0,0.0,0.0,0.0,0.0,0.0,0.0,0.0,0.0,0.0,0.0,0.0,0.0,0.0,0.0,0.0,0.0,0.0,0.0,0.0,0.0,0.0,0.0,0.0,0.0,0.0,0.0,0.0,0.0,0.0,0.0,0.0,0.0,0.0,0.0,0.0,0.0,0.0,0.0,0.0,0.0,0.0,0.0,0.0,0.0,0.0,0.0,0.22,0.2727,0.8,0.0]),\n",
       " LabeledPoint(32.0, [1.0,1.0,0.0,1.0,0.0,0.0,1.0,1.0,0.0,0.0,0.0,0.0,0.0,0.0,0.0,0.0,0.0,0.0,0.0,0.0,0.0,0.0,0.0,0.0,0.0,0.0,0.0,0.0,0.0,0.0,0.0,0.0,0.0,0.0,0.0,0.0,0.0,0.0,0.0,0.0,0.0,0.0,0.0,0.0,0.0,0.0,0.0,0.0,0.0,0.0,0.0,0.0,0.0,0.0,0.0,0.0,0.0,0.22,0.2727,0.8,0.0])]"
      ]
     },
     "execution_count": 55,
     "metadata": {},
     "output_type": "execute_result"
    }
   ],
   "source": [
    "data.take(3)"
   ]
  },
  {
   "cell_type": "code",
   "execution_count": 56,
   "metadata": {
    "collapsed": true
   },
   "outputs": [],
   "source": [
    "first_point = data.first()"
   ]
  },
  {
   "cell_type": "code",
   "execution_count": 57,
   "metadata": {
    "collapsed": false
   },
   "outputs": [
    {
     "name": "stdout",
     "output_type": "stream",
     "text": [
      "Raw data: [u'1', u'0', u'1', u'0', u'0', u'6', u'0', u'1', u'0.24', u'0.2879', u'0.81', u'0', u'3', u'13', u'16']\n"
     ]
    }
   ],
   "source": [
    "print \"Raw data: \" + str(first[2:])"
   ]
  },
  {
   "cell_type": "code",
   "execution_count": 58,
   "metadata": {
    "collapsed": false
   },
   "outputs": [
    {
     "name": "stdout",
     "output_type": "stream",
     "text": [
      "Label: 16.0\n"
     ]
    }
   ],
   "source": [
    "print \"Label: \" + str(first_point.label)"
   ]
  },
  {
   "cell_type": "code",
   "execution_count": 59,
   "metadata": {
    "collapsed": false
   },
   "outputs": [
    {
     "name": "stdout",
     "output_type": "stream",
     "text": [
      "Linear Model feature vector:\n",
      "[1.0,1.0,0.0,1.0,0.0,1.0,1.0,0.0,0.0,0.0,0.0,0.0,0.0,0.0,0.0,0.0,0.0,0.0,0.0,0.0,0.0,0.0,0.0,0.0,0.0,0.0,0.0,0.0,0.0,0.0,0.0,0.0,0.0,0.0,0.0,0.0,0.0,0.0,0.0,0.0,0.0,0.0,0.0,0.0,0.0,0.0,0.0,0.0,0.0,0.0,0.0,0.0,0.0,0.0,0.0,0.0,0.0,0.24,0.2879,0.81,0.0]\n"
     ]
    }
   ],
   "source": [
    "print \"Linear Model feature vector:\\n\" + str(first_point.features)"
   ]
  },
  {
   "cell_type": "code",
   "execution_count": 60,
   "metadata": {
    "collapsed": false
   },
   "outputs": [
    {
     "name": "stdout",
     "output_type": "stream",
     "text": [
      "Linear Model feature vector length: 61\n"
     ]
    }
   ],
   "source": [
    "print \"Linear Model feature vector length: \" + str(len(first_point.features))"
   ]
  },
  {
   "cell_type": "markdown",
   "metadata": {},
   "source": [
    "# Criacao do vetor de features para o modelo de arvore de decisao"
   ]
  },
  {
   "cell_type": "code",
   "execution_count": 61,
   "metadata": {
    "collapsed": true
   },
   "outputs": [],
   "source": [
    "# Funcao para extracao de features para o modelo de arvore de decisao regressora\n",
    "def extract_features_dt(record):\n",
    "    return np.array(map(float, record[2:14]))"
   ]
  },
  {
   "cell_type": "code",
   "execution_count": 62,
   "metadata": {
    "collapsed": true
   },
   "outputs": [],
   "source": [
    "# Transformacao em labelpoint realizando a extracao do label e das features\n",
    "data_dt = records.map(lambda r: LabeledPoint(extract_label(r),extract_features_dt(r)))"
   ]
  },
  {
   "cell_type": "code",
   "execution_count": 69,
   "metadata": {
    "collapsed": true
   },
   "outputs": [],
   "source": [
    "first_point_dt = data_dt.first()"
   ]
  },
  {
   "cell_type": "code",
   "execution_count": 70,
   "metadata": {
    "collapsed": false
   },
   "outputs": [
    {
     "name": "stdout",
     "output_type": "stream",
     "text": [
      "Decision Tree feature vector: [1.0,0.0,1.0,0.0,0.0,6.0,0.0,1.0,0.24,0.2879,0.81,0.0]\n"
     ]
    }
   ],
   "source": [
    "print \"Decision Tree feature vector: \" + str(first_point_dt.features)"
   ]
  },
  {
   "cell_type": "code",
   "execution_count": 71,
   "metadata": {
    "collapsed": false
   },
   "outputs": [
    {
     "name": "stdout",
     "output_type": "stream",
     "text": [
      "Decision Tree feature vector length: 12\n"
     ]
    }
   ],
   "source": [
    "print \"Decision Tree feature vector length: \" + str(len(first_point_dt.features))"
   ]
  },
  {
   "cell_type": "markdown",
   "metadata": {},
   "source": [
    "# Parametros de cada modelo"
   ]
  },
  {
   "cell_type": "code",
   "execution_count": 67,
   "metadata": {
    "collapsed": false,
    "scrolled": true
   },
   "outputs": [
    {
     "name": "stdout",
     "output_type": "stream",
     "text": [
      "Help on method train in module pyspark.mllib.regression:\n",
      "\n",
      "train(cls, data, iterations=100, step=1.0, miniBatchFraction=1.0, initialWeights=None, regParam=0.0, regType=None, intercept=False, validateData=True, convergenceTol=0.001) method of __builtin__.type instance\n",
      "    Train a linear regression model using Stochastic Gradient\n",
      "    Descent (SGD). This solves the least squares regression\n",
      "    formulation\n",
      "    \n",
      "        f(weights) = 1/(2n) ||A weights - y||^2\n",
      "    \n",
      "    which is the mean squared error. Here the data matrix has n rows,\n",
      "    and the input RDD holds the set of rows of A, each with its\n",
      "    corresponding right hand side label y.\n",
      "    See also the documentation for the precise formulation.\n",
      "    \n",
      "    :param data:\n",
      "      The training data, an RDD of LabeledPoint.\n",
      "    :param iterations:\n",
      "      The number of iterations.\n",
      "      (default: 100)\n",
      "    :param step:\n",
      "      The step parameter used in SGD.\n",
      "      (default: 1.0)\n",
      "    :param miniBatchFraction:\n",
      "      Fraction of data to be used for each SGD iteration.\n",
      "      (default: 1.0)\n",
      "    :param initialWeights:\n",
      "      The initial weights.\n",
      "      (default: None)\n",
      "    :param regParam:\n",
      "      The regularizer parameter.\n",
      "      (default: 0.0)\n",
      "    :param regType:\n",
      "      The type of regularizer used for training our model.\n",
      "      Supported values:\n",
      "    \n",
      "        - \"l1\" for using L1 regularization\n",
      "        - \"l2\" for using L2 regularization\n",
      "        - None for no regularization (default)\n",
      "    :param intercept:\n",
      "      Boolean parameter which indicates the use or not of the\n",
      "      augmented representation for training data (i.e., whether bias\n",
      "      features are activated or not).\n",
      "      (default: False)\n",
      "    :param validateData:\n",
      "      Boolean parameter which indicates if the algorithm should\n",
      "      validate data before training.\n",
      "      (default: True)\n",
      "    :param convergenceTol:\n",
      "      A condition which decides iteration termination.\n",
      "      (default: 0.001)\n",
      "    \n",
      "    .. versionadded:: 0.9.0\n",
      "\n"
     ]
    }
   ],
   "source": [
    "# Paarmetros do modelo linear com SGD\n",
    "help(LinearRegressionWithSGD.train)"
   ]
  },
  {
   "cell_type": "code",
   "execution_count": 68,
   "metadata": {
    "collapsed": false
   },
   "outputs": [
    {
     "name": "stdout",
     "output_type": "stream",
     "text": [
      "Help on method trainRegressor in module pyspark.mllib.tree:\n",
      "\n",
      "trainRegressor(cls, data, categoricalFeaturesInfo, impurity='variance', maxDepth=5, maxBins=32, minInstancesPerNode=1, minInfoGain=0.0) method of __builtin__.type instance\n",
      "    Train a decision tree model for regression.\n",
      "    \n",
      "    :param data:\n",
      "      Training data: RDD of LabeledPoint. Labels are real numbers.\n",
      "    :param categoricalFeaturesInfo:\n",
      "      Map storing arity of categorical features. An entry (n -> k)\n",
      "      indicates that feature n is categorical with k categories\n",
      "      indexed from 0: {0, 1, ..., k-1}.\n",
      "    :param impurity:\n",
      "      Criterion used for information gain calculation.\n",
      "      The only supported value for regression is \"variance\".\n",
      "      (default: \"variance\")\n",
      "    :param maxDepth:\n",
      "      Maximum depth of tree (e.g. depth 0 means 1 leaf node, depth 1\n",
      "      means 1 internal node + 2 leaf nodes).\n",
      "      (default: 5)\n",
      "    :param maxBins:\n",
      "      Number of bins used for finding splits at each node.\n",
      "      (default: 32)\n",
      "    :param minInstancesPerNode:\n",
      "      Minimum number of instances required at child nodes to create\n",
      "      the parent split.\n",
      "      (default: 1)\n",
      "    :param minInfoGain:\n",
      "      Minimum info gain required to create a split.\n",
      "      (default: 0.0)\n",
      "    :return:\n",
      "      DecisionTreeModel.\n",
      "    \n",
      "    Example usage:\n",
      "    \n",
      "    >>> from pyspark.mllib.regression import LabeledPoint\n",
      "    >>> from pyspark.mllib.tree import DecisionTree\n",
      "    >>> from pyspark.mllib.linalg import SparseVector\n",
      "    >>>\n",
      "    >>> sparse_data = [\n",
      "    ...     LabeledPoint(0.0, SparseVector(2, {0: 0.0})),\n",
      "    ...     LabeledPoint(1.0, SparseVector(2, {1: 1.0})),\n",
      "    ...     LabeledPoint(0.0, SparseVector(2, {0: 0.0})),\n",
      "    ...     LabeledPoint(1.0, SparseVector(2, {1: 2.0}))\n",
      "    ... ]\n",
      "    >>>\n",
      "    >>> model = DecisionTree.trainRegressor(sc.parallelize(sparse_data), {})\n",
      "    >>> model.predict(SparseVector(2, {1: 1.0}))\n",
      "    1.0\n",
      "    >>> model.predict(SparseVector(2, {1: 0.0}))\n",
      "    0.0\n",
      "    >>> rdd = sc.parallelize([[0.0, 1.0], [0.0, 0.0]])\n",
      "    >>> model.predict(rdd).collect()\n",
      "    [1.0, 0.0]\n",
      "    \n",
      "    .. versionadded:: 1.1.0\n",
      "\n"
     ]
    }
   ],
   "source": [
    "# Paarmetros do modelo linear com arvore de decisao regressora\n",
    "help(DecisionTree.trainRegressor)"
   ]
  },
  {
   "cell_type": "markdown",
   "metadata": {},
   "source": [
    "# Treinamento do modelo linear"
   ]
  },
  {
   "cell_type": "code",
   "execution_count": 74,
   "metadata": {
    "collapsed": false
   },
   "outputs": [],
   "source": [
    "linear_model = LinearRegressionWithSGD.train(data\n",
    "                                             ,iterations=10\n",
    "                                             ,step=0.1\n",
    "                                             ,intercept=False)"
   ]
  },
  {
   "cell_type": "code",
   "execution_count": 75,
   "metadata": {
    "collapsed": true
   },
   "outputs": [],
   "source": [
    "# Aqui vamos usar o .map para o nosso conjunto de dados data, e usando a funcao lambda vamos pegar a coluna com os valores\n",
    "# que no caso é o p.label e o resultado das predicoes no .peatures\n",
    "true_vs_predicted = data.map(lambda p: (p.label, linear_model.predict(p.features)))"
   ]
  },
  {
   "cell_type": "code",
   "execution_count": 76,
   "metadata": {
    "collapsed": false
   },
   "outputs": [
    {
     "name": "stdout",
     "output_type": "stream",
     "text": [
      "Linear Model predictions: [(16.0, 160.01234799867828), (40.0, 159.785197748266), (32.0, 153.93103032000286), (13.0, 151.31181935148854), (1.0, 155.54992134607073)]\n"
     ]
    }
   ],
   "source": [
    "print \"Linear Model predictions: \" + str(true_vs_predicted.take(5))"
   ]
  },
  {
   "cell_type": "code",
   "execution_count": 77,
   "metadata": {
    "collapsed": true
   },
   "outputs": [],
   "source": [
    "# Agora vamos usar o regressor da arvore de decisao regressora. No caso quando se a algum tipo de variavel categorica\n",
    "# e necessario passar como argumento categoricalFeaturesInfo. No caso vai ficar as...is\n",
    "dt_model = DecisionTree.trainRegressor(data_dt\n",
    "                                       ,{})\n",
    "\n",
    "# A diferenca fundamental que precisa ser enendida e que no modelo linear, obrigatoriamente as variavels dummy precisam\n",
    "# estar criadas no vetor de features, enquanto no modelo de arvore de decisao, como o algoritmo tem propriedades\n",
    "# de quebra da arvore, nem sempre isso e necessario, mas e recomendado"
   ]
  },
  {
   "cell_type": "code",
   "execution_count": 78,
   "metadata": {
    "collapsed": true
   },
   "outputs": [],
   "source": [
    "preds = dt_model.predict(data_dt.map(lambda p: p.features))"
   ]
  },
  {
   "cell_type": "code",
   "execution_count": 79,
   "metadata": {
    "collapsed": true
   },
   "outputs": [],
   "source": [
    "actual = data.map(lambda p: p.label)"
   ]
  },
  {
   "cell_type": "code",
   "execution_count": 80,
   "metadata": {
    "collapsed": true
   },
   "outputs": [],
   "source": [
    "true_vs_predicted_dt = actual.zip(preds)"
   ]
  },
  {
   "cell_type": "code",
   "execution_count": 81,
   "metadata": {
    "collapsed": false
   },
   "outputs": [
    {
     "name": "stdout",
     "output_type": "stream",
     "text": [
      "Decision Tree predictions: [(16.0, 54.913223140495866), (40.0, 54.913223140495866), (32.0, 53.171052631578945), (13.0, 14.284023668639053), (1.0, 14.284023668639053)]\n"
     ]
    }
   ],
   "source": [
    "print \"Decision Tree predictions: \" + str(true_vs_predicted_dt.take(5))"
   ]
  },
  {
   "cell_type": "code",
   "execution_count": 82,
   "metadata": {
    "collapsed": false
   },
   "outputs": [
    {
     "name": "stdout",
     "output_type": "stream",
     "text": [
      "Decision Tree depth: 5\n"
     ]
    }
   ],
   "source": [
    "print \"Decision Tree depth: \" + str(dt_model.depth())"
   ]
  },
  {
   "cell_type": "code",
   "execution_count": 83,
   "metadata": {
    "collapsed": false
   },
   "outputs": [
    {
     "name": "stdout",
     "output_type": "stream",
     "text": [
      "Decision Tree number of nodes: 63\n"
     ]
    }
   ],
   "source": [
    "print \"Decision Tree number of nodes: \" + str(dt_model.numNodes())"
   ]
  },
  {
   "cell_type": "markdown",
   "metadata": {},
   "source": [
    "# Avaliacao dos modelos"
   ]
  },
  {
   "cell_type": "code",
   "execution_count": 90,
   "metadata": {
    "collapsed": true
   },
   "outputs": [],
   "source": [
    "# Para a avaliacao dos modelos regresores, geralmente usa-se as medidas de erro MSE (Mean Square Error), \n",
    "# MAE (Mean Absolute Error), RMSE (Root Mean Square Error) em que RMSLE (Root Mean Squared Log Error):\n",
    "\n",
    "# MSE: Media do erro quadratico que e usado na funcao de perda da regressao. Penaliza de forma mais agressiva os erros mais extremos\n",
    "# RMSE: Raiz quadrada do MSE. E medido na mesma escala da variavel\n",
    "# MAE: Media da diferenca absoluta entre as predicoes\n",
    "# RMSLE: E a transformacao do RMSE e deve ser usada quando o range de predicao for grande, e nao se quer penalizar\n",
    "#        os grandes erros. Isso e efetivo quando se quer ter o maximo de acertos em % ao inves da diferenca dos erros em si\n",
    "\n",
    "def squared_error(actual, pred):\n",
    "    return (pred - actual)**2\n",
    "\n",
    "def abs_error(actual, pred):\n",
    "    return np.abs(pred - actual)\n",
    "\n",
    "def squared_log_error(pred, actual):\n",
    "    return (np.log(pred + 1) - np.log(actual + 1))**2"
   ]
  },
  {
   "cell_type": "code",
   "execution_count": 91,
   "metadata": {
    "collapsed": true
   },
   "outputs": [],
   "source": [
    "mse = true_vs_predicted.map(lambda (t, p): squared_error(t, p)).mean()\n",
    "mae = true_vs_predicted.map(lambda (t, p): abs_error(t, p)).mean()\n",
    "rmsle = np.sqrt(true_vs_predicted.map(lambda (t, p): squared_log_error(t, p)).mean())"
   ]
  },
  {
   "cell_type": "code",
   "execution_count": 92,
   "metadata": {
    "collapsed": false
   },
   "outputs": [
    {
     "name": "stdout",
     "output_type": "stream",
     "text": [
      "Linear Model - Mean Squared Error: 32862.9488\n",
      "Linear Model - Mean Absolute Error: 136.3712\n",
      "Linear Model - Root Mean Squared Log Error: 1.4951\n"
     ]
    }
   ],
   "source": [
    "print \"Linear Model - Mean Squared Error: %2.4f\" % mse\n",
    "print \"Linear Model - Mean Absolute Error: %2.4f\" % mae\n",
    "print \"Linear Model - Root Mean Squared Log Error: %2.4f\" % rmsle"
   ]
  },
  {
   "cell_type": "code",
   "execution_count": 93,
   "metadata": {
    "collapsed": true
   },
   "outputs": [],
   "source": [
    "mse_dt = true_vs_predicted_dt.map(lambda (t, p): squared_error(t, p)).mean()\n",
    "mae_dt = true_vs_predicted_dt.map(lambda (t, p): abs_error(t, p)).mean()\n",
    "rmsle_dt = np.sqrt(true_vs_predicted_dt.map(lambda (t, p): squared_log_error(t, p)).mean())"
   ]
  },
  {
   "cell_type": "code",
   "execution_count": 94,
   "metadata": {
    "collapsed": false
   },
   "outputs": [
    {
     "name": "stdout",
     "output_type": "stream",
     "text": [
      "Decision Tree - Mean Squared Error: 11560.7978\n",
      "Decision Tree - Mean Absolute Error: 71.0969\n",
      "Decision Tree - Root Mean Squared Log Error: 0.6259\n"
     ]
    }
   ],
   "source": [
    "print \"Decision Tree - Mean Squared Error: %2.4f\" % mse_dt\n",
    "print \"Decision Tree - Mean Absolute Error: %2.4f\" % mae_dt\n",
    "print \"Decision Tree - Root Mean Squared Log Error: %2.4f\" % rmsle_dt"
   ]
  },
  {
   "cell_type": "markdown",
   "metadata": {},
   "source": [
    "# Tunning do modelo"
   ]
  },
  {
   "cell_type": "code",
   "execution_count": 99,
   "metadata": {
    "collapsed": false
   },
   "outputs": [
    {
     "name": "stdout",
     "output_type": "stream",
     "text": [
      "Using matplotlib backend: agg\n",
      "Populating the interactive namespace from numpy and matplotlib\n"
     ]
    },
    {
     "name": "stderr",
     "output_type": "stream",
     "text": [
      "/usr/local/lib/python2.7/site-packages/IPython/core/magics/pylab.py:161: UserWarning: pylab import has clobbered these variables: ['pylab']\n",
      "`%matplotlib` prevents importing * from pylab and numpy\n",
      "  \"\\n`%matplotlib` prevents importing * from pylab and numpy\"\n"
     ]
    }
   ],
   "source": [
    "import pylab\n",
    "%pylab "
   ]
  },
  {
   "cell_type": "code",
   "execution_count": 100,
   "metadata": {
    "collapsed": true
   },
   "outputs": [],
   "source": [
    "targets = records.map(lambda r: float(r[-1])).collect()"
   ]
  },
  {
   "cell_type": "code",
   "execution_count": 104,
   "metadata": {
    "collapsed": false
   },
   "outputs": [
    {
     "data": {
      "text/plain": [
       "(array([  7.96372860e-03,   3.40527809e-03,   2.69781034e-03,\n",
       "          2.37473340e-03,   2.27568792e-03,   2.24503098e-03,\n",
       "          2.12240324e-03,   2.09410453e-03,   1.80875921e-03,\n",
       "          1.71207195e-03,   1.37720388e-03,   1.37248743e-03,\n",
       "          1.23099388e-03,   9.64514361e-04,   8.53677747e-04,\n",
       "          8.65468877e-04,   6.83885488e-04,   5.94272907e-04,\n",
       "          5.70690649e-04,   4.78719842e-04,   5.02302100e-04,\n",
       "          3.72599680e-04,   3.49017422e-04,   3.39584518e-04,\n",
       "          2.52330163e-04,   2.26389679e-04,   2.02807421e-04,\n",
       "          1.88658066e-04,   1.50926453e-04,   1.29702420e-04,\n",
       "          9.90454845e-05,   6.36720972e-05,   8.72543554e-05,\n",
       "          1.01403710e-04,   8.25379038e-05,   5.65974197e-05,\n",
       "          4.71645164e-05,   1.17911291e-05,   9.43290329e-06,\n",
       "          1.88658066e-05]),\n",
       " array([   1. ,   25.4,   49.8,   74.2,   98.6,  123. ,  147.4,  171.8,\n",
       "         196.2,  220.6,  245. ,  269.4,  293.8,  318.2,  342.6,  367. ,\n",
       "         391.4,  415.8,  440.2,  464.6,  489. ,  513.4,  537.8,  562.2,\n",
       "         586.6,  611. ,  635.4,  659.8,  684.2,  708.6,  733. ,  757.4,\n",
       "         781.8,  806.2,  830.6,  855. ,  879.4,  903.8,  928.2,  952.6,\n",
       "         977. ]),\n",
       " <a list of 40 Patch objects>)"
      ]
     },
     "execution_count": 104,
     "metadata": {},
     "output_type": "execute_result"
    }
   ],
   "source": [
    "hist(targets, bins=40, color='lightblue', normed=True)"
   ]
  },
  {
   "cell_type": "code",
   "execution_count": 105,
   "metadata": {
    "collapsed": false
   },
   "outputs": [],
   "source": [
    "fig = matplotlib.pyplot.gcf()\n",
    "fig.set_size_inches(16, 10)"
   ]
  },
  {
   "cell_type": "code",
   "execution_count": 106,
   "metadata": {
    "collapsed": true
   },
   "outputs": [],
   "source": [
    "# Devido ao fato de que a distribuicao nao e uniformemente distribuida, no caso temos que transformar os dados para\n",
    "# logaritmo\n",
    "log_targets = records.map(lambda r: np.log(float(r[-1]))).collect()"
   ]
  },
  {
   "cell_type": "code",
   "execution_count": 107,
   "metadata": {
    "collapsed": false
   },
   "outputs": [
    {
     "data": {
      "text/plain": [
       "(array([ 0.05282272,  0.        ,  0.        ,  0.        ,  0.06953877,\n",
       "         0.        ,  0.0748879 ,  0.        ,  0.07722815,  0.08692346,\n",
       "         0.07889975,  0.06619556,  0.10363951,  0.10096494,  0.07856543,\n",
       "         0.0621837 ,  0.0956158 ,  0.10497679,  0.1066484 ,  0.1210242 ,\n",
       "         0.12871358,  0.12135852,  0.13172247,  0.15245037,  0.16649185,\n",
       "         0.19190025,  0.23235309,  0.26545087,  0.30122321,  0.3376642 ,\n",
       "         0.38012297,  0.39516741,  0.36842173,  0.3423447 ,  0.30824395,\n",
       "         0.24472297,  0.20661037,  0.14275506,  0.07689383,  0.03543803]),\n",
       " array([ 0.        ,  0.17211217,  0.34422433,  0.5163365 ,  0.68844867,\n",
       "         0.86056083,  1.032673  ,  1.20478516,  1.37689733,  1.5490095 ,\n",
       "         1.72112166,  1.89323383,  2.065346  ,  2.23745816,  2.40957033,\n",
       "         2.58168249,  2.75379466,  2.92590683,  3.09801899,  3.27013116,\n",
       "         3.44224333,  3.61435549,  3.78646766,  3.95857982,  4.13069199,\n",
       "         4.30280416,  4.47491632,  4.64702849,  4.81914066,  4.99125282,\n",
       "         5.16336499,  5.33547716,  5.50758932,  5.67970149,  5.85181365,\n",
       "         6.02392582,  6.19603799,  6.36815015,  6.54026232,  6.71237449,\n",
       "         6.88448665]),\n",
       " <a list of 40 Patch objects>)"
      ]
     },
     "execution_count": 107,
     "metadata": {},
     "output_type": "execute_result"
    }
   ],
   "source": [
    "hist(log_targets, bins=40, color='lightblue', normed=True)"
   ]
  },
  {
   "cell_type": "code",
   "execution_count": 108,
   "metadata": {
    "collapsed": false
   },
   "outputs": [],
   "source": [
    "fig = matplotlib.pyplot.gcf()\n",
    "fig.set_size_inches(16, 10)"
   ]
  },
  {
   "cell_type": "code",
   "execution_count": 109,
   "metadata": {
    "collapsed": true
   },
   "outputs": [],
   "source": [
    "# Quando nao houver valores negativos e o range de valores for bem alto, recomenda-se a transformacao via raiz quadrada\n",
    "sqrt_targets = records.map(lambda r: np.sqrt(float(r[-1]))).collect()"
   ]
  },
  {
   "cell_type": "code",
   "execution_count": 110,
   "metadata": {
    "collapsed": false
   },
   "outputs": [
    {
     "data": {
      "text/plain": [
       "(array([ 0.04488088,  0.05530237,  0.05043394,  0.05119463,  0.0376543 ,\n",
       "         0.04609799,  0.04297915,  0.03818678,  0.03887141,  0.04510909,\n",
       "         0.04001245,  0.04746724,  0.04982538,  0.05073822,  0.05203139,\n",
       "         0.05385706,  0.05781266,  0.0512707 ,  0.05553058,  0.04564157,\n",
       "         0.04609799,  0.04214239,  0.03818678,  0.03149269,  0.03217731,\n",
       "         0.02852598,  0.0222883 ,  0.02198402,  0.02122333,  0.01589848,\n",
       "         0.01597455,  0.01080184,  0.00988901,  0.00882404,  0.00585734,\n",
       "         0.00425988,  0.00547699,  0.00342312,  0.00167352,  0.00091283]),\n",
       " array([  1.        ,   1.75642498,   2.51284996,   3.26927494,\n",
       "          4.02569992,   4.7821249 ,   5.53854988,   6.29497486,\n",
       "          7.05139984,   7.80782482,   8.5642498 ,   9.32067478,\n",
       "         10.07709976,  10.83352475,  11.58994973,  12.34637471,\n",
       "         13.10279969,  13.85922467,  14.61564965,  15.37207463,\n",
       "         16.12849961,  16.88492459,  17.64134957,  18.39777455,\n",
       "         19.15419953,  19.91062451,  20.66704949,  21.42347447,\n",
       "         22.17989945,  22.93632443,  23.69274941,  24.44917439,\n",
       "         25.20559937,  25.96202435,  26.71844933,  27.47487431,\n",
       "         28.23129929,  28.98772427,  29.74414926,  30.50057424,  31.25699922]),\n",
       " <a list of 40 Patch objects>)"
      ]
     },
     "execution_count": 110,
     "metadata": {},
     "output_type": "execute_result"
    }
   ],
   "source": [
    "hist(sqrt_targets, bins=40, color='lightblue', normed=True)"
   ]
  },
  {
   "cell_type": "code",
   "execution_count": 111,
   "metadata": {
    "collapsed": true
   },
   "outputs": [],
   "source": [
    "fig = matplotlib.pyplot.gcf()\n",
    "fig.set_size_inches(16, 10)"
   ]
  },
  {
   "cell_type": "markdown",
   "metadata": {},
   "source": [
    "# Impacto das transformacoes de log e raiz no treinamento"
   ]
  },
  {
   "cell_type": "code",
   "execution_count": 112,
   "metadata": {
    "collapsed": true
   },
   "outputs": [],
   "source": [
    "data_log = data.map(lambda lp: LabeledPoint(np.log(lp.label),lp.features))"
   ]
  },
  {
   "cell_type": "code",
   "execution_count": 113,
   "metadata": {
    "collapsed": true
   },
   "outputs": [],
   "source": [
    "model_log = LinearRegressionWithSGD.train(data_log\n",
    "                                          ,iterations=10\n",
    "                                          ,step=0.1)"
   ]
  },
  {
   "cell_type": "code",
   "execution_count": 114,
   "metadata": {
    "collapsed": true
   },
   "outputs": [],
   "source": [
    "true_vs_predicted_log = data_log.map(lambda p: (np.exp(p.label),np.exp(model_log.predict(p.features))))"
   ]
  },
  {
   "cell_type": "code",
   "execution_count": 115,
   "metadata": {
    "collapsed": true
   },
   "outputs": [],
   "source": [
    "mse_log = true_vs_predicted_log.map(lambda (t, p): squared_error(t,p)).mean()\n",
    "mae_log = true_vs_predicted_log.map(lambda (t, p): abs_error(t, p)).mean()\n",
    "rmsle_log = np.sqrt(true_vs_predicted_log.map(lambda (t, p): squared_log_error(t, p)).mean())"
   ]
  },
  {
   "cell_type": "code",
   "execution_count": 116,
   "metadata": {
    "collapsed": false
   },
   "outputs": [
    {
     "name": "stdout",
     "output_type": "stream",
     "text": [
      "Mean Squared Error: 52254.3669\n",
      "Mean Absolue Error: 158.3636\n",
      "Root Mean Squared Log Error: 1.6345\n",
      "Non log-transformed predictions:\n",
      "[(16.0, 160.01234799867828), (40.0, 159.785197748266), (32.0, 153.93103032000286)]\n",
      "Log-transformed predictions:\n",
      "[(15.999999999999998, 53.284234677508636), (40.0, 52.055113205629205), (32.0, 44.608309612091546)]\n"
     ]
    }
   ],
   "source": [
    "print \"Mean Squared Error: %2.4f\" % mse_log\n",
    "print \"Mean Absolue Error: %2.4f\" % mae_log\n",
    "print \"Root Mean Squared Log Error: %2.4f\" % rmsle_log\n",
    "print \"Non log-transformed predictions:\\n\" + str(true_vs_predicted.take(3))\n",
    "print \"Log-transformed predictions:\\n\" + str(true_vs_predicted_log.take(3))"
   ]
  },
  {
   "cell_type": "code",
   "execution_count": 117,
   "metadata": {
    "collapsed": true
   },
   "outputs": [],
   "source": [
    "data_dt_log = data_dt.map(lambda lp:LabeledPoint(np.log(lp.label), lp.features))\n",
    "dt_model_log = DecisionTree.trainRegressor(data_dt_log,{})\n",
    "preds_log = dt_model_log.predict(data_dt_log.map(lambda p:p.features))\n",
    "actual_log = data_dt_log.map(lambda p: p.label)\n",
    "true_vs_predicted_dt_log = actual_log.zip(preds_log).map(lambda (t,p): (np.exp(t), np.exp(p)))\n",
    "mse_log_dt = true_vs_predicted_dt_log.map(lambda (t, p): squared_error(t, p)).mean()\n",
    "mae_log_dt = true_vs_predicted_dt_log.map(lambda (t, p): abs_error(t,p)).mean()\n",
    "rmsle_log_dt = np.sqrt(true_vs_predicted_dt_log.map(lambda (t, p):squared_log_error(t, p)).mean())"
   ]
  },
  {
   "cell_type": "code",
   "execution_count": 118,
   "metadata": {
    "collapsed": false
   },
   "outputs": [
    {
     "name": "stdout",
     "output_type": "stream",
     "text": [
      "Mean Squared Error: 14781.5760\n",
      "Mean Absolue Error: 76.4131\n",
      "Root Mean Squared Log Error: 0.6406\n",
      "Non log-transformed predictions:\n",
      "[(16.0, 54.913223140495866), (40.0, 54.913223140495866), (32.0, 53.171052631578945)]\n",
      "Log-transformed predictions:\n",
      "[(15.999999999999998, 37.530779787154508), (40.0, 37.530779787154508), (32.0, 7.2797070993907127)]\n"
     ]
    }
   ],
   "source": [
    "print \"Mean Squared Error: %2.4f\" % mse_log_dt\n",
    "print \"Mean Absolue Error: %2.4f\" % mae_log_dt\n",
    "print \"Root Mean Squared Log Error: %2.4f\" % rmsle_log_dt\n",
    "print \"Non log-transformed predictions:\\n\" + str(true_vs_predicted_dt.take(3))\n",
    "print \"Log-transformed predictions:\\n\" + str(true_vs_predicted_dt_log.take(3))"
   ]
  },
  {
   "cell_type": "markdown",
   "metadata": {},
   "source": [
    "# Tunning do modelo "
   ]
  },
  {
   "cell_type": "code",
   "execution_count": 119,
   "metadata": {
    "collapsed": true
   },
   "outputs": [],
   "source": [
    "# Atribuicao de index para todos os campos via chave e valor\n",
    "data_with_idx = data.zipWithIndex().map(lambda (k, v): (v, k))"
   ]
  },
  {
   "cell_type": "code",
   "execution_count": 120,
   "metadata": {
    "collapsed": true
   },
   "outputs": [],
   "source": [
    "# Nesse caso a base de teste sera criada usando 20% de todo o conjunto de dados\n",
    "test = data_with_idx.sample(False, 0.2, 42)"
   ]
  },
  {
   "cell_type": "code",
   "execution_count": 121,
   "metadata": {
    "collapsed": true
   },
   "outputs": [],
   "source": [
    "# O subtractByKey() faz o trabalho de remover da base inicial as instancias que tem overlap\n",
    "# ou seja, esses serao os 80% da base de testes\n",
    "train = data_with_idx.subtractByKey(test)"
   ]
  },
  {
   "cell_type": "code",
   "execution_count": 123,
   "metadata": {
    "collapsed": true
   },
   "outputs": [],
   "source": [
    "train_data = train.map(lambda (idx, p): p)\n",
    "test_data = test.map(lambda (idx, p) : p)\n",
    "train_size = train_data.count()\n",
    "test_size = test_data.count()"
   ]
  },
  {
   "cell_type": "code",
   "execution_count": 124,
   "metadata": {
    "collapsed": false
   },
   "outputs": [
    {
     "name": "stdout",
     "output_type": "stream",
     "text": [
      "Training data size: 13843\n",
      "Test data size: 3536\n",
      "Total data size: 17379 \n",
      "Train + Test size : 17379\n"
     ]
    }
   ],
   "source": [
    "print \"Training data size: %d\" % train_size\n",
    "print \"Test data size: %d\" % test_size\n",
    "print \"Total data size: %d \" % num_data\n",
    "print \"Train + Test size : %d\" % (train_size + test_size)"
   ]
  },
  {
   "cell_type": "code",
   "execution_count": 125,
   "metadata": {
    "collapsed": true
   },
   "outputs": [],
   "source": [
    "data_with_idx_dt = data_dt.zipWithIndex().map(lambda (k, v): (v, k))\n",
    "test_dt = data_with_idx_dt.sample(False, 0.2, 42)\n",
    "train_dt = data_with_idx_dt.subtractByKey(test_dt)\n",
    "train_data_dt = train_dt.map(lambda (idx, p): p)\n",
    "test_data_dt = test_dt.map(lambda (idx, p) : p)"
   ]
  },
  {
   "cell_type": "code",
   "execution_count": 126,
   "metadata": {
    "collapsed": true
   },
   "outputs": [],
   "source": [
    "def evaluate(train, test, iterations, step, regParam, regType,intercept):\n",
    "    model = LinearRegressionWithSGD.train(train\n",
    "                                          ,iterations\n",
    "                                          ,step\n",
    "                                          ,regParam=regParam\n",
    "                                          ,regType=regType\n",
    "                                          ,intercept=intercept)\n",
    "    \n",
    "    tp = test.map(lambda p: (p.label, model.predict(p.features)))\n",
    "    \n",
    "    rmsle = np.sqrt(tp.map(lambda (t, p): squared_log_error(t, p)).mean())\n",
    "    \n",
    "    return rmsle"
   ]
  },
  {
   "cell_type": "code",
   "execution_count": 159,
   "metadata": {
    "collapsed": false
   },
   "outputs": [
    {
     "name": "stdout",
     "output_type": "stream",
     "text": [
      "Parametros escolhidos: [1, 5, 10, 20, 50, 100]\n",
      "RMSLE dos parametros [2.938740007589578, 2.0916005231359911, 1.8212144102414591, 1.6176571449076043, 1.4562005099627713, 1.4101463900586928]\n"
     ]
    }
   ],
   "source": [
    "# Numero de interacoes como parametros\n",
    "params = [1, 5, 10, 20, 50, 100]\n",
    "metrics = [evaluate(train_data, test_data, param, 0.01, 0.0,'l2',False) for param in params]\n",
    "\n",
    "print 'Parametros escolhidos:', params\n",
    "print 'RMSLE dos parametros', metrics"
   ]
  },
  {
   "cell_type": "code",
   "execution_count": 157,
   "metadata": {
    "collapsed": false
   },
   "outputs": [
    {
     "data": {
      "image/png": "[encoded data removed]",
      "text/plain": [
       "<matplotlib.figure.Figure at 0x108826090>"
      ]
     },
     "metadata": {},
     "output_type": "display_data"
    }
   ],
   "source": [
    "matplotlib.pyplot.plot(params, metrics)\n",
    "matplotlib.pyplot.show()"
   ]
  },
  {
   "cell_type": "code",
   "execution_count": 161,
   "metadata": {
    "collapsed": false
   },
   "outputs": [
    {
     "name": "stdout",
     "output_type": "stream",
     "text": [
      "Parametros escolhidos: [0.01, 0.025, 0.05, 0.1, 1.0]\n",
      "RMSLE dos parametros [1.8212144102414591, 1.455621468985357, 1.4132303798228281, 1.4856410282121733, 1.4373432312660201]\n"
     ]
    }
   ],
   "source": [
    "# Step size\n",
    "params = [0.01, 0.025, 0.05, 0.1, 1.0]\n",
    "metrics = [evaluate(train_data, test_data, 10, param, 0.0, 'l2',False) for param in params]\n",
    "\n",
    "print 'Parametros escolhidos:', params\n",
    "print 'RMSLE dos parametros', metrics"
   ]
  },
  {
   "cell_type": "code",
   "execution_count": 163,
   "metadata": {
    "collapsed": false
   },
   "outputs": [
    {
     "name": "stdout",
     "output_type": "stream",
     "text": [
      "Parametros escolhidos: [0.0, 0.01, 0.1, 1.0, 5.0, 10.0, 20.0]\n",
      "RMSLE dos parametros [1.4856410282121733, 1.4850439245172697, 1.479780052361904, 1.4376982988451119, 1.4256021549246309, 1.5702189463701444, 1.8751498160911304]\n"
     ]
    }
   ],
   "source": [
    "# Regularizacao Ridge (L2)\n",
    "params = [0.0, 0.01, 0.1, 1.0, 5.0, 10.0, 20.0]\n",
    "metrics = [evaluate(train_data, test_data, 10, 0.1, param, 'l2',False) for param in params]\n",
    "\n",
    "print 'Parametros escolhidos:', params\n",
    "print 'RMSLE dos parametros', metrics"
   ]
  },
  {
   "cell_type": "code",
   "execution_count": 164,
   "metadata": {
    "collapsed": false
   },
   "outputs": [
    {
     "data": {
      "image/png": "[encoded data removed]",
      "text/plain": [
       "<matplotlib.figure.Figure at 0x1088470d0>"
      ]
     },
     "metadata": {},
     "output_type": "display_data"
    }
   ],
   "source": [
    "matplotlib.pyplot.plot(params, metrics)\n",
    "matplotlib.pyplot.xscale('log')\n",
    "matplotlib.pyplot.show()"
   ]
  },
  {
   "cell_type": "code",
   "execution_count": 168,
   "metadata": {
    "collapsed": false
   },
   "outputs": [
    {
     "name": "stdout",
     "output_type": "stream",
     "text": [
      "Parametros escolhidos: [0.0, 0.01, 0.1, 1.0, 10.0, 100.0, 1000.0]\n",
      "RMSLE dos parametros [1.4856410282121733, 1.4856114650997028, 1.4853455595021163, 1.4827028686828554, 1.4581581440974132, 1.5480780831167806, 4.7975574647546564]\n"
     ]
    }
   ],
   "source": [
    "# Regularizacao L! (Lasso)\n",
    "params = [0.0, 0.01, 0.1, 1.0, 10.0, 100.0, 1000.0]\n",
    "metrics = [evaluate(train_data, test_data, 10, 0.1, param, 'l1',False) for param in params]\n",
    "\n",
    "print 'Parametros escolhidos:', params\n",
    "print 'RMSLE dos parametros', metrics"
   ]
  },
  {
   "cell_type": "code",
   "execution_count": 169,
   "metadata": {
    "collapsed": false
   },
   "outputs": [
    {
     "data": {
      "image/png": "[encoded data removed]",
      "text/plain": [
       "<matplotlib.figure.Figure at 0x1083e7550>"
      ]
     },
     "metadata": {},
     "output_type": "display_data"
    }
   ],
   "source": [
    "matplotlib.pyplot.plot(params, metrics)\n",
    "matplotlib.pyplot.xscale('log')\n",
    "matplotlib.pyplot.show()"
   ]
  },
  {
   "cell_type": "code",
   "execution_count": 167,
   "metadata": {
    "collapsed": true
   },
   "outputs": [],
   "source": [
    "model_l1 = LinearRegressionWithSGD.train(train_data, 10, 0.1,regParam=1.0, regType='l1', intercept=False)\n",
    "model_l1_10 = LinearRegressionWithSGD.train(train_data, 10, 0.1,regParam=10.0, regType='l1', intercept=False)\n",
    "model_l1_100 = LinearRegressionWithSGD.train(train_data, 10, 0.1,regParam=100.0, regType='l1', intercept=False)"
   ]
  },
  {
   "cell_type": "code",
   "execution_count": 170,
   "metadata": {
    "collapsed": false
   },
   "outputs": [
    {
     "name": "stdout",
     "output_type": "stream",
     "text": [
      "L1 (1.0) number of zero weights: 33\n",
      "L1 (10.0) number of zeros weights: 44\n",
      "L1 (100.0) number of zeros weights: 59\n"
     ]
    }
   ],
   "source": [
    "print \"L1 (1.0) number of zero weights: \" + str(sum(model_l1.weights.array == 0))\n",
    "print \"L1 (10.0) number of zeros weights: \" + str(sum(model_l1_10.weights.array == 0))\n",
    "print \"L1 (100.0) number of zeros weights: \" + str(sum(model_l1_100.weights.array == 0))"
   ]
  },
  {
   "cell_type": "code",
   "execution_count": null,
   "metadata": {
    "collapsed": true
   },
   "outputs": [],
   "source": [
    "# Como a regularizacao e mais agressiva o numero de numeros zeros e maior quanto mais se aumenta a regularizacao"
   ]
  },
  {
   "cell_type": "code",
   "execution_count": 171,
   "metadata": {
    "collapsed": false
   },
   "outputs": [
    {
     "name": "stdout",
     "output_type": "stream",
     "text": [
      "Parametros escolhidos: [False, True]\n",
      "RMSLE dos parametros [1.4376982988451119, 1.4619745637443835]\n"
     ]
    }
   ],
   "source": [
    "# Intercepto\n",
    "params = [False, True]\n",
    "metrics = [evaluate(train_data, test_data, 10, 0.1, 1.0, 'l2', param)for param in params]\n",
    "print 'Parametros escolhidos:', params\n",
    "print 'RMSLE dos parametros', metrics"
   ]
  },
  {
   "cell_type": "code",
   "execution_count": 172,
   "metadata": {
    "collapsed": false
   },
   "outputs": [
    {
     "data": {
      "image/png": "[encoded data removed]",
      "text/plain": [
       "<matplotlib.figure.Figure at 0x108be33d0>"
      ]
     },
     "metadata": {},
     "output_type": "display_data"
    }
   ],
   "source": [
    "# Put in bar\n",
    "matplotlib.pyplot.bar(params, metrics)\n",
    "matplotlib.pyplot.xscale('log')\n",
    "matplotlib.pyplot.show()"
   ]
  },
  {
   "cell_type": "markdown",
   "metadata": {},
   "source": [
    "# Impacto dos parametros na arvore de decisao regressora"
   ]
  },
  {
   "cell_type": "code",
   "execution_count": 174,
   "metadata": {
    "collapsed": true
   },
   "outputs": [],
   "source": [
    "def evaluate_dt(train, test, maxDepth, maxBins):\n",
    "    model = DecisionTree.trainRegressor(train\n",
    "                                        , {}\n",
    "                                        ,impurity='variance'\n",
    "                                        ,maxDepth=maxDepth\n",
    "                                        ,maxBins=maxBins)\n",
    "    \n",
    "    preds = model.predict(test.map(lambda p: p.features))\n",
    "    \n",
    "    actual = test.map(lambda p: p.label)\n",
    "    \n",
    "    tp = actual.zip(preds)\n",
    "    \n",
    "    rmsle = np.sqrt(tp.map(lambda (t, p): squared_log_error(t,p)).mean())\n",
    "    \n",
    "    return rmsle"
   ]
  },
  {
   "cell_type": "code",
   "execution_count": 175,
   "metadata": {
    "collapsed": false
   },
   "outputs": [
    {
     "name": "stdout",
     "output_type": "stream",
     "text": [
      "[1, 2, 3, 4, 5, 10, 20]\n",
      "[1.0096683340936519, 0.91969992278272761, 0.8153844681589919, 0.73662190225082969, 0.63743991277301437, 0.41268609723707311, 0.44150092501568089]\n"
     ]
    },
    {
     "data": {
      "image/png": "[encoded data removed]",
      "text/plain": [
       "<matplotlib.figure.Figure at 0x10983b490>"
      ]
     },
     "metadata": {},
     "output_type": "display_data"
    }
   ],
   "source": [
    "# Tree Depth\n",
    "params = [1, 2, 3, 4, 5, 10, 20]\n",
    "metrics = [evaluate_dt(train_data_dt, test_data_dt, param, 32) for param in params]\n",
    "\n",
    "print 'Parametros escolhidos:', params\n",
    "print 'RMSLE dos parametros', metrics\n",
    "\n",
    "plot(params, metrics)\n",
    "fig = matplotlib.pyplot.gcf()"
   ]
  },
  {
   "cell_type": "code",
   "execution_count": 176,
   "metadata": {
    "collapsed": false
   },
   "outputs": [
    {
     "name": "stdout",
     "output_type": "stream",
     "text": [
      "Parametros escolhidos: [2, 4, 8, 16, 32, 64, 100]\n",
      "RMSLE dos parametros [1.2571956557524344, 0.81163776220529393, 0.75846230141673943, 0.62020394014589464, 0.63743991277301437, 0.63743991277301437, 0.63743991277301437]\n"
     ]
    },
    {
     "data": {
      "image/png": "[encoded data removed]",
      "text/plain": [
       "<matplotlib.figure.Figure at 0x10983b510>"
      ]
     },
     "metadata": {},
     "output_type": "display_data"
    }
   ],
   "source": [
    "# Maximo de bins\n",
    "params = [2, 4, 8, 16, 32, 64, 100]\n",
    "metrics = [evaluate_dt(train_data_dt, test_data_dt, 5, param) for param in params]\n",
    "\n",
    "print 'Parametros escolhidos:', params\n",
    "print 'RMSLE dos parametros', metrics\n",
    "\n",
    "plot(params, metrics)\n",
    "fig = matplotlib.pyplot.gcf()"
   ]
  },
  {
   "cell_type": "code",
   "execution_count": null,
   "metadata": {
    "collapsed": false,
    "deletable": true,
    "editable": true
   },
   "outputs": [],
   "source": [
    "# Save and load model\n",
    "#model.save(sc, \"home/myDecisionTreeClassificationModel\")\n"
   ]
  },
  {
   "cell_type": "code",
   "execution_count": null,
   "metadata": {
    "collapsed": true,
    "deletable": true,
    "editable": true
   },
   "outputs": [],
   "source": [
    "#sameModel = DecisionTreeModel.load(sc, \"target/tmp/myDecisionTreeClassificationModel\")"
   ]
  }
 ],
 "metadata": {
  "kernelspec": {
   "display_name": "Python 2",
   "language": "python",
   "name": "python2"
  },
  "language_info": {
   "codemirror_mode": {
    "name": "ipython",
    "version": 2
   },
   "file_extension": ".py",
   "mimetype": "text/x-python",
   "name": "python",
   "nbconvert_exporter": "python",
   "pygments_lexer": "ipython2",
   "version": "2.7.13"
  }
 },
 "nbformat": 4,
 "nbformat_minor": 2
}
