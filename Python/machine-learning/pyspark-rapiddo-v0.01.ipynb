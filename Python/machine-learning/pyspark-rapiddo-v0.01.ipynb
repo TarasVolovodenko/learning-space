{
 "cells": [
  {
   "cell_type": "code",
   "execution_count": 1,
   "metadata": {
    "collapsed": true,
    "deletable": true,
    "editable": true
   },
   "outputs": [],
   "source": [
    "# Imports relativos ao sistema operacional\n",
    "import os\n",
    "import sys"
   ]
  },
  {
   "cell_type": "code",
   "execution_count": 2,
   "metadata": {
    "collapsed": true,
    "deletable": true,
    "editable": true
   },
   "outputs": [],
   "source": [
    "# Passagem de caminhos do Spark e do diretório de dados\n",
    "SPARK_PATH = \"/Users/flavio.clesio/Documents/spark-2.1.0\" \n",
    "ROOT_DIR = \"/Users/flavio.clesio/Desktop/pyspark-regression/dataset/\""
   ]
  },
  {
   "cell_type": "code",
   "execution_count": 3,
   "metadata": {
    "collapsed": true,
    "deletable": true,
    "editable": true
   },
   "outputs": [],
   "source": [
    "# Neste snippet passamos os caminhos do Spark como variaveis de ambiente para o sistema operacional\n",
    "os.environ['SPARK_HOME'] = SPARK_PATH\n",
    "os.environ['HADOOP_HOME'] = SPARK_PATH\n",
    "\n",
    "# Neste snippet passamos todas as partes da instalacao do Spark\n",
    "sys.path.append(SPARK_PATH + \"/bin\")\n",
    "sys.path.append(SPARK_PATH + \"/python\")\n",
    "sys.path.append(SPARK_PATH + \"/python/pyspark/\")\n",
    "sys.path.append(SPARK_PATH + \"/python/lib\")\n",
    "sys.path.append(SPARK_PATH + \"/python/lib/pyspark.zip\")\n",
    "sys.path.append(SPARK_PATH + \"/python/lib/py4j-0.10.4-src.zip\") # Must be the same version of your Spark Version"
   ]
  },
  {
   "cell_type": "code",
   "execution_count": 4,
   "metadata": {
    "collapsed": true,
    "deletable": true,
    "editable": true
   },
   "outputs": [],
   "source": [
    "%matplotlib inline"
   ]
  },
  {
   "cell_type": "code",
   "execution_count": 5,
   "metadata": {
    "collapsed": false,
    "deletable": true,
    "editable": true
   },
   "outputs": [
    {
     "name": "stderr",
     "output_type": "stream",
     "text": [
      "/usr/local/lib/python2.7/site-packages/matplotlib/__init__.py:1405: UserWarning: \n",
      "This call to matplotlib.use() has no effect because the backend has already\n",
      "been chosen; matplotlib.use() must be called *before* pylab, matplotlib.pyplot,\n",
      "or matplotlib.backends is imported for the first time.\n",
      "\n",
      "  warnings.warn(_use_error_msg)\n"
     ]
    }
   ],
   "source": [
    "# Vamos fazer agora alguns imports iniciais em relação ao Spark\n",
    "from pyspark import SparkContext\n",
    "from pyspark import SparkConf\n",
    "from pyspark.mllib.tree import DecisionTree, DecisionTreeModel\n",
    "from pyspark.mllib.util import MLUtils\n",
    "from pyspark.mllib.regression import LabeledPoint\n",
    "from pyspark.mllib.regression import LinearRegressionWithSGD\n",
    "from pyspark.mllib.evaluation import RegressionMetrics\n",
    "from pyspark.mllib.tree import DecisionTree\n",
    "import matplotlib.pyplot\n",
    "import numpy as np\n",
    "import matplotlib\n",
    "matplotlib.use('Agg')"
   ]
  },
  {
   "cell_type": "code",
   "execution_count": 6,
   "metadata": {
    "collapsed": false,
    "deletable": true,
    "editable": true
   },
   "outputs": [
    {
     "name": "stdout",
     "output_type": "stream",
     "text": [
      "Populating the interactive namespace from numpy and matplotlib\n"
     ]
    }
   ],
   "source": [
    "%pylab inline\n",
    "pylab.rcParams['figure.figsize'] = (14, 9)"
   ]
  },
  {
   "cell_type": "code",
   "execution_count": 7,
   "metadata": {
    "collapsed": false,
    "deletable": true,
    "editable": true
   },
   "outputs": [
    {
     "data": {
      "text/plain": [
       "<pyspark.context.SparkContext at 0x105dd7e90>"
      ]
     },
     "execution_count": 7,
     "metadata": {},
     "output_type": "execute_result"
    }
   ],
   "source": [
    "# Instanciamento da sessao do Spark\n",
    "sc = SparkContext(\"local\", \"pyspark-rapiddo\")\n",
    "sc"
   ]
  },
  {
   "cell_type": "markdown",
   "metadata": {
    "deletable": true,
    "editable": true
   },
   "source": [
    "# Extracao de features para o modelo linear"
   ]
  },
  {
   "cell_type": "code",
   "execution_count": 8,
   "metadata": {
    "collapsed": true,
    "deletable": true,
    "editable": true
   },
   "outputs": [],
   "source": [
    "# Carga do arquivo .csv\n",
    "raw_data = sc.textFile(ROOT_DIR + \"base_maio_scalled_one_hotted.csv\")"
   ]
  },
  {
   "cell_type": "code",
   "execution_count": 9,
   "metadata": {
    "collapsed": false,
    "deletable": true,
    "editable": true
   },
   "outputs": [
    {
     "name": "stdout",
     "output_type": "stream",
     "text": [
      "Quantidade de registros: 118544\n"
     ]
    }
   ],
   "source": [
    "# Contagem simples em relacao ao numero de registros\n",
    "num_data = raw_data.count()\n",
    "print 'Quantidade de registros:',  num_data"
   ]
  },
  {
   "cell_type": "code",
   "execution_count": 10,
   "metadata": {
    "collapsed": false,
    "deletable": true,
    "editable": true
   },
   "outputs": [],
   "source": [
    "# Transformacao do arquivo em um RDD realizando a divisao pela virgula\n",
    "records = raw_data.map(lambda x: x.split(\"|\"))"
   ]
  },
  {
   "cell_type": "code",
   "execution_count": 11,
   "metadata": {
    "collapsed": false,
    "deletable": true,
    "editable": true
   },
   "outputs": [
    {
     "name": "stdout",
     "output_type": "stream",
     "text": [
      "[u'1,0,0,0,0,0,0,0,0,0,0,0,0,0,0,0,0,0,0,0,0,0,0,0,0,0,0,0,1,0,0,0,0,0,0,0,0,0,0,0,0,0,0,0,0,0,0,0,0,0,0,0,0,0,0,0,0,0,1,0,0,0,0,0,0,0,0,0,0,0,3.776331646,-0.303368592,-0.571108822,923']\n"
     ]
    }
   ],
   "source": [
    "# Primeiro registro ja sem os headers\n",
    "first = records.first()\n",
    "print first"
   ]
  },
  {
   "cell_type": "code",
   "execution_count": 12,
   "metadata": {
    "collapsed": false,
    "deletable": true,
    "editable": true
   },
   "outputs": [
    {
     "data": {
      "text/plain": [
       "PythonRDD[4] at RDD at PythonRDD.scala:48"
      ]
     },
     "execution_count": 12,
     "metadata": {},
     "output_type": "execute_result"
    }
   ],
   "source": [
    "# Vamos colocar os dados em cache, ja que vamos realizar inumeras leituras\n",
    "records.cache()"
   ]
  },
  {
   "cell_type": "code",
   "execution_count": 13,
   "metadata": {
    "collapsed": false,
    "deletable": true,
    "editable": true
   },
   "outputs": [
    {
     "data": {
      "text/plain": [
       "[u'1,0,0,0,0,0,0,0,0,0,0,0,0,0,0,0,0,0,0,0,0,0,0,0,0,0,0,0,1,0,0,0,0,0,0,0,0,0,0,0,0,0,0,0,0,0,0,0,0,0,0,0,0,0,0,0,0,0,1,0,0,0,0,0,0,0,0,0,0,0,3.776331646,-0.303368592,-0.571108822,923']"
      ]
     },
     "execution_count": 13,
     "metadata": {},
     "output_type": "execute_result"
    }
   ],
   "source": [
    "# Primeiro registro do dataset records\n",
    "records.first()"
   ]
  },
  {
   "cell_type": "code",
   "execution_count": 14,
   "metadata": {
    "collapsed": true,
    "deletable": true,
    "editable": true
   },
   "outputs": [],
   "source": [
    "# Load and parse the data\n",
    "def parsePoint(line):\n",
    "    values = [float(x) for x in line.replace(',', ' ').split(' ')]\n",
    "    return LabeledPoint(values[73], values[1:73])"
   ]
  },
  {
   "cell_type": "code",
   "execution_count": 15,
   "metadata": {
    "collapsed": false,
    "deletable": true,
    "editable": true
   },
   "outputs": [],
   "source": [
    "parsedData = raw_data.map(parsePoint)"
   ]
  },
  {
   "cell_type": "code",
   "execution_count": 16,
   "metadata": {
    "collapsed": false,
    "deletable": true,
    "editable": true
   },
   "outputs": [
    {
     "data": {
      "text/plain": [
       "[LabeledPoint(923.0, [0.0,0.0,0.0,0.0,0.0,0.0,0.0,0.0,0.0,0.0,0.0,0.0,0.0,0.0,0.0,0.0,0.0,0.0,0.0,0.0,0.0,0.0,0.0,0.0,0.0,0.0,0.0,1.0,0.0,0.0,0.0,0.0,0.0,0.0,0.0,0.0,0.0,0.0,0.0,0.0,0.0,0.0,0.0,0.0,0.0,0.0,0.0,0.0,0.0,0.0,0.0,0.0,0.0,0.0,0.0,0.0,0.0,1.0,0.0,0.0,0.0,0.0,0.0,0.0,0.0,0.0,0.0,0.0,0.0,3.776331646,-0.303368592,-0.571108822])]"
      ]
     },
     "execution_count": 16,
     "metadata": {},
     "output_type": "execute_result"
    }
   ],
   "source": [
    "parsedData.take(1)"
   ]
  },
  {
   "cell_type": "code",
   "execution_count": 17,
   "metadata": {
    "collapsed": false,
    "deletable": true,
    "editable": true
   },
   "outputs": [
    {
     "data": {
      "text/plain": [
       "[u'1,0,0,0,0,0,0,0,0,0,0,0,0,0,0,0,0,0,0,0,0,0,0,0,0,0,0,0,1,0,0,0,0,0,0,0,0,0,0,0,0,0,0,0,0,0,0,0,0,0,0,0,0,0,0,0,0,0,1,0,0,0,0,0,0,0,0,0,0,0,3.776331646,-0.303368592,-0.571108822,923']"
      ]
     },
     "execution_count": 17,
     "metadata": {},
     "output_type": "execute_result"
    }
   ],
   "source": [
    "raw_data.take(1)"
   ]
  },
  {
   "cell_type": "code",
   "execution_count": 18,
   "metadata": {
    "collapsed": true,
    "deletable": true,
    "editable": true
   },
   "outputs": [],
   "source": [
    "(trainingData, testData) = parsedData.randomSplit([0.7, 0.3], seed=100)"
   ]
  },
  {
   "cell_type": "code",
   "execution_count": 19,
   "metadata": {
    "collapsed": false,
    "deletable": true,
    "editable": true
   },
   "outputs": [
    {
     "data": {
      "text/plain": [
       "[LabeledPoint(923.0, [0.0,0.0,0.0,0.0,0.0,0.0,0.0,0.0,0.0,0.0,0.0,0.0,0.0,0.0,0.0,0.0,0.0,0.0,0.0,0.0,0.0,0.0,0.0,0.0,0.0,0.0,0.0,1.0,0.0,0.0,0.0,0.0,0.0,0.0,0.0,0.0,0.0,0.0,0.0,0.0,0.0,0.0,0.0,0.0,0.0,0.0,0.0,0.0,0.0,0.0,0.0,0.0,0.0,0.0,0.0,0.0,0.0,1.0,0.0,0.0,0.0,0.0,0.0,0.0,0.0,0.0,0.0,0.0,0.0,3.776331646,-0.303368592,-0.571108822])]"
      ]
     },
     "execution_count": 19,
     "metadata": {},
     "output_type": "execute_result"
    }
   ],
   "source": [
    "trainingData.take(1)"
   ]
  },
  {
   "cell_type": "code",
   "execution_count": 20,
   "metadata": {
    "collapsed": false,
    "deletable": true,
    "editable": true
   },
   "outputs": [
    {
     "data": {
      "text/plain": [
       "[LabeledPoint(25.0, [1.0,0.0,0.0,0.0,0.0,0.0,0.0,0.0,0.0,0.0,0.0,0.0,0.0,0.0,0.0,0.0,0.0,0.0,0.0,0.0,0.0,0.0,0.0,0.0,0.0,0.0,0.0,1.0,0.0,0.0,0.0,0.0,0.0,0.0,0.0,0.0,0.0,0.0,0.0,0.0,0.0,0.0,0.0,0.0,0.0,0.0,0.0,0.0,0.0,0.0,0.0,0.0,0.0,0.0,0.0,0.0,0.0,0.0,0.0,0.0,0.0,0.0,0.0,0.0,0.0,0.0,1.0,0.0,0.0,-0.332191362,-0.52114871,-0.752435134])]"
      ]
     },
     "execution_count": 20,
     "metadata": {},
     "output_type": "execute_result"
    }
   ],
   "source": [
    "testData.take(1)"
   ]
  },
  {
   "cell_type": "code",
   "execution_count": 21,
   "metadata": {
    "collapsed": false,
    "deletable": true,
    "editable": true
   },
   "outputs": [],
   "source": [
    "def get_categorical_fatures():\n",
    "    categoricalFeaturesInfo = {}\n",
    "    categoricalFeaturesInfo[0] = 2\n",
    "    categoricalFeaturesInfo[1] = 2\n",
    "    categoricalFeaturesInfo[2] = 2\n",
    "    categoricalFeaturesInfo[3] = 2\n",
    "    categoricalFeaturesInfo[4] = 2\n",
    "    categoricalFeaturesInfo[5] = 2\n",
    "    categoricalFeaturesInfo[6] = 2\n",
    "    categoricalFeaturesInfo[7] = 2\n",
    "    categoricalFeaturesInfo[8] = 2\n",
    "    categoricalFeaturesInfo[9] = 2\n",
    "    categoricalFeaturesInfo[10] = 2\n",
    "    categoricalFeaturesInfo[11] = 2\n",
    "    categoricalFeaturesInfo[12] = 2\n",
    "    categoricalFeaturesInfo[13] = 2\n",
    "    categoricalFeaturesInfo[14] = 2\n",
    "    categoricalFeaturesInfo[15] = 2\n",
    "    categoricalFeaturesInfo[16] = 2\n",
    "    categoricalFeaturesInfo[17] = 2\n",
    "    categoricalFeaturesInfo[18] = 2\n",
    "    categoricalFeaturesInfo[19] = 2\n",
    "    categoricalFeaturesInfo[20] = 2\n",
    "    categoricalFeaturesInfo[21] = 2\n",
    "    categoricalFeaturesInfo[22] = 2\n",
    "    categoricalFeaturesInfo[23] = 2\n",
    "    categoricalFeaturesInfo[24] = 2\n",
    "    categoricalFeaturesInfo[25] = 2\n",
    "    categoricalFeaturesInfo[26] = 2\n",
    "    categoricalFeaturesInfo[27] = 2\n",
    "    categoricalFeaturesInfo[28] = 2\n",
    "    categoricalFeaturesInfo[29] = 2\n",
    "    categoricalFeaturesInfo[30] = 2\n",
    "    categoricalFeaturesInfo[31] = 2\n",
    "    categoricalFeaturesInfo[32] = 2\n",
    "    categoricalFeaturesInfo[33] = 2\n",
    "    categoricalFeaturesInfo[34] = 2\n",
    "    categoricalFeaturesInfo[35] = 2\n",
    "    categoricalFeaturesInfo[36] = 2\n",
    "    categoricalFeaturesInfo[37] = 2\n",
    "    categoricalFeaturesInfo[38] = 2\n",
    "    categoricalFeaturesInfo[39] = 2\n",
    "    categoricalFeaturesInfo[40] = 2\n",
    "    categoricalFeaturesInfo[41] = 2\n",
    "    categoricalFeaturesInfo[42] = 2\n",
    "    categoricalFeaturesInfo[43] = 2\n",
    "    categoricalFeaturesInfo[44] = 2\n",
    "    categoricalFeaturesInfo[45] = 2\n",
    "    categoricalFeaturesInfo[46] = 2\n",
    "    categoricalFeaturesInfo[47] = 2\n",
    "    categoricalFeaturesInfo[48] = 2\n",
    "    categoricalFeaturesInfo[49] = 2\n",
    "    categoricalFeaturesInfo[50] = 2\n",
    "    categoricalFeaturesInfo[51] = 2\n",
    "    categoricalFeaturesInfo[52] = 2\n",
    "    categoricalFeaturesInfo[53] = 2\n",
    "    categoricalFeaturesInfo[54] = 2\n",
    "    categoricalFeaturesInfo[55] = 2\n",
    "    categoricalFeaturesInfo[56] = 2\n",
    "    categoricalFeaturesInfo[57] = 2\n",
    "    categoricalFeaturesInfo[58] = 2\n",
    "    categoricalFeaturesInfo[59] = 2\n",
    "    categoricalFeaturesInfo[60] = 2\n",
    "    categoricalFeaturesInfo[61] = 2\n",
    "    categoricalFeaturesInfo[62] = 2\n",
    "    categoricalFeaturesInfo[63] = 2\n",
    "    categoricalFeaturesInfo[64] = 2\n",
    "    categoricalFeaturesInfo[65] = 2\n",
    "    categoricalFeaturesInfo[66] = 2\n",
    "    categoricalFeaturesInfo[67] = 2\n",
    "    categoricalFeaturesInfo[68] = 2\n",
    "\n",
    "    return categoricalFeaturesInfo"
   ]
  },
  {
   "cell_type": "code",
   "execution_count": 22,
   "metadata": {
    "collapsed": false,
    "deletable": true,
    "editable": true
   },
   "outputs": [],
   "source": [
    "# Train a DecisionTree model.\n",
    "# Empty categoricalFeaturesInfo indicates all features are continuous.\n",
    "model = DecisionTree.trainRegressor(trainingData\n",
    "                                    ,get_categorical_fatures()\n",
    "                                    ,impurity='variance'\n",
    "                                    ,maxDepth=8\n",
    "                                    ,maxBins=200\n",
    "                                    ,minInstancesPerNode=1\n",
    "                                    ,minInfoGain = 0.0)"
   ]
  },
  {
   "cell_type": "code",
   "execution_count": 23,
   "metadata": {
    "collapsed": true,
    "deletable": true,
    "editable": true
   },
   "outputs": [],
   "source": [
    "# Evaluate model on test instances and compute test error\n",
    "predictions = model.predict(testData.map(lambda x: x.features))"
   ]
  },
  {
   "cell_type": "code",
   "execution_count": 24,
   "metadata": {
    "collapsed": true,
    "deletable": true,
    "editable": true
   },
   "outputs": [],
   "source": [
    "labelsAndPredictions = testData.map(lambda lp: lp.label).zip(predictions)"
   ]
  },
  {
   "cell_type": "code",
   "execution_count": 25,
   "metadata": {
    "collapsed": true,
    "deletable": true,
    "editable": true
   },
   "outputs": [],
   "source": [
    "testMSE = labelsAndPredictions.map(lambda lp: (lp[0] - lp[1]) * (lp[0] - lp[1])).sum()/float(testData.count())"
   ]
  },
  {
   "cell_type": "code",
   "execution_count": 26,
   "metadata": {
    "collapsed": false,
    "deletable": true,
    "editable": true
   },
   "outputs": [
    {
     "name": "stdout",
     "output_type": "stream",
     "text": [
      "Test Mean Squared Error = 78713.0239347\n",
      "Test Root Mean Squared Error = 280.558414479\n",
      "Learned regression tree model:\n",
      "DecisionTreeModel regressor of depth 8 with 475 nodes\n",
      "  If (feature 70 <= 0.983127614)\n",
      "   If (feature 69 <= -0.332191362)\n",
      "    If (feature 70 <= -0.081339107)\n",
      "     If (feature 70 <= -0.362859746)\n",
      "      If (feature 70 <= -0.444660083)\n",
      "       If (feature 70 <= -0.494590159)\n",
      "        If (feature 46 in {0.0})\n",
      "         If (feature 71 <= -0.69199303)\n",
      "          Predict: 24.88308366824991\n",
      "         Else (feature 71 > -0.69199303)\n",
      "          Predict: 36.66078865750997\n",
      "        Else (feature 46 not in {0.0})\n",
      "         If (feature 71 <= -0.69199303)\n",
      "          Predict: 25.137724550898202\n",
      "         Else (feature 71 > -0.69199303)\n",
      "          Predict: 109.21428571428571\n",
      "       Else (feature 70 > -0.494590159)\n",
      "        If (feature 70 <= -0.464844582)\n",
      "         If (feature 28 in {0.0})\n",
      "          Predict: 47.93636885952313\n",
      "         Else (feature 28 not in {0.0})\n",
      "          Predict: 123.16666666666667\n",
      "        Else (feature 70 > -0.464844582)\n",
      "         If (feature 70 <= -0.460595214)\n",
      "          Predict: 66.34393638170974\n",
      "         Else (feature 70 > -0.460595214)\n",
      "          Predict: 58.325383304940374\n",
      "      Else (feature 70 > -0.444660083)\n",
      "       If (feature 54 in {0.0})\n",
      "        If (feature 70 <= -0.40641577)\n",
      "         If (feature 71 <= 1.181712195)\n",
      "          Predict: 71.91357779980179\n",
      "         Else (feature 71 > 1.181712195)\n",
      "          Predict: 103.95333333333333\n",
      "        Else (feature 70 > -0.40641577)\n",
      "         If (feature 70 <= -0.386231271)\n",
      "          Predict: 88.17477414871439\n",
      "         Else (feature 70 > -0.386231271)\n",
      "          Predict: 99.95601633678919\n",
      "       Else (feature 54 not in {0.0})\n",
      "        If (feature 58 in {0.0})\n",
      "         Predict: 68.0\n",
      "        Else (feature 58 not in {0.0})\n",
      "         Predict: 2004.0\n",
      "     Else (feature 70 > -0.362859746)\n",
      "      If (feature 70 <= -0.262999595)\n",
      "       If (feature 70 <= -0.300181566)\n",
      "        If (feature 71 <= 1.000385883)\n",
      "         If (feature 70 <= -0.340550564)\n",
      "          Predict: 109.96505505026329\n",
      "         Else (feature 70 > -0.340550564)\n",
      "          Predict: 123.23056702966579\n",
      "        Else (feature 71 > 1.000385883)\n",
      "         If (feature 38 in {0.0})\n",
      "          Predict: 135.72455968688845\n",
      "         Else (feature 38 not in {0.0})\n",
      "          Predict: 277.51020408163265\n",
      "       Else (feature 70 > -0.300181566)\n",
      "        If (feature 71 <= 0.395964842)\n",
      "         If (feature 71 <= -0.631550926)\n",
      "          Predict: 121.739336492891\n",
      "         Else (feature 71 > -0.631550926)\n",
      "          Predict: 139.9868154158215\n",
      "        Else (feature 71 > 0.395964842)\n",
      "         If (feature 38 in {0.0})\n",
      "          Predict: 153.3846153846154\n",
      "         Else (feature 38 not in {0.0})\n",
      "          Predict: 190.76923076923077\n",
      "      Else (feature 70 > -0.262999595)\n",
      "       If (feature 70 <= -0.150391339)\n",
      "        If (feature 71 <= -0.38978251)\n",
      "         If (feature 0 in {0.0})\n",
      "          Predict: 152.36204576043068\n",
      "         Else (feature 0 not in {0.0})\n",
      "          Predict: 170.71108742004265\n",
      "        Else (feature 71 > -0.38978251)\n",
      "         If (feature 1 in {0.0})\n",
      "          Predict: 190.7429906542056\n",
      "         Else (feature 1 not in {0.0})\n",
      "          Predict: 1593.0\n",
      "       Else (feature 70 > -0.150391339)\n",
      "        If (feature 71 <= 0.033312218)\n",
      "         If (feature 1 in {0.0})\n",
      "          Predict: 193.08574879227052\n",
      "         Else (feature 1 not in {0.0})\n",
      "          Predict: 619.0\n",
      "        Else (feature 71 > 0.033312218)\n",
      "         If (feature 67 in {1.0})\n",
      "          Predict: 153.5\n",
      "         Else (feature 67 not in {1.0})\n",
      "          Predict: 239.9182839632278\n",
      "    Else (feature 70 > -0.081339107)\n",
      "     If (feature 70 <= 0.40733823)\n",
      "      If (feature 70 <= 0.12050588)\n",
      "       If (feature 71 <= -0.450224614)\n",
      "        If (feature 70 <= 0.05251599)\n",
      "         If (feature 57 in {0.0})\n",
      "          Predict: 219.29820359281436\n",
      "         Else (feature 57 not in {0.0})\n",
      "          Predict: 298.8688524590164\n",
      "        Else (feature 70 > 0.05251599)\n",
      "         If (feature 25 in {0.0})\n",
      "          Predict: 265.0388601036269\n",
      "         Else (feature 25 not in {0.0})\n",
      "          Predict: 779.0\n",
      "       Else (feature 71 > -0.450224614)\n",
      "        If (feature 57 in {0.0})\n",
      "         If (feature 9 in {0.0})\n",
      "          Predict: 269.49632193855473\n",
      "         Else (feature 9 not in {0.0})\n",
      "          Predict: 391.037037037037\n",
      "        Else (feature 57 not in {0.0})\n",
      "         If (feature 71 <= 1.181712195)\n",
      "          Predict: 313.8279569892473\n",
      "         Else (feature 71 > 1.181712195)\n",
      "          Predict: 423.69565217391306\n",
      "      Else (feature 70 > 0.12050588)\n",
      "       If (feature 71 <= -0.571108822)\n",
      "        If (feature 71 <= -0.752435134)\n",
      "         If (feature 70 <= 0.253298635)\n",
      "          Predict: 353.5466666666667\n",
      "         Else (feature 70 > 0.253298635)\n",
      "          Predict: 420.33962264150944\n",
      "        Else (feature 71 > -0.752435134)\n",
      "         If (feature 56 in {0.0})\n",
      "          Predict: 265.3056338028169\n",
      "         Else (feature 56 not in {0.0})\n",
      "          Predict: 418.0769230769231\n",
      "       Else (feature 71 > -0.571108822)\n",
      "        If (feature 71 <= 3.236743732)\n",
      "         If (feature 70 <= 0.253298635)\n",
      "          Predict: 339.2782401902497\n",
      "         Else (feature 70 > 0.253298635)\n",
      "          Predict: 377.41248720573185\n",
      "        Else (feature 71 > 3.236743732)\n",
      "         If (feature 57 in {0.0})\n",
      "          Predict: 404.6865671641791\n",
      "         Else (feature 57 not in {0.0})\n",
      "          Predict: 1013.4444444444445\n",
      "     Else (feature 70 > 0.40733823)\n",
      "      If (feature 70 <= 0.714355079)\n",
      "       If (feature 71 <= -0.450224614)\n",
      "        If (feature 71 <= -0.752435134)\n",
      "         If (feature 70 <= 0.557128457)\n",
      "          Predict: 495.97727272727275\n",
      "         Else (feature 70 > 0.557128457)\n",
      "          Predict: 566.65\n",
      "        Else (feature 71 > -0.752435134)\n",
      "         If (feature 0 in {0.0})\n",
      "          Predict: 332.9298245614035\n",
      "         Else (feature 0 not in {0.0})\n",
      "          Predict: 426.96190476190475\n",
      "       Else (feature 71 > -0.450224614)\n",
      "        If (feature 67 in {1.0})\n",
      "         If (feature 71 <= -0.329340406)\n",
      "          Predict: 103.83333333333333\n",
      "         Else (feature 71 > -0.329340406)\n",
      "          Predict: 327.8\n",
      "        Else (feature 67 not in {1.0})\n",
      "         If (feature 70 <= 0.490200909)\n",
      "          Predict: 480.97087378640776\n",
      "         Else (feature 70 > 0.490200909)\n",
      "          Predict: 538.8163265306123\n",
      "      Else (feature 70 > 0.714355079)\n",
      "       If (feature 67 in {1.0})\n",
      "        If (feature 71 <= -0.69199303)\n",
      "         If (feature 17 in {1.0})\n",
      "          Predict: 171.0\n",
      "         Else (feature 17 not in {1.0})\n",
      "          Predict: 632.5\n",
      "        Else (feature 71 > -0.69199303)\n",
      "         If (feature 0 in {1.0})\n",
      "          Predict: 194.24\n",
      "         Else (feature 0 not in {1.0})\n",
      "          Predict: 450.4166666666667\n",
      "       Else (feature 67 not in {1.0})\n",
      "        If (feature 0 in {0.0})\n",
      "         If (feature 70 <= 0.863082964)\n",
      "          Predict: 427.8425925925926\n",
      "         Else (feature 70 > 0.863082964)\n",
      "          Predict: 600.2564102564103\n",
      "        Else (feature 0 not in {0.0})\n",
      "         If (feature 71 <= 2.632322692)\n",
      "          Predict: 605.6516129032258\n",
      "         Else (feature 71 > 2.632322692)\n",
      "          Predict: 691.2558139534884\n",
      "   Else (feature 69 > -0.332191362)\n",
      "    If (feature 69 <= 0.352562473)\n",
      "     If (feature 70 <= 0.001523572)\n",
      "      If (feature 71 <= -0.510666718)\n",
      "       If (feature 71 <= -0.69199303)\n",
      "        If (feature 70 <= -0.258750227)\n",
      "         If (feature 70 <= -0.388355955)\n",
      "          Predict: 64.33244680851064\n",
      "         Else (feature 70 > -0.388355955)\n",
      "          Predict: 138.95165394402036\n",
      "        Else (feature 70 > -0.258750227)\n",
      "         If (feature 71 <= -0.752435134)\n",
      "          Predict: 198.01932367149757\n",
      "         Else (feature 71 > -0.752435134)\n",
      "          Predict: 283.7296137339056\n",
      "       Else (feature 71 > -0.69199303)\n",
      "        If (feature 22 in {0.0})\n",
      "         If (feature 70 <= -0.522211052)\n",
      "          Predict: 541.8196721311475\n",
      "         Else (feature 70 > -0.522211052)\n",
      "          Predict: 323.85006784260514\n",
      "        Else (feature 22 not in {0.0})\n",
      "         Predict: 3192.0\n",
      "      Else (feature 71 > -0.510666718)\n",
      "       If (feature 70 <= -0.352236326)\n",
      "        If (feature 70 <= -0.39579235)\n",
      "         If (feature 70 <= -0.500964211)\n",
      "          Predict: 464.826164874552\n",
      "         Else (feature 70 > -0.500964211)\n",
      "          Predict: 398.28589993502277\n",
      "        Else (feature 70 > -0.39579235)\n",
      "         If (feature 71 <= -0.027129886)\n",
      "          Predict: 440.26066350710903\n",
      "         Else (feature 71 > -0.027129886)\n",
      "          Predict: 551.603498542274\n",
      "       Else (feature 70 > -0.352236326)\n",
      "        If (feature 71 <= 0.033312218)\n",
      "         If (feature 0 in {0.0})\n",
      "          Predict: 456.0635451505017\n",
      "         Else (feature 0 not in {0.0})\n",
      "          Predict: 559.9235668789809\n",
      "        Else (feature 71 > 0.033312218)\n",
      "         If (feature 70 <= -0.196072047)\n",
      "          Predict: 638.6203501094092\n",
      "         Else (feature 70 > -0.196072047)\n",
      "          Predict: 794.9477124183006\n",
      "     Else (feature 70 > 0.001523572)\n",
      "      If (feature 71 <= 0.335522738)\n",
      "       If (feature 70 <= 0.619806638)\n",
      "        If (feature 71 <= -0.510666718)\n",
      "         If (feature 71 <= -0.752435134)\n",
      "          Predict: 407.78846153846155\n",
      "         Else (feature 71 > -0.752435134)\n",
      "          Predict: 535.4775687409551\n",
      "        Else (feature 71 > -0.510666718)\n",
      "         If (feature 60 in {0.0})\n",
      "          Predict: 719.3900293255132\n",
      "         Else (feature 60 not in {0.0})\n",
      "          Predict: 1711.0\n",
      "       Else (feature 70 > 0.619806638)\n",
      "        If (feature 71 <= -0.631550926)\n",
      "         If (feature 71 <= -0.752435134)\n",
      "          Predict: 635.5238095238095\n",
      "         Else (feature 71 > -0.752435134)\n",
      "          Predict: 749.5431034482758\n",
      "        Else (feature 71 > -0.631550926)\n",
      "         If (feature 26 in {0.0})\n",
      "          Predict: 954.4099378881988\n",
      "         Else (feature 26 not in {0.0})\n",
      "          Predict: 1675.3333333333333\n",
      "      Else (feature 71 > 0.335522738)\n",
      "       If (feature 70 <= 0.490200909)\n",
      "        If (feature 71 <= 3.05541742)\n",
      "         If (feature 59 in {0.0})\n",
      "          Predict: 866.0906344410876\n",
      "         Else (feature 59 not in {0.0})\n",
      "          Predict: 1315.8235294117646\n",
      "        Else (feature 71 > 3.05541742)\n",
      "         If (feature 65 in {0.0})\n",
      "          Predict: 1177.2272727272727\n",
      "         Else (feature 65 not in {0.0})\n",
      "          Predict: 1415.68\n",
      "       Else (feature 70 > 0.490200909)\n",
      "        If (feature 57 in {0.0})\n",
      "         If (feature 71 <= 2.994975316)\n",
      "          Predict: 1239.5906040268455\n",
      "         Else (feature 71 > 2.994975316)\n",
      "          Predict: 1720.4444444444443\n",
      "        Else (feature 57 not in {0.0})\n",
      "         If (feature 71 <= 1.967459547)\n",
      "          Predict: 3714.6666666666665\n",
      "         Else (feature 71 > 1.967459547)\n",
      "          Predict: 1348.3333333333333\n",
      "    Else (feature 69 > 0.352562473)\n",
      "     If (feature 71 <= -0.631550926)\n",
      "      If (feature 70 <= 0.12050588)\n",
      "       If (feature 71 <= -0.69199303)\n",
      "        If (feature 70 <= -0.170575838)\n",
      "         If (feature 70 <= -0.345862274)\n",
      "          Predict: 73.6013986013986\n",
      "         Else (feature 70 > -0.345862274)\n",
      "          Predict: 196.61744966442953\n",
      "        Else (feature 70 > -0.170575838)\n",
      "         If (feature 71 <= -0.752435134)\n",
      "          Predict: 258.1530612244898\n",
      "         Else (feature 71 > -0.752435134)\n",
      "          Predict: 392.1090909090909\n",
      "       Else (feature 71 > -0.69199303)\n",
      "        If (feature 69 <= 7.884854654)\n",
      "         If (feature 69 <= 1.037316307)\n",
      "          Predict: 491.57954545454544\n",
      "         Else (feature 69 > 1.037316307)\n",
      "          Predict: 814.1644736842105\n",
      "        Else (feature 69 > 7.884854654)\n",
      "         If (feature 57 in {1.0})\n",
      "          Predict: 1433.6666666666667\n",
      "         Else (feature 57 not in {1.0})\n",
      "          Predict: 2704.6666666666665\n",
      "      Else (feature 70 > 0.12050588)\n",
      "       If (feature 71 <= -0.752435134)\n",
      "        If (feature 70 <= 0.557128457)\n",
      "         If (feature 70 <= 0.365906891)\n",
      "          Predict: 397.1034482758621\n",
      "         Else (feature 70 > 0.365906891)\n",
      "          Predict: 486.95454545454544\n",
      "        Else (feature 70 > 0.557128457)\n",
      "         If (feature 70 <= 0.768534523)\n",
      "          Predict: 575.8\n",
      "         Else (feature 70 > 0.768534523)\n",
      "          Predict: 677.4655172413793\n",
      "       Else (feature 71 > -0.752435134)\n",
      "        If (feature 70 <= 0.40733823)\n",
      "         If (feature 43 in {0.0})\n",
      "          Predict: 642.5689655172414\n",
      "         Else (feature 43 not in {0.0})\n",
      "          Predict: 2129.5\n",
      "        Else (feature 70 > 0.40733823)\n",
      "         If (feature 69 <= 3.091577811)\n",
      "          Predict: 818.5474137931035\n",
      "         Else (feature 69 > 3.091577811)\n",
      "          Predict: 1040.6875\n",
      "     Else (feature 71 > -0.631550926)\n",
      "      If (feature 43 in {0.0})\n",
      "       If (feature 69 <= 4.461085481)\n",
      "        If (feature 70 <= 0.365906891)\n",
      "         If (feature 69 <= 1.037316307)\n",
      "          Predict: 720.0276679841897\n",
      "         Else (feature 69 > 1.037316307)\n",
      "          Predict: 897.9391891891892\n",
      "        Else (feature 70 > 0.365906891)\n",
      "         If (feature 71 <= -0.208456198)\n",
      "          Predict: 1089.4397905759163\n",
      "         Else (feature 71 > -0.208456198)\n",
      "          Predict: 1840.8666666666666\n",
      "       Else (feature 69 > 4.461085481)\n",
      "        If (feature 65 in {0.0})\n",
      "         If (feature 54 in {0.0})\n",
      "          Predict: 1354.351851851852\n",
      "         Else (feature 54 not in {0.0})\n",
      "          Predict: 3994.0\n",
      "        Else (feature 65 not in {0.0})\n",
      "         If (feature 71 <= -0.510666718)\n",
      "          Predict: 2012.0\n",
      "         Else (feature 71 > -0.510666718)\n",
      "          Predict: 6663.0\n",
      "      Else (feature 43 not in {0.0})\n",
      "       If (feature 69 <= 1.722070142)\n",
      "        If (feature 70 <= -0.357548036)\n",
      "         If (feature 71 <= -0.148014094)\n",
      "          Predict: 666.1392405063291\n",
      "         Else (feature 71 > -0.148014094)\n",
      "          Predict: 973.1147540983607\n",
      "        Else (feature 70 > -0.357548036)\n",
      "         If (feature 67 in {1.0})\n",
      "          Predict: 757.1756756756756\n",
      "         Else (feature 67 not in {1.0})\n",
      "          Predict: 1401.2072072072071\n",
      "       Else (feature 69 > 1.722070142)\n",
      "        If (feature 59 in {0.0})\n",
      "         If (feature 58 in {0.0})\n",
      "          Predict: 1715.712643678161\n",
      "         Else (feature 58 not in {0.0})\n",
      "          Predict: 3184.5\n",
      "        Else (feature 59 not in {0.0})\n",
      "         If (feature 70 <= -0.357548036)\n",
      "          Predict: 3002.0\n",
      "         Else (feature 70 > -0.357548036)\n",
      "          Predict: 4655.0\n",
      "  Else (feature 70 > 0.983127614)\n",
      "   If (feature 70 <= 2.973956591)\n",
      "    If (feature 69 <= -0.332191362)\n",
      "     If (feature 70 <= 1.859559794)\n",
      "      If (feature 70 <= 1.409126771)\n",
      "       If (feature 71 <= -0.510666718)\n",
      "        If (feature 71 <= -0.752435134)\n",
      "         If (feature 70 <= 1.15310234)\n",
      "          Predict: 772.3703703703703\n",
      "         Else (feature 70 > 1.15310234)\n",
      "          Predict: 862.1666666666666\n",
      "        Else (feature 71 > -0.752435134)\n",
      "         If (feature 67 in {1.0})\n",
      "          Predict: 261.4\n",
      "         Else (feature 67 not in {1.0})\n",
      "          Predict: 628.7846715328467\n",
      "       Else (feature 71 > -0.510666718)\n",
      "        If (feature 63 in {0.0})\n",
      "         If (feature 70 <= 1.15310234)\n",
      "          Predict: 693.839393939394\n",
      "         Else (feature 70 > 1.15310234)\n",
      "          Predict: 785.6523076923077\n",
      "        Else (feature 63 not in {0.0})\n",
      "         If (feature 71 <= 1.000385883)\n",
      "          Predict: 1587.5\n",
      "         Else (feature 71 > 1.000385883)\n",
      "          Predict: 1579.7142857142858\n",
      "      Else (feature 70 > 1.409126771)\n",
      "       If (feature 32 in {1.0})\n",
      "        If (feature 62 in {0.0})\n",
      "         If (feature 71 <= -0.450224614)\n",
      "          Predict: 282.0\n",
      "         Else (feature 71 > -0.450224614)\n",
      "          Predict: 698.0\n",
      "        Else (feature 62 not in {0.0})\n",
      "         Predict: 906.0\n",
      "       Else (feature 32 not in {1.0})\n",
      "        If (feature 28 in {1.0})\n",
      "         If (feature 58 in {0.0})\n",
      "          Predict: 28.0\n",
      "         Else (feature 58 not in {0.0})\n",
      "          Predict: 30.0\n",
      "        Else (feature 28 not in {1.0})\n",
      "         If (feature 0 in {0.0})\n",
      "          Predict: 717.6716417910447\n",
      "         Else (feature 0 not in {0.0})\n",
      "          Predict: 871.0103626943005\n",
      "     Else (feature 70 > 1.859559794)\n",
      "      If (feature 70 <= 2.626570745)\n",
      "       If (feature 63 in {0.0})\n",
      "        If (feature 9 in {0.0})\n",
      "         If (feature 66 in {1.0})\n",
      "          Predict: 802.013698630137\n",
      "         Else (feature 66 not in {1.0})\n",
      "          Predict: 1054.6842105263158\n",
      "        Else (feature 9 not in {0.0})\n",
      "         If (feature 70 <= 2.238815901)\n",
      "          Predict: 989.4545454545455\n",
      "         Else (feature 70 > 2.238815901)\n",
      "          Predict: 1396.4716981132076\n",
      "       Else (feature 63 not in {0.0})\n",
      "        If (feature 0 in {0.0})\n",
      "         Predict: 16.0\n",
      "        Else (feature 0 not in {0.0})\n",
      "         If (feature 33 in {0.0})\n",
      "          Predict: 1416.4634146341464\n",
      "         Else (feature 33 not in {0.0})\n",
      "          Predict: 2483.0\n",
      "      Else (feature 70 > 2.626570745)\n",
      "       If (feature 32 in {1.0})\n",
      "        If (feature 0 in {0.0})\n",
      "         Predict: 52.0\n",
      "        Else (feature 0 not in {0.0})\n",
      "         Predict: 86.0\n",
      "       Else (feature 32 not in {1.0})\n",
      "        If (feature 64 in {0.0})\n",
      "         If (feature 17 in {1.0})\n",
      "          Predict: 272.5\n",
      "         Else (feature 17 not in {1.0})\n",
      "          Predict: 1301.5785123966941\n",
      "        Else (feature 64 not in {0.0})\n",
      "         If (feature 71 <= 0.21463853)\n",
      "          Predict: 1502.892857142857\n",
      "         Else (feature 71 > 0.21463853)\n",
      "          Predict: 1725.3333333333333\n",
      "    Else (feature 69 > -0.332191362)\n",
      "     If (feature 70 <= 2.238815901)\n",
      "      If (feature 71 <= -0.631550926)\n",
      "       If (feature 70 <= 1.409126771)\n",
      "        If (feature 71 <= -0.752435134)\n",
      "         If (feature 70 <= 1.15310234)\n",
      "          Predict: 772.2435897435897\n",
      "         Else (feature 70 > 1.15310234)\n",
      "          Predict: 869.6933333333334\n",
      "        Else (feature 71 > -0.752435134)\n",
      "         If (feature 69 <= 1.722070142)\n",
      "          Predict: 930.9389312977099\n",
      "         Else (feature 69 > 1.722070142)\n",
      "          Predict: 1271.0\n",
      "       Else (feature 70 > 1.409126771)\n",
      "        If (feature 71 <= -0.752435134)\n",
      "         If (feature 70 <= 1.859559794)\n",
      "          Predict: 1032.5631067961165\n",
      "         Else (feature 70 > 1.859559794)\n",
      "          Predict: 1229.7692307692307\n",
      "        Else (feature 71 > -0.752435134)\n",
      "         If (feature 17 in {0.0})\n",
      "          Predict: 1290.7329545454545\n",
      "         Else (feature 17 not in {0.0})\n",
      "          Predict: 2419.0\n",
      "      Else (feature 71 > -0.631550926)\n",
      "       If (feature 9 in {0.0})\n",
      "        If (feature 70 <= 1.567415734)\n",
      "         If (feature 71 <= 0.093754322)\n",
      "          Predict: 1200.5727272727272\n",
      "         Else (feature 71 > 0.093754322)\n",
      "          Predict: 1501.7961165048544\n",
      "        Else (feature 70 > 1.567415734)\n",
      "         If (feature 71 <= 0.516849051)\n",
      "          Predict: 1522.5165562913908\n",
      "         Else (feature 71 > 0.516849051)\n",
      "          Predict: 3245.3\n",
      "       Else (feature 9 not in {0.0})\n",
      "        If (feature 69 <= 1.037316307)\n",
      "         If (feature 69 <= 0.352562473)\n",
      "          Predict: 1333.9285714285713\n",
      "         Else (feature 69 > 0.352562473)\n",
      "          Predict: 2045.8\n",
      "        Else (feature 69 > 1.037316307)\n",
      "         If (feature 0 in {1.0})\n",
      "          Predict: 2407.0\n",
      "         Else (feature 0 not in {1.0})\n",
      "          Predict: 28191.0\n",
      "     Else (feature 70 > 2.238815901)\n",
      "      If (feature 65 in {0.0})\n",
      "       If (feature 0 in {0.0})\n",
      "        If (feature 69 <= 1.722070142)\n",
      "         If (feature 6 in {0.0})\n",
      "          Predict: 1346.0625\n",
      "         Else (feature 6 not in {0.0})\n",
      "          Predict: 2960.0\n",
      "        Else (feature 69 > 1.722070142)\n",
      "         If (feature 71 <= -0.752435134)\n",
      "          Predict: 1481.5217391304348\n",
      "         Else (feature 71 > -0.752435134)\n",
      "          Predict: 1903.6190476190477\n",
      "       Else (feature 0 not in {0.0})\n",
      "        If (feature 69 <= 0.352562473)\n",
      "         If (feature 38 in {0.0})\n",
      "          Predict: 1513.095238095238\n",
      "         Else (feature 38 not in {0.0})\n",
      "          Predict: 2115.777777777778\n",
      "        Else (feature 69 > 0.352562473)\n",
      "         If (feature 71 <= 1.181712195)\n",
      "          Predict: 1926.0506329113923\n",
      "         Else (feature 71 > 1.181712195)\n",
      "          Predict: 4517.0\n",
      "      Else (feature 65 not in {0.0})\n",
      "       If (feature 37 in {0.0})\n",
      "        If (feature 71 <= -0.69199303)\n",
      "         If (feature 51 in {0.0})\n",
      "          Predict: 1589.7777777777778\n",
      "         Else (feature 51 not in {0.0})\n",
      "          Predict: 2189.0\n",
      "        Else (feature 71 > -0.69199303)\n",
      "         If (feature 69 <= 1.037316307)\n",
      "          Predict: 2204.5\n",
      "         Else (feature 69 > 1.037316307)\n",
      "          Predict: 2691.5714285714284\n",
      "       Else (feature 37 not in {0.0})\n",
      "        Predict: 7289.0\n",
      "   Else (feature 70 > 2.973956591)\n",
      "    If (feature 70 <= 4.584467118)\n",
      "     If (feature 69 <= -0.332191362)\n",
      "      If (feature 70 <= 3.787710591)\n",
      "       If (feature 66 in {1.0})\n",
      "        If (feature 38 in {1.0})\n",
      "         If (feature 71 <= 0.275080634)\n",
      "          Predict: 495.0\n",
      "         Else (feature 71 > 0.275080634)\n",
      "          Predict: 98.83333333333333\n",
      "        Else (feature 38 not in {1.0})\n",
      "         If (feature 0 in {0.0})\n",
      "          Predict: 531.6\n",
      "         Else (feature 0 not in {0.0})\n",
      "          Predict: 1673.2857142857142\n",
      "       Else (feature 66 not in {1.0})\n",
      "        If (feature 46 in {1.0})\n",
      "         If (feature 65 in {1.0})\n",
      "          Predict: 67.0\n",
      "         Else (feature 65 not in {1.0})\n",
      "          Predict: 1366.6666666666667\n",
      "        Else (feature 46 not in {1.0})\n",
      "         If (feature 6 in {1.0})\n",
      "          Predict: 66.0\n",
      "         Else (feature 6 not in {1.0})\n",
      "          Predict: 1681.7447916666667\n",
      "      Else (feature 70 > 3.787710591)\n",
      "       If (feature 67 in {1.0})\n",
      "        If (feature 38 in {0.0})\n",
      "         If (feature 37 in {0.0})\n",
      "          Predict: 29.0\n",
      "         Else (feature 37 not in {0.0})\n",
      "          Predict: 76.0\n",
      "        Else (feature 38 not in {0.0})\n",
      "         Predict: 127.5\n",
      "       Else (feature 67 not in {1.0})\n",
      "        If (feature 0 in {0.0})\n",
      "         If (feature 35 in {0.0})\n",
      "          Predict: 1031.8333333333333\n",
      "         Else (feature 35 not in {0.0})\n",
      "          Predict: 2271.6666666666665\n",
      "        Else (feature 0 not in {0.0})\n",
      "         If (feature 37 in {0.0})\n",
      "          Predict: 2086.1176470588234\n",
      "         Else (feature 37 not in {0.0})\n",
      "          Predict: 3427.25\n",
      "     Else (feature 69 > -0.332191362)\n",
      "      If (feature 71 <= -0.752435134)\n",
      "       If (feature 70 <= 3.787710591)\n",
      "        If (feature 60 in {0.0})\n",
      "         If (feature 69 <= 1.722070142)\n",
      "          Predict: 1829.8125\n",
      "         Else (feature 69 > 1.722070142)\n",
      "          Predict: 1906.3333333333333\n",
      "        Else (feature 60 not in {0.0})\n",
      "         If (feature 0 in {1.0})\n",
      "          Predict: 2007.0\n",
      "         Else (feature 0 not in {1.0})\n",
      "          Predict: 2042.5\n",
      "       Else (feature 70 > 3.787710591)\n",
      "        If (feature 56 in {0.0})\n",
      "         If (feature 35 in {0.0})\n",
      "          Predict: 2175.2608695652175\n",
      "         Else (feature 35 not in {0.0})\n",
      "          Predict: 2284.6666666666665\n",
      "        Else (feature 56 not in {0.0})\n",
      "         If (feature 35 in {1.0})\n",
      "          Predict: 2284.0\n",
      "         Else (feature 35 not in {1.0})\n",
      "          Predict: 2387.0\n",
      "      Else (feature 71 > -0.752435134)\n",
      "       If (feature 69 <= 2.406823977)\n",
      "        If (feature 70 <= 3.787710591)\n",
      "         If (feature 1 in {0.0})\n",
      "          Predict: 2054.9\n",
      "         Else (feature 1 not in {0.0})\n",
      "          Predict: 4269.5\n",
      "        Else (feature 70 > 3.787710591)\n",
      "         If (feature 36 in {0.0})\n",
      "          Predict: 2586.4285714285716\n",
      "         Else (feature 36 not in {0.0})\n",
      "          Predict: 4706.0\n",
      "       Else (feature 69 > 2.406823977)\n",
      "        If (feature 46 in {0.0})\n",
      "         If (feature 29 in {0.0})\n",
      "          Predict: 2541.6923076923076\n",
      "         Else (feature 29 not in {0.0})\n",
      "          Predict: 4691.0\n",
      "        Else (feature 46 not in {0.0})\n",
      "         If (feature 59 in {0.0})\n",
      "          Predict: 3601.4\n",
      "         Else (feature 59 not in {0.0})\n",
      "          Predict: 7389.0\n",
      "    Else (feature 70 > 4.584467118)\n",
      "     If (feature 69 <= -0.332191362)\n",
      "      If (feature 51 in {1.0})\n",
      "       If (feature 71 <= -0.631550926)\n",
      "        If (feature 62 in {1.0})\n",
      "         Predict: 84.0\n",
      "        Else (feature 62 not in {1.0})\n",
      "         Predict: 526.0\n",
      "       Else (feature 71 > -0.631550926)\n",
      "        If (feature 62 in {0.0})\n",
      "         Predict: 1067.0\n",
      "        Else (feature 62 not in {0.0})\n",
      "         Predict: 1173.0\n",
      "      Else (feature 51 not in {1.0})\n",
      "       If (feature 60 in {1.0})\n",
      "        If (feature 0 in {0.0})\n",
      "         If (feature 5 in {1.0})\n",
      "          Predict: 16.0\n",
      "         Else (feature 5 not in {1.0})\n",
      "          Predict: 32.0\n",
      "        Else (feature 0 not in {0.0})\n",
      "         Predict: 2453.0\n",
      "       Else (feature 60 not in {1.0})\n",
      "        If (feature 67 in {1.0})\n",
      "         Predict: 68.0\n",
      "        Else (feature 67 not in {1.0})\n",
      "         If (feature 59 in {1.0})\n",
      "          Predict: 1377.0\n",
      "         Else (feature 59 not in {1.0})\n",
      "          Predict: 2629.415\n",
      "     Else (feature 69 > -0.332191362)\n",
      "      If (feature 57 in {0.0})\n",
      "       If (feature 71 <= -0.510666718)\n",
      "        If (feature 71 <= -0.571108822)\n",
      "         If (feature 69 <= 1.722070142)\n",
      "          Predict: 3481.159574468085\n",
      "         Else (feature 69 > 1.722070142)\n",
      "          Predict: 3075.296296296296\n",
      "        Else (feature 71 > -0.571108822)\n",
      "         If (feature 26 in {0.0})\n",
      "          Predict: 2462.818181818182\n",
      "         Else (feature 26 not in {0.0})\n",
      "          Predict: 3048.3333333333335\n",
      "       Else (feature 71 > -0.510666718)\n",
      "        If (feature 0 in {1.0})\n",
      "         If (feature 46 in {0.0})\n",
      "          Predict: 2920.5833333333335\n",
      "         Else (feature 46 not in {0.0})\n",
      "          Predict: 4854.4\n",
      "        Else (feature 0 not in {1.0})\n",
      "         If (feature 69 <= 0.352562473)\n",
      "          Predict: 4242.666666666667\n",
      "         Else (feature 69 > 0.352562473)\n",
      "          Predict: 5217.166666666667\n",
      "      Else (feature 57 not in {0.0})\n",
      "       If (feature 71 <= -0.450224614)\n",
      "        If (feature 32 in {1.0})\n",
      "         If (feature 0 in {1.0})\n",
      "          Predict: 566.0\n",
      "         Else (feature 0 not in {1.0})\n",
      "          Predict: 3803.0\n",
      "        Else (feature 32 not in {1.0})\n",
      "         If (feature 71 <= -0.631550926)\n",
      "          Predict: 3797.923076923077\n",
      "         Else (feature 71 > -0.631550926)\n",
      "          Predict: 5300.533333333334\n",
      "       Else (feature 71 > -0.450224614)\n",
      "        If (feature 46 in {1.0})\n",
      "         Predict: 989.0\n",
      "        Else (feature 46 not in {1.0})\n",
      "         If (feature 1 in {1.0})\n",
      "          Predict: 2504.0\n",
      "         Else (feature 1 not in {1.0})\n",
      "          Predict: 3164.8571428571427\n",
      "\n"
     ]
    }
   ],
   "source": [
    "print('Test Mean Squared Error = ' + str(testMSE))\n",
    "print('Test Root Mean Squared Error = ' + str(np.sqrt(testMSE)))\n",
    "print('Learned regression tree model:')\n",
    "print(model.toDebugString())"
   ]
  },
  {
   "cell_type": "code",
   "execution_count": 27,
   "metadata": {
    "collapsed": true,
    "deletable": true,
    "editable": true
   },
   "outputs": [],
   "source": [
    "# Save and load model\n",
    "#model.save(sc, \"target/tmp/myDecisionTreeRegressionModel\")\n",
    "#sameModel = DecisionTreeModel.load(sc, \"target/tmp/myDecisionTreeRegressionModel\")"
   ]
  },
  {
   "cell_type": "code",
   "execution_count": null,
   "metadata": {
    "collapsed": true,
    "deletable": true,
    "editable": true
   },
   "outputs": [],
   "source": [
    "# Algumas funcoes de erro para a avaliacao das arvores\n",
    "def squared_error(actual, pred):\n",
    "    return (pred - actual)**2\n",
    "\n",
    "def abs_error(actual, pred):\n",
    "    return np.abs(pred - actual)\n",
    "\n",
    "def squared_log_error(pred, actual):\n",
    "    return (np.log(pred + 1) - np.log(actual + 1))**2"
   ]
  },
  {
   "cell_type": "code",
   "execution_count": null,
   "metadata": {
    "collapsed": true
   },
   "outputs": [],
   "source": [
    "# Funcao para avaliar as arvores\n",
    "def evaluate_dt(train, test, maxDepth, maxBins):\n",
    "    model = DecisionTree.trainRegressor(train\n",
    "                                        ,{}\n",
    "                                        ,impurity='variance'\n",
    "                                        ,maxDepth=maxDepth\n",
    "                                        ,maxBins=maxBins)\n",
    "    \n",
    "    preds = model.predict(test.map(lambda p: p.features))\n",
    "    \n",
    "    actual = test.map(lambda p: p.label)\n",
    "    \n",
    "    tp = actual.zip(preds)\n",
    "    \n",
    "    rmsle = np.sqrt(tp.map(lambda (t, p): squared_log_error(t,p)).mean())\n",
    "    \n",
    "    rmse = np.sqrt(tp.map(lambda (t, p): squared_error(t,p)).mean())\n",
    "    \n",
    "    return rmse"
   ]
  },
  {
   "cell_type": "code",
   "execution_count": null,
   "metadata": {
    "collapsed": false
   },
   "outputs": [],
   "source": [
    "# Tree Depth\n",
    "params = [5,8,10,20,30]\n",
    "metrics = [evaluate_dt(trainingData, testData, param, 32) for param in params]\n",
    "\n",
    "print 'Parametros escolhidos:', params\n",
    "print 'RMSE dos parametros', metrics\n",
    "\n",
    "plot(params, metrics)\n",
    "fig = matplotlib.pyplot.gcf()"
   ]
  },
  {
   "cell_type": "code",
   "execution_count": null,
   "metadata": {
    "collapsed": false,
    "deletable": true,
    "editable": true
   },
   "outputs": [],
   "source": [
    "# Maximo de bins\n",
    "params = [2, 4, 8, 16, 32, 64, 100, 200]\n",
    "metrics = [evaluate_dt(trainingData, testData, 5, param) for param in params]\n",
    "\n",
    "print 'Parametros escolhidos:', params\n",
    "print 'RMSE dos parametros', metrics\n",
    "\n",
    "plot(params, metrics)\n",
    "fig = matplotlib.pyplot.gcf()"
   ]
  },
  {
   "cell_type": "code",
   "execution_count": null,
   "metadata": {
    "collapsed": false,
    "deletable": true,
    "editable": true
   },
   "outputs": [],
   "source": [
    "# Maximo de bins\n",
    "params = [200, 400, 500, 700, 1000]\n",
    "metrics = [evaluate_dt(trainingData, testData, 5, param) for param in params]\n",
    "\n",
    "print 'Parametros escolhidos:', params\n",
    "print 'RMSE dos parametros', metrics\n",
    "\n",
    "plot(params, metrics)\n",
    "fig = matplotlib.pyplot.gcf()"
   ]
  },
  {
   "cell_type": "code",
   "execution_count": null,
   "metadata": {
    "collapsed": false,
    "deletable": true,
    "editable": true
   },
   "outputs": [],
   "source": [
    "# Alguns experimentos com Regressao Linear\n",
    "help(LinearRegressionWithSGD)"
   ]
  },
  {
   "cell_type": "code",
   "execution_count": 28,
   "metadata": {
    "collapsed": false,
    "deletable": true,
    "editable": true
   },
   "outputs": [],
   "source": [
    "def linearRegression_MSE(data, regMode, regForce, numInteracoes, stepConvergence):\n",
    "    model = LinearRegressionWithSGD.train(data\n",
    "                                          ,iterations=numInteracoes\n",
    "                                          , step=stepConvergence\n",
    "                                          , miniBatchFraction=1.0\n",
    "                                          , initialWeights=None\n",
    "                                          , regParam=regForce\n",
    "                                          , regType=regMode\n",
    "                                          , intercept=True\n",
    "                                          , validateData=True\n",
    "                                          , convergenceTol=0.001)\n",
    "   \n",
    "    # Avaliacao do modelo\n",
    "    # Usamos o .map() do parsedData para pegar os pares {train_data, predict_data}\n",
    "    valuesAndPreds = parsedData.map(lambda p: (p.label, model.predict(p.features)))\n",
    "    \n",
    "    # Informations about model\n",
    "    print \"Regularizador = \" + str(regMode)\n",
    "    \n",
    "    # Forca do Regularizador\n",
    "    print \"Parametro de Regularizacao = \" + str(regForce)   \n",
    "    \n",
    "    # Predictions to using in metrics\n",
    "    Preds = parsedData.map(lambda p: (p.label, float(model.predict(p.features))))\n",
    "    \n",
    "    # Get metrics\n",
    "    metrics = RegressionMetrics(Preds)\n",
    "    \n",
    "    # Squared Error\n",
    "    print(\"MSE = %s\" % metrics.meanSquaredError)\n",
    "    print(\"RMSE = %s\" % metrics.rootMeanSquaredError)\n",
    "\n",
    "    # R-squared\n",
    "    print(\"R-squared = %s\" % metrics.r2)\n",
    "\n",
    "    # Mean absolute error\n",
    "    print(\"MAE = %s\" % metrics.meanAbsoluteError)\n",
    "\n",
    "    # Explained variance\n",
    "    print(\"Explained variance = %s\" % metrics.explainedVariance)\n",
    "        \n",
    "    return"
   ]
  },
  {
   "cell_type": "code",
   "execution_count": 29,
   "metadata": {
    "collapsed": false
   },
   "outputs": [
    {
     "name": "stderr",
     "output_type": "stream",
     "text": [
      "/Users/flavio.clesio/Documents/spark-2.1.0/python/pyspark/mllib/regression.py:281: UserWarning: Deprecated in 2.0.0. Use ml.regression.LinearRegression.\n",
      "  warnings.warn(\"Deprecated in 2.0.0. Use ml.regression.LinearRegression.\")\n"
     ]
    },
    {
     "name": "stdout",
     "output_type": "stream",
     "text": [
      "Regularizador = None\n",
      "Parametro de Regularizacao = 0\n",
      "MSE = 311153.633152\n",
      "RMSE = 557.81146739\n",
      "R-squared = -1857.01389131\n",
      "MAE = 263.419184866\n",
      "Explained variance = 319599.107676\n",
      "\n",
      " Modelo\n",
      "Regularizador = None\n",
      "Parametro de Regularizacao = 0\n",
      "MSE = 311153.633152\n",
      "RMSE = 557.81146739\n",
      "R-squared = -1857.01389131\n",
      "MAE = 263.419184866\n",
      "Explained variance = 319599.107676\n",
      "\n",
      " Modelo\n",
      "Regularizador = None\n",
      "Parametro de Regularizacao = 0\n",
      "MSE = 311153.633152\n",
      "RMSE = 557.81146739\n",
      "R-squared = -1857.01389131\n",
      "MAE = 263.419184866\n",
      "Explained variance = 319599.107676\n",
      "\n",
      " Modelo\n",
      "Regularizador = None\n",
      "Parametro de Regularizacao = 0\n",
      "MSE = 213966.788636\n",
      "RMSE = 462.565442544\n",
      "R-squared = -20.5264279018\n",
      "MAE = 202.79982463\n",
      "Explained variance = 274539.42919\n",
      "\n",
      " Modelo\n",
      "Regularizador = None\n",
      "Parametro de Regularizacao = 0\n",
      "MSE = 213966.788636\n",
      "RMSE = 462.565442544\n",
      "R-squared = -20.5264279018\n",
      "MAE = 202.79982463\n",
      "Explained variance = 274539.42919\n",
      "\n",
      " Modelo\n",
      "Regularizador = None\n",
      "Parametro de Regularizacao = 0\n",
      "MSE = 213966.788636\n",
      "RMSE = 462.565442544\n",
      "R-squared = -20.5264279018\n",
      "MAE = 202.79982463\n",
      "Explained variance = 274539.42919\n",
      "\n",
      " Modelo\n",
      "Regularizador = None\n",
      "Parametro de Regularizacao = 0\n",
      "MSE = 111282.773454\n",
      "RMSE = 333.590727469\n",
      "R-squared = -0.0837590722608\n",
      "MAE = 158.749994678\n",
      "Explained variance = 250733.366898\n",
      "\n",
      " Modelo\n",
      "Regularizador = None\n",
      "Parametro de Regularizacao = 0\n",
      "MSE = 111282.773454\n",
      "RMSE = 333.590727469\n",
      "R-squared = -0.0837590722608\n",
      "MAE = 158.749994678\n",
      "Explained variance = 250733.366898\n",
      "\n",
      " Modelo\n",
      "Regularizador = None\n",
      "Parametro de Regularizacao = 0\n",
      "MSE = 111282.773454\n",
      "RMSE = 333.590727469\n",
      "R-squared = -0.0837590722608\n",
      "MAE = 158.749994678\n",
      "Explained variance = 250733.366898\n",
      "\n",
      " Modelo\n",
      "Regularizador = None\n",
      "Parametro de Regularizacao = 0\n",
      "MSE = 105210.015491\n",
      "RMSE = 324.360933977\n",
      "R-squared = 0.272697918031\n",
      "MAE = 146.345274654\n",
      "Explained variance = 250442.108293\n",
      "\n",
      " Modelo\n",
      "Regularizador = None\n",
      "Parametro de Regularizacao = 0\n",
      "MSE = 105210.015491\n",
      "RMSE = 324.360933977\n",
      "R-squared = 0.272697918031\n",
      "MAE = 146.345274654\n",
      "Explained variance = 250442.108293\n",
      "\n",
      " Modelo\n",
      "Regularizador = None\n",
      "Parametro de Regularizacao = 0\n",
      "MSE = 105210.015491\n",
      "RMSE = 324.360933977\n",
      "R-squared = 0.272697918031\n",
      "MAE = 146.345274654\n",
      "Explained variance = 250442.108293\n"
     ]
    }
   ],
   "source": [
    "# Sem regularizacao\n",
    "print '\\n Modelo 1'\n",
    "RegLinear_1 = linearRegression_MSE(trainingData, None, 0, 10000, 0.001)\n",
    "print '\\n Modelo 2'\n",
    "RegLinear_2 = linearRegression_MSE(trainingData, None, 0, 100000, 0.001)\n",
    "print '\\n Modelo 3'\n",
    "RegLinear_3 = linearRegression_MSE(trainingData, None, 0, 500000, 0.001)\n",
    "print '\\n Modelo 4'\n",
    "RegLinear_4 = linearRegression_MSE(trainingData, None, 0, 10000, 0.01)\n",
    "print '\\n Modelo 5'\n",
    "RegLinear_5 = linearRegression_MSE(trainingData, None, 0, 100000, 0.01)\n",
    "print '\\n Modelo 6'\n",
    "RegLinear_6 = linearRegression_MSE(trainingData, None, 0, 500000, 0.01)\n",
    "print '\\n Modelo 7'\n",
    "RegLinear_7 = linearRegression_MSE(trainingData, None, 0, 10000, 0.1)\n",
    "print '\\n Modelo 8'\n",
    "RegLinear_8 = linearRegression_MSE(trainingData, None, 0, 100000, 0.1)\n",
    "print '\\n Modelo 9'\n",
    "RegLinear_9 = linearRegression_MSE(trainingData, None, 0, 500000, 0.1)\n",
    "print '\\n Modelo 10'\n",
    "RegLinear_10 = linearRegression_MSE(trainingData, None, 0, 10000, 1.0)\n",
    "print '\\n Modelo 11'\n",
    "RegLinear_11 = linearRegression_MSE(trainingData, None, 0, 100000, 1.0)\n",
    "print '\\n Modelo 12'\n",
    "RegLinear_12 = linearRegression_MSE(trainingData, None, 0, 500000, 1.0)"
   ]
  },
  {
   "cell_type": "code",
   "execution_count": 30,
   "metadata": {
    "collapsed": false
   },
   "outputs": [
    {
     "name": "stdout",
     "output_type": "stream",
     "text": [
      "\n",
      " Modelo 1\n",
      "Regularizador = l1\n",
      "Parametro de Regularizacao = 0.0\n",
      "MSE = 311153.633152\n",
      "RMSE = 557.81146739\n",
      "R-squared = -1857.01389131\n",
      "MAE = 263.419184866\n",
      "Explained variance = 319599.107676\n",
      "\n",
      " Modelo 2\n",
      "Regularizador = l1\n",
      "Parametro de Regularizacao = 0.0\n",
      "MSE = 311153.633152\n",
      "RMSE = 557.81146739\n",
      "R-squared = -1857.01389131\n",
      "MAE = 263.419184866\n",
      "Explained variance = 319599.107676\n",
      "\n",
      " Modelo 3\n",
      "Regularizador = l1\n",
      "Parametro de Regularizacao = 0.0\n",
      "MSE = 311153.633152\n",
      "RMSE = 557.81146739\n",
      "R-squared = -1857.01389131\n",
      "MAE = 263.419184866\n",
      "Explained variance = 319599.107676\n",
      "\n",
      " Modelo 4\n",
      "Regularizador = l1\n",
      "Parametro de Regularizacao = 0.01\n",
      "MSE = 311154.803838\n",
      "RMSE = 557.812516745\n",
      "R-squared = -1857.22127405\n",
      "MAE = 263.420528702\n",
      "Explained variance = 319599.878099\n",
      "\n",
      " Modelo 5\n",
      "Regularizador = l1\n",
      "Parametro de Regularizacao = 0.01\n",
      "MSE = 311154.803838\n",
      "RMSE = 557.812516745\n",
      "R-squared = -1857.22127405\n",
      "MAE = 263.420528702\n",
      "Explained variance = 319599.878099\n",
      "\n",
      " Modelo 6\n",
      "Regularizador = l1\n",
      "Parametro de Regularizacao = 0.01\n",
      "MSE = 311154.803838\n",
      "RMSE = 557.812516745\n",
      "R-squared = -1857.22127405\n",
      "MAE = 263.420528702\n",
      "Explained variance = 319599.878099\n",
      "\n",
      " Modelo 7\n",
      "Regularizador = l1\n",
      "Parametro de Regularizacao = 0.025\n",
      "MSE = 213980.660092\n",
      "RMSE = 462.580436348\n",
      "R-squared = -20.5333764229\n",
      "MAE = 202.804773114\n",
      "Explained variance = 274547.24839\n",
      "\n",
      " Modelo 8\n",
      "Regularizador = l1\n",
      "Parametro de Regularizacao = 0.025\n",
      "MSE = 213980.660092\n",
      "RMSE = 462.580436348\n",
      "R-squared = -20.5333764229\n",
      "MAE = 202.804773114\n",
      "Explained variance = 274547.24839\n",
      "\n",
      " Modelo 9\n",
      "Regularizador = l1\n",
      "Parametro de Regularizacao = 0.025\n",
      "MSE = 213980.660092\n",
      "RMSE = 462.580436348\n",
      "R-squared = -20.5333764229\n",
      "MAE = 202.804773114\n",
      "Explained variance = 274547.24839\n",
      "\n",
      " Modelo 10\n",
      "Regularizador = l1\n",
      "Parametro de Regularizacao = 0.05\n",
      "MSE = 111295.372912\n",
      "RMSE = 333.60961154\n",
      "R-squared = -0.0844165037554\n",
      "MAE = 158.738628187\n",
      "Explained variance = 250737.025384\n",
      "\n",
      " Modelo 11\n",
      "Regularizador = l1\n",
      "Parametro de Regularizacao = 0.05\n",
      "MSE = 111295.372912\n",
      "RMSE = 333.60961154\n",
      "R-squared = -0.0844165037554\n",
      "MAE = 158.738628187\n",
      "Explained variance = 250737.025384\n",
      "\n",
      " Modelo 12\n",
      "Regularizador = l1\n",
      "Parametro de Regularizacao = 0.05\n",
      "MSE = 111295.372912\n",
      "RMSE = 333.60961154\n",
      "R-squared = -0.0844165037554\n",
      "MAE = 158.738628187\n",
      "Explained variance = 250737.025384\n",
      "\n",
      " Modelo 13\n",
      "Regularizador = l1\n",
      "Parametro de Regularizacao = 0.1\n",
      "MSE = 105223.168648\n",
      "RMSE = 324.381208839\n",
      "R-squared = 0.271874252719\n",
      "MAE = 146.326140281\n",
      "Explained variance = 250442.198543\n",
      "\n",
      " Modelo 14\n",
      "Regularizador = l1\n",
      "Parametro de Regularizacao = 0.1\n",
      "MSE = 105223.168648\n",
      "RMSE = 324.381208839\n",
      "R-squared = 0.271874252719\n",
      "MAE = 146.326140281\n",
      "Explained variance = 250442.198543\n",
      "\n",
      " Modelo 15\n",
      "Regularizador = l1\n",
      "Parametro de Regularizacao = 0.1\n",
      "MSE = 105223.168648\n",
      "RMSE = 324.381208839\n",
      "R-squared = 0.271874252719\n",
      "MAE = 146.326140281\n",
      "Explained variance = 250442.198543\n",
      "\n",
      " Modelo 16\n",
      "Regularizador = l1\n",
      "Parametro de Regularizacao = 10.0\n",
      "MSE = 106418.740074\n",
      "RMSE = 326.218853033\n",
      "R-squared = 0.189870124349\n",
      "MAE = 142.568133568\n",
      "Explained variance = 250576.613493\n",
      "\n",
      " Modelo 17\n",
      "Regularizador = l1\n",
      "Parametro de Regularizacao = 10.0\n",
      "MSE = 106418.740074\n",
      "RMSE = 326.218853033\n",
      "R-squared = 0.189870124349\n",
      "MAE = 142.568133568\n",
      "Explained variance = 250576.613493\n",
      "\n",
      " Modelo 18\n",
      "Regularizador = l1\n",
      "Parametro de Regularizacao = 10.0\n",
      "MSE = 106418.740074\n",
      "RMSE = 326.218853033\n",
      "R-squared = 0.189870124349\n",
      "MAE = 142.568133568\n",
      "Explained variance = 250576.613493\n",
      "\n",
      " Modelo 19\n",
      "Regularizador = l1\n",
      "Parametro de Regularizacao = 100.0\n",
      "MSE = 149644.455923\n",
      "RMSE = 386.839056874\n",
      "R-squared = -2.03598190209\n",
      "MAE = 166.271298465\n",
      "Explained variance = 260229.426941\n",
      "\n",
      " Modelo 20\n",
      "Regularizador = l1\n",
      "Parametro de Regularizacao = 100.0\n",
      "MSE = 149644.455923\n",
      "RMSE = 386.839056874\n",
      "R-squared = -2.03598190209\n",
      "MAE = 166.271298465\n",
      "Explained variance = 260229.426941\n",
      "\n",
      " Modelo 21\n",
      "Regularizador = l1\n",
      "Parametro de Regularizacao = 100.0\n",
      "MSE = 149644.455923\n",
      "RMSE = 386.839056874\n",
      "R-squared = -2.03598190209\n",
      "MAE = 166.271298465\n",
      "Explained variance = 260229.426941\n",
      "\n",
      " Modelo 22\n",
      "Regularizador = l1\n",
      "Parametro de Regularizacao = 1000.0\n",
      "MSE = 330165.38039\n",
      "RMSE = 574.600191777\n",
      "R-squared = -inf\n",
      "MAE = 282.353109394\n",
      "Explained variance = 330165.38039\n",
      "\n",
      " Modelo 23\n",
      "Regularizador = l1\n",
      "Parametro de Regularizacao = 1000.0\n",
      "MSE = 330165.38039\n",
      "RMSE = 574.600191777\n",
      "R-squared = -inf\n",
      "MAE = 282.353109394\n",
      "Explained variance = 330165.38039\n",
      "\n",
      " Modelo 24\n",
      "Regularizador = l1\n",
      "Parametro de Regularizacao = 1000.0\n",
      "MSE = 330165.38039\n",
      "RMSE = 574.600191777\n",
      "R-squared = -inf\n",
      "MAE = 282.353109394\n",
      "Explained variance = 330165.38039\n"
     ]
    }
   ],
   "source": [
    "# Regularizacao L1 (Lasso)\n",
    "print '\\n Modelo 1'\n",
    "LASSO_1 = linearRegression_MSE(trainingData, \"l1\", 0.0, 10000, 0.001)\n",
    "print '\\n Modelo 2'\n",
    "LASSO_2 = linearRegression_MSE(trainingData, \"l1\", 0.0, 100000, 0.001)\n",
    "print '\\n Modelo 3'\n",
    "LASSO_3 = linearRegression_MSE(trainingData, \"l1\", 0.0, 500000, 0.001)\n",
    "print '\\n Modelo 4'\n",
    "LASSO_4 = linearRegression_MSE(trainingData, \"l1\", 0.01, 10000, 0.001)\n",
    "print '\\n Modelo 5'\n",
    "LASSO_5 = linearRegression_MSE(trainingData, \"l1\", 0.01, 100000, 0.001)\n",
    "print '\\n Modelo 6'\n",
    "LASSO_6 = linearRegression_MSE(trainingData, \"l1\", 0.01, 500000, 0.001)\n",
    "print '\\n Modelo 7'\n",
    "LASSO_7 = linearRegression_MSE(trainingData, \"l1\", 0.025, 10000, 0.01)\n",
    "print '\\n Modelo 8'\n",
    "LASSO_8 = linearRegression_MSE(trainingData, \"l1\", 0.025, 100000, 0.01)\n",
    "print '\\n Modelo 9'\n",
    "LASSO_9 = linearRegression_MSE(trainingData, \"l1\", 0.025, 500000, 0.01)\n",
    "print '\\n Modelo 10'\n",
    "LASSO_10 = linearRegression_MSE(trainingData, \"l1\", 0.05, 10000, 0.1)\n",
    "print '\\n Modelo 11'\n",
    "LASSO_11 = linearRegression_MSE(trainingData, \"l1\", 0.05, 100000, 0.1)\n",
    "print '\\n Modelo 12'\n",
    "LASSO_12 = linearRegression_MSE(trainingData, \"l1\", 0.05, 500000, 0.1)\n",
    "print '\\n Modelo 13'\n",
    "LASSO_13 = linearRegression_MSE(trainingData, \"l1\", 0.1, 10000, 1.0)\n",
    "print '\\n Modelo 14'\n",
    "LASSO_14 = linearRegression_MSE(trainingData, \"l1\", 0.1, 100000, 1.0)\n",
    "print '\\n Modelo 15'\n",
    "LASSO_15 = linearRegression_MSE(trainingData, \"l1\", 0.1, 500000, 1.0)\n",
    "print '\\n Modelo 16'\n",
    "LASSO_16 = linearRegression_MSE(trainingData, \"l1\", 10.0, 10000, 1.0)\n",
    "print '\\n Modelo 17'\n",
    "LASSO_17 = linearRegression_MSE(trainingData, \"l1\", 10.0, 100000, 1.0)\n",
    "print '\\n Modelo 18'\n",
    "LASSO_18 = linearRegression_MSE(trainingData, \"l1\", 10.0, 500000, 1.0)\n",
    "print '\\n Modelo 19'\n",
    "LASSO_19 = linearRegression_MSE(trainingData, \"l1\", 100.0, 10000, 1.0)\n",
    "print '\\n Modelo 20'\n",
    "LASSO_20 = linearRegression_MSE(trainingData, \"l1\", 100.0, 100000, 1.0)\n",
    "print '\\n Modelo 21'\n",
    "LASSO_21 = linearRegression_MSE(trainingData, \"l1\", 100.0, 500000, 1.0)\n",
    "print '\\n Modelo 22'\n",
    "LASSO_22 = linearRegression_MSE(trainingData, \"l1\", 1000.0, 10000, 1.0)\n",
    "print '\\n Modelo 23'\n",
    "LASSO_23 = linearRegression_MSE(trainingData, \"l1\", 1000.0, 100000, 1.0)\n",
    "print '\\n Modelo 24'\n",
    "LASSO_24 = linearRegression_MSE(trainingData, \"l1\", 1000.0, 500000, 1.0)"
   ]
  },
  {
   "cell_type": "code",
   "execution_count": 31,
   "metadata": {
    "collapsed": false,
    "deletable": true,
    "editable": true,
    "scrolled": true
   },
   "outputs": [
    {
     "name": "stdout",
     "output_type": "stream",
     "text": [
      "\n",
      " Modelo 1\n",
      "Regularizador = l2\n",
      "Parametro de Regularizacao = 0.0\n",
      "MSE = 311153.633152\n",
      "RMSE = 557.81146739\n",
      "R-squared = -1857.01389131\n",
      "MAE = 263.419184866\n",
      "Explained variance = 319599.107676\n",
      "\n",
      " Modelo 2\n",
      "Regularizador = l2\n",
      "Parametro de Regularizacao = 0.0\n",
      "MSE = 311153.633152\n",
      "RMSE = 557.81146739\n",
      "R-squared = -1857.01389131\n",
      "MAE = 263.419184866\n",
      "Explained variance = 319599.107676\n",
      "\n",
      " Modelo 3\n",
      "Regularizador = l2\n",
      "Parametro de Regularizacao = 0.0\n",
      "MSE = 311153.633152\n",
      "RMSE = 557.81146739\n",
      "R-squared = -1857.01389131\n",
      "MAE = 263.419184866\n",
      "Explained variance = 319599.107676\n",
      "\n",
      " Modelo 4\n",
      "Regularizador = l2\n",
      "Parametro de Regularizacao = 0.01\n",
      "MSE = 311157.64097\n",
      "RMSE = 557.815059827\n",
      "R-squared = -1857.82319897\n",
      "MAE = 263.423132852\n",
      "Explained variance = 319601.358708\n",
      "\n",
      " Modelo 5\n",
      "Regularizador = l2\n",
      "Parametro de Regularizacao = 0.01\n",
      "MSE = 311157.64097\n",
      "RMSE = 557.815059827\n",
      "R-squared = -1857.82319897\n",
      "MAE = 263.423132852\n",
      "Explained variance = 319601.358708\n",
      "\n",
      " Modelo 6\n",
      "Regularizador = l2\n",
      "Parametro de Regularizacao = 0.01\n",
      "MSE = 311157.64097\n",
      "RMSE = 557.815059827\n",
      "R-squared = -1857.82319897\n",
      "MAE = 263.423132852\n",
      "Explained variance = 319601.358708\n",
      "\n",
      " Modelo 7\n",
      "Regularizador = l2\n",
      "Parametro de Regularizacao = 0.1\n",
      "MSE = 108533.636583\n",
      "RMSE = 329.44443626\n",
      "R-squared = 0.0274171276519\n",
      "MAE = 150.366265573\n",
      "Explained variance = 250896.924282\n",
      "\n",
      " Modelo 8\n",
      "Regularizador = l2\n",
      "Parametro de Regularizacao = 0.1\n",
      "MSE = 108533.636583\n",
      "RMSE = 329.44443626\n",
      "R-squared = 0.0274171276519\n",
      "MAE = 150.366265573\n",
      "Explained variance = 250896.924282\n",
      "\n",
      " Modelo 9\n",
      "Regularizador = l2\n",
      "Parametro de Regularizacao = 0.1\n",
      "MSE = 108533.636583\n",
      "RMSE = 329.44443626\n",
      "R-squared = 0.0274171276519\n",
      "MAE = 150.366265573\n",
      "Explained variance = 250896.924282\n",
      "\n",
      " Modelo 10\n",
      "Regularizador = l2\n",
      "Parametro de Regularizacao = 1.0\n",
      "MSE = 169795.900715\n",
      "RMSE = 412.06298149\n",
      "R-squared = -5.44385954171\n",
      "MAE = 182.182818202\n",
      "Explained variance = 264117.928455\n",
      "\n",
      " Modelo 11\n",
      "Regularizador = l2\n",
      "Parametro de Regularizacao = 1.0\n",
      "MSE = 169795.900715\n",
      "RMSE = 412.06298149\n",
      "R-squared = -5.44385954171\n",
      "MAE = 182.182818202\n",
      "Explained variance = 264117.928455\n",
      "\n",
      " Modelo 12\n",
      "Regularizador = l2\n",
      "Parametro de Regularizacao = 1.0\n",
      "MSE = 169795.900715\n",
      "RMSE = 412.06298149\n",
      "R-squared = -5.44385954171\n",
      "MAE = 182.182818202\n",
      "Explained variance = 264117.928455\n",
      "\n",
      " Modelo 13\n",
      "Regularizador = l2\n",
      "Parametro de Regularizacao = 5.0\n",
      "MSE = 263852.477011\n",
      "RMSE = 513.665724972\n",
      "R-squared = -99.4992005856\n",
      "MAE = 227.78929503\n",
      "Explained variance = 297209.056763\n",
      "\n",
      " Modelo 14\n",
      "Regularizador = l2\n",
      "Parametro de Regularizacao = 5.0\n",
      "MSE = 263852.477011\n",
      "RMSE = 513.665724972\n",
      "R-squared = -99.4992005856\n",
      "MAE = 227.78929503\n",
      "Explained variance = 297209.056763\n",
      "\n",
      " Modelo 15\n",
      "Regularizador = l2\n",
      "Parametro de Regularizacao = 5.0\n",
      "MSE = 263852.477011\n",
      "RMSE = 513.665724972\n",
      "R-squared = -99.4992005856\n",
      "MAE = 227.78929503\n",
      "Explained variance = 297209.056763\n",
      "\n",
      " Modelo 16\n",
      "Regularizador = l2\n",
      "Parametro de Regularizacao = 10.0\n",
      "MSE = 291801.749924\n",
      "RMSE = 540.186773185\n",
      "R-squared = -372.840605223\n",
      "MAE = 247.447366799\n",
      "Explained variance = 310155.778655\n",
      "\n",
      " Modelo 17\n",
      "Regularizador = l2\n",
      "Parametro de Regularizacao = 10.0\n",
      "MSE = 291801.749924\n",
      "RMSE = 540.186773185\n",
      "R-squared = -372.840605223\n",
      "MAE = 247.447366799\n",
      "Explained variance = 310155.778655\n",
      "\n",
      " Modelo 18\n",
      "Regularizador = l2\n",
      "Parametro de Regularizacao = 10.0\n",
      "MSE = 291801.749924\n",
      "RMSE = 540.186773185\n",
      "R-squared = -372.840605223\n",
      "MAE = 247.447366799\n",
      "Explained variance = 310155.778655\n",
      "\n",
      " Modelo 19\n",
      "Regularizador = l2\n",
      "Parametro de Regularizacao = 20.0\n",
      "MSE = 309325.923449\n",
      "RMSE = 556.170768244\n",
      "R-squared = -1435.40821365\n",
      "MAE = 262.340113205\n",
      "Explained variance = 318988.155718\n",
      "\n",
      " Modelo 20\n",
      "Regularizador = l2\n",
      "Parametro de Regularizacao = 20.0\n",
      "MSE = 309325.923449\n",
      "RMSE = 556.170768244\n",
      "R-squared = -1435.40821365\n",
      "MAE = 262.340113205\n",
      "Explained variance = 318988.155718\n",
      "\n",
      " Modelo 21\n",
      "Regularizador = l2\n",
      "Parametro de Regularizacao = 20.0\n",
      "MSE = 309325.923449\n",
      "RMSE = 556.170768244\n",
      "R-squared = -1435.40821365\n",
      "MAE = 262.340113205\n",
      "Explained variance = 318988.155718\n"
     ]
    }
   ],
   "source": [
    "# Regularizacao L2 (Ridge)\n",
    "print '\\n Modelo 1'\n",
    "RIDGE_1 = linearRegression_MSE(trainingData, \"l2\", 0.0, 10000, 0.001)\n",
    "print '\\n Modelo 2'\n",
    "RIDGE_2 = linearRegression_MSE(trainingData, \"l2\", 0.0, 100000, 0.001)\n",
    "print '\\n Modelo 3'\n",
    "RIDGE_3 = linearRegression_MSE(trainingData, \"l2\", 0.0, 500000, 0.001)\n",
    "print '\\n Modelo 4'\n",
    "RIDGE_4 = linearRegression_MSE(trainingData, \"l2\", 0.01, 10000, 0.001)\n",
    "print '\\n Modelo 5'\n",
    "RIDGE_5 = linearRegression_MSE(trainingData, \"l2\", 0.01, 100000, 0.001)\n",
    "print '\\n Modelo 6'\n",
    "RIDGE_6 = linearRegression_MSE(trainingData, \"l2\", 0.01, 500000, 0.001)\n",
    "print '\\n Modelo 7'\n",
    "RIDGE_7 = linearRegression_MSE(trainingData, \"l2\", 0.1, 10000, 1.0)\n",
    "print '\\n Modelo 8'\n",
    "RIDGE_8 = linearRegression_MSE(trainingData, \"l2\", 0.1, 100000, 1.0)\n",
    "print '\\n Modelo 9'\n",
    "RIDGE_9 = linearRegression_MSE(trainingData, \"l2\", 0.1, 500000, 1.0)\n",
    "print '\\n Modelo 10'\n",
    "RIDGE_10 = linearRegression_MSE(trainingData, \"l2\", 1.0, 10000, 1.0)\n",
    "print '\\n Modelo 11'\n",
    "RIDGE_11 = linearRegression_MSE(trainingData, \"l2\", 1.0, 100000, 1.0)\n",
    "print '\\n Modelo 12'\n",
    "RIDGE_12 = linearRegression_MSE(trainingData, \"l2\", 1.0, 500000, 1.0)\n",
    "print '\\n Modelo 13'\n",
    "RIDGE_13 = linearRegression_MSE(trainingData, \"l2\", 5.0, 10000, 1.0)\n",
    "print '\\n Modelo 14'\n",
    "RIDGE_14 = linearRegression_MSE(trainingData, \"l2\", 5.0, 100000, 1.0)\n",
    "print '\\n Modelo 15'\n",
    "RIDGE_15 = linearRegression_MSE(trainingData, \"l2\", 5.0, 500000, 1.0)\n",
    "print '\\n Modelo 16'\n",
    "RIDGE_16 = linearRegression_MSE(trainingData, \"l2\", 10.0, 10000, 1.0)\n",
    "print '\\n Modelo 17'\n",
    "RIDGE_17 = linearRegression_MSE(trainingData, \"l2\", 10.0, 100000, 1.0)\n",
    "print '\\n Modelo 18'\n",
    "RIDGE_18 = linearRegression_MSE(trainingData, \"l2\", 10.0, 500000, 1.0)\n",
    "print '\\n Modelo 19'\n",
    "RIDGE_19 = linearRegression_MSE(trainingData, \"l2\", 20.0, 10000, 1.0)\n",
    "print '\\n Modelo 20'\n",
    "RIDGE_20 = linearRegression_MSE(trainingData, \"l2\", 20.0, 100000, 1.0)\n",
    "print '\\n Modelo 21'\n",
    "RIDGE_21 = linearRegression_MSE(trainingData, \"l2\", 20.0, 500000, 1.0)"
   ]
  },
  {
   "cell_type": "code",
   "execution_count": null,
   "metadata": {
    "collapsed": true,
    "deletable": true,
    "editable": true
   },
   "outputs": [],
   "source": [
    "# Mais experimentos com arvore de decisao \n",
    "help(DecisionTree.trainRegressor)"
   ]
  },
  {
   "cell_type": "code",
   "execution_count": null,
   "metadata": {
    "collapsed": false,
    "deletable": true,
    "editable": true
   },
   "outputs": [],
   "source": [
    "# Mais experimentos com arvore de decisao \n",
    "dt_model = DecisionTree.trainRegressor(parsedData\n",
    "                                       ,categoricalFeaturesInfo = {}\n",
    "                                       , impurity='variance'\n",
    "                                       , maxDepth=5\n",
    "                                       , maxBins=32\n",
    "                                       , minInstancesPerNode=1\n",
    "                                       , minInfoGain=0.0)"
   ]
  },
  {
   "cell_type": "code",
   "execution_count": null,
   "metadata": {
    "collapsed": true,
    "deletable": true,
    "editable": true
   },
   "outputs": [],
   "source": [
    "# Evaluate model on test instances and compute test error\n",
    "predictions = dt_model.predict(testData.map(lambda x: x.features))"
   ]
  },
  {
   "cell_type": "code",
   "execution_count": null,
   "metadata": {
    "collapsed": true,
    "deletable": true,
    "editable": true
   },
   "outputs": [],
   "source": [
    "labelsAndPredictions = testData.map(lambda lp: lp.label).zip(predictions)"
   ]
  },
  {
   "cell_type": "code",
   "execution_count": null,
   "metadata": {
    "collapsed": true,
    "deletable": true,
    "editable": true
   },
   "outputs": [],
   "source": [
    "testMSE = labelsAndPredictions.map(lambda lp: (lp[0] - lp[1]) * (lp[0] - lp[1])).sum() /\\\n",
    "    float(testData.count())"
   ]
  },
  {
   "cell_type": "code",
   "execution_count": null,
   "metadata": {
    "collapsed": true,
    "deletable": true,
    "editable": true
   },
   "outputs": [],
   "source": [
    "print('Test Mean Squared Error = ' + str(testMSE))\n",
    "print('Learned regression tree model:')\n",
    "print(model.toDebugString())"
   ]
  },
  {
   "cell_type": "code",
   "execution_count": null,
   "metadata": {
    "collapsed": false,
    "deletable": true,
    "editable": true
   },
   "outputs": [],
   "source": [
    "# Save and load model\n",
    "#model.save(sc, \"target/tmp/myDecisionTreeRegressionModel\")\n",
    "#sameModel = DecisionTreeModel.load(sc, \"target/tmp/myDecisionTreeRegressionModel\")"
   ]
  },
  {
   "cell_type": "code",
   "execution_count": null,
   "metadata": {
    "collapsed": true,
    "deletable": true,
    "editable": true
   },
   "outputs": [],
   "source": [
    "# Paramgrid: https://github.com/MingChen0919/learning-apache-spark/blob/master/linear-regression.ipynb\n",
    "# Paramgrid: https://mapr.com/blog/churn-prediction-pyspark-using-mllib-and-ml-packages/\n"
   ]
  },
  {
   "cell_type": "markdown",
   "metadata": {
    "deletable": true,
    "editable": true
   },
   "source": [
    "# Treinamento do modelo linear"
   ]
  },
  {
   "cell_type": "code",
   "execution_count": null,
   "metadata": {
    "collapsed": false,
    "deletable": true,
    "editable": true
   },
   "outputs": [],
   "source": [
    "linear_model = LinearRegressionWithSGD.train(data\n",
    "                                             ,iterations=10\n",
    "                                             ,step=0.1\n",
    "                                             ,intercept=False)"
   ]
  },
  {
   "cell_type": "code",
   "execution_count": null,
   "metadata": {
    "collapsed": true,
    "deletable": true,
    "editable": true
   },
   "outputs": [],
   "source": [
    "# Aqui vamos usar o .map para o nosso conjunto de dados data, e usando a funcao lambda vamos pegar a coluna com os valores\n",
    "# que no caso é o p.label e o resultado das predicoes no .peatures\n",
    "true_vs_predicted = data.map(lambda p: (p.label, linear_model.predict(p.features)))"
   ]
  },
  {
   "cell_type": "code",
   "execution_count": null,
   "metadata": {
    "collapsed": false,
    "deletable": true,
    "editable": true
   },
   "outputs": [],
   "source": [
    "print \"Linear Model predictions: \" + str(true_vs_predicted.take(5))"
   ]
  },
  {
   "cell_type": "code",
   "execution_count": null,
   "metadata": {
    "collapsed": true,
    "deletable": true,
    "editable": true
   },
   "outputs": [],
   "source": [
    "# Agora vamos usar o regressor da arvore de decisao regressora. No caso quando se a algum tipo de variavel categorica\n",
    "# e necessario passar como argumento categoricalFeaturesInfo. No caso vai ficar as...is\n",
    "dt_model = DecisionTree.trainRegressor(data_dt\n",
    "                                       ,{})\n",
    "\n",
    "# A diferenca fundamental que precisa ser enendida e que no modelo linear, obrigatoriamente as variavels dummy precisam\n",
    "# estar criadas no vetor de features, enquanto no modelo de arvore de decisao, como o algoritmo tem propriedades\n",
    "# de quebra da arvore, nem sempre isso e necessario, mas e recomendado"
   ]
  },
  {
   "cell_type": "code",
   "execution_count": null,
   "metadata": {
    "collapsed": true,
    "deletable": true,
    "editable": true
   },
   "outputs": [],
   "source": [
    "preds = dt_model.predict(data_dt.map(lambda p: p.features))"
   ]
  },
  {
   "cell_type": "code",
   "execution_count": null,
   "metadata": {
    "collapsed": true,
    "deletable": true,
    "editable": true
   },
   "outputs": [],
   "source": [
    "actual = data.map(lambda p: p.label)"
   ]
  },
  {
   "cell_type": "code",
   "execution_count": null,
   "metadata": {
    "collapsed": true,
    "deletable": true,
    "editable": true
   },
   "outputs": [],
   "source": [
    "true_vs_predicted_dt = actual.zip(preds)"
   ]
  },
  {
   "cell_type": "code",
   "execution_count": null,
   "metadata": {
    "collapsed": false,
    "deletable": true,
    "editable": true
   },
   "outputs": [],
   "source": [
    "print \"Decision Tree predictions: \" + str(true_vs_predicted_dt.take(5))"
   ]
  },
  {
   "cell_type": "code",
   "execution_count": null,
   "metadata": {
    "collapsed": false,
    "deletable": true,
    "editable": true
   },
   "outputs": [],
   "source": [
    "print \"Decision Tree depth: \" + str(dt_model.depth())"
   ]
  },
  {
   "cell_type": "code",
   "execution_count": null,
   "metadata": {
    "collapsed": false,
    "deletable": true,
    "editable": true
   },
   "outputs": [],
   "source": [
    "print \"Decision Tree number of nodes: \" + str(dt_model.numNodes())"
   ]
  },
  {
   "cell_type": "markdown",
   "metadata": {
    "deletable": true,
    "editable": true
   },
   "source": [
    "# Tunning do modelo "
   ]
  },
  {
   "cell_type": "code",
   "execution_count": null,
   "metadata": {
    "collapsed": true,
    "deletable": true,
    "editable": true
   },
   "outputs": [],
   "source": [
    "# Atribuicao de index para todos os campos via chave e valor\n",
    "data_with_idx = data.zipWithIndex().map(lambda (k, v): (v, k))"
   ]
  },
  {
   "cell_type": "code",
   "execution_count": null,
   "metadata": {
    "collapsed": true,
    "deletable": true,
    "editable": true
   },
   "outputs": [],
   "source": [
    "# Nesse caso a base de teste sera criada usando 20% de todo o conjunto de dados\n",
    "test = data_with_idx.sample(False, 0.2, 42)"
   ]
  },
  {
   "cell_type": "code",
   "execution_count": null,
   "metadata": {
    "collapsed": true,
    "deletable": true,
    "editable": true
   },
   "outputs": [],
   "source": [
    "# O subtractByKey() faz o trabalho de remover da base inicial as instancias que tem overlap\n",
    "# ou seja, esses serao os 80% da base de testes\n",
    "train = data_with_idx.subtractByKey(test)"
   ]
  },
  {
   "cell_type": "code",
   "execution_count": null,
   "metadata": {
    "collapsed": true,
    "deletable": true,
    "editable": true
   },
   "outputs": [],
   "source": [
    "train_data = train.map(lambda (idx, p): p)\n",
    "test_data = test.map(lambda (idx, p) : p)\n",
    "train_size = train_data.count()\n",
    "test_size = test_data.count()"
   ]
  },
  {
   "cell_type": "code",
   "execution_count": null,
   "metadata": {
    "collapsed": false,
    "deletable": true,
    "editable": true
   },
   "outputs": [],
   "source": [
    "print \"Training data size: %d\" % train_size\n",
    "print \"Test data size: %d\" % test_size\n",
    "print \"Total data size: %d \" % num_data\n",
    "print \"Train + Test size : %d\" % (train_size + test_size)"
   ]
  },
  {
   "cell_type": "code",
   "execution_count": null,
   "metadata": {
    "collapsed": true,
    "deletable": true,
    "editable": true
   },
   "outputs": [],
   "source": [
    "data_with_idx_dt = data_dt.zipWithIndex().map(lambda (k, v): (v, k))\n",
    "test_dt = data_with_idx_dt.sample(False, 0.2, 42)\n",
    "train_dt = data_with_idx_dt.subtractByKey(test_dt)\n",
    "train_data_dt = train_dt.map(lambda (idx, p): p)\n",
    "test_data_dt = test_dt.map(lambda (idx, p) : p)"
   ]
  },
  {
   "cell_type": "code",
   "execution_count": null,
   "metadata": {
    "collapsed": true,
    "deletable": true,
    "editable": true
   },
   "outputs": [],
   "source": [
    "def evaluate(train, test, iterations, step, regParam, regType,intercept):\n",
    "    model = LinearRegressionWithSGD.train(train\n",
    "                                          ,iterations\n",
    "                                          ,step\n",
    "                                          ,regParam=regParam\n",
    "                                          ,regType=regType\n",
    "                                          ,intercept=intercept)\n",
    "    \n",
    "    tp = test.map(lambda p: (p.label, model.predict(p.features)))\n",
    "    \n",
    "    rmsle = np.sqrt(tp.map(lambda (t, p): squared_log_error(t, p)).mean())\n",
    "    \n",
    "    return rmsle"
   ]
  },
  {
   "cell_type": "code",
   "execution_count": null,
   "metadata": {
    "collapsed": false,
    "deletable": true,
    "editable": true
   },
   "outputs": [],
   "source": [
    "# Numero de interacoes como parametros\n",
    "params = [1, 5, 10, 20, 50, 100]\n",
    "metrics = [evaluate(train_data, test_data, param, 0.01, 0.0,'l2',False) for param in params]\n",
    "\n",
    "print 'Parametros escolhidos:', params\n",
    "print 'RMSLE dos parametros', metrics"
   ]
  },
  {
   "cell_type": "code",
   "execution_count": null,
   "metadata": {
    "collapsed": false,
    "deletable": true,
    "editable": true
   },
   "outputs": [],
   "source": [
    "matplotlib.pyplot.plot(params, metrics)\n",
    "matplotlib.pyplot.show()"
   ]
  },
  {
   "cell_type": "code",
   "execution_count": null,
   "metadata": {
    "collapsed": false,
    "deletable": true,
    "editable": true
   },
   "outputs": [],
   "source": [
    "# Step size\n",
    "params = [0.01, 0.025, 0.05, 0.1, 1.0]\n",
    "metrics = [evaluate(train_data, test_data, 10, param, 0.0, 'l2',False) for param in params]\n",
    "\n",
    "print 'Parametros escolhidos:', params\n",
    "print 'RMSLE dos parametros', metrics"
   ]
  },
  {
   "cell_type": "code",
   "execution_count": null,
   "metadata": {
    "collapsed": false,
    "deletable": true,
    "editable": true
   },
   "outputs": [],
   "source": [
    "# Regularizacao Ridge (L2)\n",
    "params = [0.0, 0.01, 0.1, 1.0, 5.0, 10.0, 20.0]\n",
    "metrics = [evaluate(train_data, test_data, 10, 0.1, param, 'l2',False) for param in params]\n",
    "\n",
    "print 'Parametros escolhidos:', params\n",
    "print 'RMSLE dos parametros', metrics"
   ]
  },
  {
   "cell_type": "code",
   "execution_count": null,
   "metadata": {
    "collapsed": false,
    "deletable": true,
    "editable": true
   },
   "outputs": [],
   "source": [
    "matplotlib.pyplot.plot(params, metrics)\n",
    "matplotlib.pyplot.xscale('log')\n",
    "matplotlib.pyplot.show()"
   ]
  },
  {
   "cell_type": "code",
   "execution_count": null,
   "metadata": {
    "collapsed": false,
    "deletable": true,
    "editable": true
   },
   "outputs": [],
   "source": [
    "# Regularizacao L! (Lasso)\n",
    "params = [0.0, 0.01, 0.1, 1.0, 10.0, 100.0, 1000.0]\n",
    "metrics = [evaluate(train_data, test_data, 10, 0.1, param, 'l1',False) for param in params]\n",
    "\n",
    "print 'Parametros escolhidos:', params\n",
    "print 'RMSLE dos parametros', metrics"
   ]
  },
  {
   "cell_type": "code",
   "execution_count": null,
   "metadata": {
    "collapsed": false,
    "deletable": true,
    "editable": true
   },
   "outputs": [],
   "source": [
    "matplotlib.pyplot.plot(params, metrics)\n",
    "matplotlib.pyplot.xscale('log')\n",
    "matplotlib.pyplot.show()"
   ]
  },
  {
   "cell_type": "code",
   "execution_count": null,
   "metadata": {
    "collapsed": true,
    "deletable": true,
    "editable": true
   },
   "outputs": [],
   "source": [
    "model_l1 = LinearRegressionWithSGD.train(train_data, 10, 0.1,regParam=1.0, regType='l1', intercept=False)\n",
    "model_l1_10 = LinearRegressionWithSGD.train(train_data, 10, 0.1,regParam=10.0, regType='l1', intercept=False)\n",
    "model_l1_100 = LinearRegressionWithSGD.train(train_data, 10, 0.1,regParam=100.0, regType='l1', intercept=False)"
   ]
  },
  {
   "cell_type": "code",
   "execution_count": null,
   "metadata": {
    "collapsed": false,
    "deletable": true,
    "editable": true
   },
   "outputs": [],
   "source": [
    "print \"L1 (1.0) number of zero weights: \" + str(sum(model_l1.weights.array == 0))\n",
    "print \"L1 (10.0) number of zeros weights: \" + str(sum(model_l1_10.weights.array == 0))\n",
    "print \"L1 (100.0) number of zeros weights: \" + str(sum(model_l1_100.weights.array == 0))"
   ]
  },
  {
   "cell_type": "code",
   "execution_count": null,
   "metadata": {
    "collapsed": true,
    "deletable": true,
    "editable": true
   },
   "outputs": [],
   "source": [
    "# Como a regularizacao e mais agressiva o numero de numeros zeros e maior quanto mais se aumenta a regularizacao"
   ]
  },
  {
   "cell_type": "code",
   "execution_count": null,
   "metadata": {
    "collapsed": false,
    "deletable": true,
    "editable": true
   },
   "outputs": [],
   "source": [
    "# Intercepto\n",
    "params = [False, True]\n",
    "metrics = [evaluate(train_data, test_data, 10, 0.1, 1.0, 'l2', param)for param in params]\n",
    "print 'Parametros escolhidos:', params\n",
    "print 'RMSLE dos parametros', metrics"
   ]
  },
  {
   "cell_type": "code",
   "execution_count": null,
   "metadata": {
    "collapsed": false,
    "deletable": true,
    "editable": true
   },
   "outputs": [],
   "source": [
    "# Put in bar\n",
    "matplotlib.pyplot.bar(params, metrics)\n",
    "matplotlib.pyplot.xscale('log')\n",
    "matplotlib.pyplot.show()"
   ]
  },
  {
   "cell_type": "markdown",
   "metadata": {
    "deletable": true,
    "editable": true
   },
   "source": [
    "# Impacto dos parametros na arvore de decisao regressora"
   ]
  },
  {
   "cell_type": "code",
   "execution_count": null,
   "metadata": {
    "collapsed": true,
    "deletable": true,
    "editable": true
   },
   "outputs": [],
   "source": [
    "def evaluate_dt(train, test, maxDepth, maxBins):\n",
    "    model = DecisionTree.trainRegressor(train\n",
    "                                        , {}\n",
    "                                        ,impurity='variance'\n",
    "                                        ,maxDepth=maxDepth\n",
    "                                        ,maxBins=maxBins)\n",
    "    \n",
    "    preds = model.predict(test.map(lambda p: p.features))\n",
    "    \n",
    "    actual = test.map(lambda p: p.label)\n",
    "    \n",
    "    tp = actual.zip(preds)\n",
    "    \n",
    "    rmsle = np.sqrt(tp.map(lambda (t, p): squared_log_error(t,p)).mean())\n",
    "    \n",
    "    return rmsle"
   ]
  },
  {
   "cell_type": "code",
   "execution_count": null,
   "metadata": {
    "collapsed": false,
    "deletable": true,
    "editable": true
   },
   "outputs": [],
   "source": [
    "# Tree Depth\n",
    "params = [1, 2, 3, 4, 5, 10, 20]\n",
    "metrics = [evaluate_dt(train_data_dt, test_data_dt, param, 32) for param in params]\n",
    "\n",
    "print 'Parametros escolhidos:', params\n",
    "print 'RMSLE dos parametros', metrics\n",
    "\n",
    "plot(params, metrics)\n",
    "fig = matplotlib.pyplot.gcf()"
   ]
  },
  {
   "cell_type": "code",
   "execution_count": null,
   "metadata": {
    "collapsed": false,
    "deletable": true,
    "editable": true
   },
   "outputs": [],
   "source": [
    "# Maximo de bins\n",
    "params = [2, 4, 8, 16, 32, 64, 100]\n",
    "metrics = [evaluate_dt(train_data_dt, test_data_dt, 5, param) for param in params]\n",
    "\n",
    "print 'Parametros escolhidos:', params\n",
    "print 'RMSLE dos parametros', metrics\n",
    "\n",
    "plot(params, metrics)\n",
    "fig = matplotlib.pyplot.gcf()"
   ]
  },
  {
   "cell_type": "code",
   "execution_count": null,
   "metadata": {
    "collapsed": false,
    "deletable": true,
    "editable": true
   },
   "outputs": [],
   "source": [
    "# Save and load model\n",
    "#model.save(sc, \"home/myDecisionTreeClassificationModel\")\n"
   ]
  },
  {
   "cell_type": "code",
   "execution_count": null,
   "metadata": {
    "collapsed": true,
    "deletable": true,
    "editable": true
   },
   "outputs": [],
   "source": [
    "#sameModel = DecisionTreeModel.load(sc, \"target/tmp/myDecisionTreeClassificationModel\")"
   ]
  }
 ],
 "metadata": {
  "kernelspec": {
   "display_name": "Python 2",
   "language": "python",
   "name": "python2"
  },
  "language_info": {
   "codemirror_mode": {
    "name": "ipython",
    "version": 2
   },
   "file_extension": ".py",
   "mimetype": "text/x-python",
   "name": "python",
   "nbconvert_exporter": "python",
   "pygments_lexer": "ipython2",
   "version": "2.7.13"
  }
 },
 "nbformat": 4,
 "nbformat_minor": 2
}
