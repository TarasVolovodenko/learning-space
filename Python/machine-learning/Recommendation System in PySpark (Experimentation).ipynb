{
 "cells": [
  {
   "cell_type": "markdown",
   "metadata": {},
   "source": [
    "[Original post](http://www.learnbymarketing.com/644/recsys-pyspark-als/)"
   ]
  },
  {
   "cell_type": "code",
   "execution_count": 1,
   "metadata": {
    "collapsed": true
   },
   "outputs": [],
   "source": [
    "import os\n",
    "import sys\n",
    "\n",
    "spark_path = \"/Users/flavio.clesio/Documents/spark-2.1.0\" \n",
    "\n",
    "os.environ['SPARK_HOME'] = spark_path\n",
    "os.environ['HADOOP_HOME'] = spark_path\n",
    "\n",
    "sys.path.append(spark_path + \"/bin\")\n",
    "sys.path.append(spark_path + \"/python\")\n",
    "sys.path.append(spark_path + \"/python/pyspark/\")\n",
    "sys.path.append(spark_path + \"/python/lib\")\n",
    "sys.path.append(spark_path + \"/python/lib/pyspark.zip\")\n",
    "sys.path.append(spark_path + \"/python/lib/py4j-0.10.4-src.zip\") # Must be the same version of your Spark Version"
   ]
  },
  {
   "cell_type": "code",
   "execution_count": 2,
   "metadata": {
    "collapsed": true
   },
   "outputs": [],
   "source": [
    "from pyspark import SparkContext\n",
    "from pyspark import SparkConf"
   ]
  },
  {
   "cell_type": "code",
   "execution_count": 3,
   "metadata": {
    "collapsed": true
   },
   "outputs": [],
   "source": [
    "conf = (SparkConf()\n",
    " .setMaster(\"local\")\n",
    " .setAppName(\"My app\")\n",
    " .set(\"spark.executor.memory\", \"1g\"))"
   ]
  },
  {
   "cell_type": "code",
   "execution_count": 4,
   "metadata": {
    "collapsed": true
   },
   "outputs": [],
   "source": [
    "sc = SparkContext(conf = conf)"
   ]
  },
  {
   "cell_type": "code",
   "execution_count": null,
   "metadata": {
    "collapsed": true
   },
   "outputs": [],
   "source": [
    "sc"
   ]
  },
  {
   "cell_type": "code",
   "execution_count": 5,
   "metadata": {
    "collapsed": true
   },
   "outputs": [],
   "source": [
    "ROOT_PATH = ('/Users/flavio.clesio/Downloads/ml-100k')"
   ]
  },
  {
   "cell_type": "code",
   "execution_count": 6,
   "metadata": {
    "collapsed": true
   },
   "outputs": [],
   "source": [
    "movielens = sc.textFile(ROOT_PATH + \"/u.data\")"
   ]
  },
  {
   "cell_type": "markdown",
   "metadata": {},
   "source": [
    "[Fonte](http://files.grouplens.org/datasets/movielens/ml-100k-README.txt)\n",
    "\n",
    "\n",
    "u.data     -- The full u data set, 100000 ratings by 943 users on 1682 items.\n",
    "              Each user has rated at least 20 movies.  Users and items are\n",
    "              numbered consecutively from 1.  The data is randomly\n",
    "              ordered. This is a tab separated list of \n",
    "\t         user id | item id | rating | timestamp. "
   ]
  },
  {
   "cell_type": "code",
   "execution_count": 7,
   "metadata": {
    "collapsed": false
   },
   "outputs": [
    {
     "data": {
      "text/plain": [
       "u'196\\t242\\t3\\t881250949'"
      ]
     },
     "execution_count": 7,
     "metadata": {},
     "output_type": "execute_result"
    }
   ],
   "source": [
    "movielens.first()"
   ]
  },
  {
   "cell_type": "code",
   "execution_count": 8,
   "metadata": {
    "collapsed": false
   },
   "outputs": [
    {
     "data": {
      "text/plain": [
       "100000"
      ]
     },
     "execution_count": 8,
     "metadata": {},
     "output_type": "execute_result"
    }
   ],
   "source": [
    "movielens.count()"
   ]
  },
  {
   "cell_type": "code",
   "execution_count": 9,
   "metadata": {
    "collapsed": false
   },
   "outputs": [],
   "source": [
    "#Clean up the data by splitting it\n",
    "#Movielens readme says the data is split by tabs and\n",
    "#is user product rating timestamp\n",
    "clean_data = movielens.map(lambda x:x.split('\\t'))"
   ]
  },
  {
   "cell_type": "code",
   "execution_count": 10,
   "metadata": {
    "collapsed": false
   },
   "outputs": [
    {
     "data": {
      "text/plain": [
       "[[u'196', u'242', u'3', u'881250949'],\n",
       " [u'186', u'302', u'3', u'891717742'],\n",
       " [u'22', u'377', u'1', u'878887116'],\n",
       " [u'244', u'51', u'2', u'880606923'],\n",
       " [u'166', u'346', u'1', u'886397596'],\n",
       " [u'298', u'474', u'4', u'884182806'],\n",
       " [u'115', u'265', u'2', u'881171488'],\n",
       " [u'253', u'465', u'5', u'891628467'],\n",
       " [u'305', u'451', u'3', u'886324817'],\n",
       " [u'6', u'86', u'3', u'883603013']]"
      ]
     },
     "execution_count": 10,
     "metadata": {},
     "output_type": "execute_result"
    }
   ],
   "source": [
    "clean_data.take(10)"
   ]
  },
  {
   "cell_type": "code",
   "execution_count": 11,
   "metadata": {
    "collapsed": true
   },
   "outputs": [],
   "source": [
    "#As an example, extract just the ratings to its own RDD\n",
    "#rate.first() is 3\n",
    "rate = clean_data.map(lambda y: int(y[2]))"
   ]
  },
  {
   "cell_type": "code",
   "execution_count": 12,
   "metadata": {
    "collapsed": false
   },
   "outputs": [
    {
     "data": {
      "text/plain": [
       "3.529859999999947"
      ]
     },
     "execution_count": 12,
     "metadata": {},
     "output_type": "execute_result"
    }
   ],
   "source": [
    "rate.mean() #Avg rating is 3.52986"
   ]
  },
  {
   "cell_type": "code",
   "execution_count": 13,
   "metadata": {
    "collapsed": true
   },
   "outputs": [],
   "source": [
    "#Extract just the users\n",
    "users = clean_data.map(lambda y: int(y[0]))"
   ]
  },
  {
   "cell_type": "code",
   "execution_count": 14,
   "metadata": {
    "collapsed": false
   },
   "outputs": [
    {
     "data": {
      "text/plain": [
       "943"
      ]
     },
     "execution_count": 14,
     "metadata": {},
     "output_type": "execute_result"
    }
   ],
   "source": [
    "users.distinct().count() #943 users"
   ]
  },
  {
   "cell_type": "code",
   "execution_count": 15,
   "metadata": {
    "collapsed": false
   },
   "outputs": [
    {
     "data": {
      "text/plain": [
       "1682"
      ]
     },
     "execution_count": 15,
     "metadata": {},
     "output_type": "execute_result"
    }
   ],
   "source": [
    "#You don't have to extract data to its own RDD\n",
    "#This command counts the distinct movies\n",
    "#There are 1,682 movies\n",
    "clean_data.map(lambda y: int(y[1])).distinct().count() "
   ]
  },
  {
   "cell_type": "code",
   "execution_count": 16,
   "metadata": {
    "collapsed": true
   },
   "outputs": [],
   "source": [
    "from pyspark.mllib.recommendation import ALS\n",
    "from pyspark.mllib.recommendation import MatrixFactorizationModel\n",
    "from pyspark.mllib.recommendation import Rating"
   ]
  },
  {
   "cell_type": "code",
   "execution_count": 17,
   "metadata": {
    "collapsed": true
   },
   "outputs": [],
   "source": [
    "#We'll need to map the movielens data to a Ratings object \n",
    "#A Ratings object is made up of (user, item, rating)\n",
    "mls = movielens.map(lambda l: l.split('\\t'))"
   ]
  },
  {
   "cell_type": "code",
   "execution_count": 18,
   "metadata": {
    "collapsed": true
   },
   "outputs": [],
   "source": [
    "ratings = mls.map(lambda x: Rating(int(x[0]),int(x[1]), float(x[2])))"
   ]
  },
  {
   "cell_type": "code",
   "execution_count": 19,
   "metadata": {
    "collapsed": true
   },
   "outputs": [],
   "source": [
    "#Need a training and test set\n",
    "train, test = ratings.randomSplit([0.8,0.2],7856)"
   ]
  },
  {
   "cell_type": "code",
   "execution_count": 20,
   "metadata": {
    "collapsed": false
   },
   "outputs": [
    {
     "name": "stdout",
     "output_type": "stream",
     "text": [
      "The number of traning instances is: 79909\n"
     ]
    }
   ],
   "source": [
    "print 'The number of traning instances is:', train.count()"
   ]
  },
  {
   "cell_type": "code",
   "execution_count": 21,
   "metadata": {
    "collapsed": false
   },
   "outputs": [
    {
     "name": "stdout",
     "output_type": "stream",
     "text": [
      "The number of traning instances is: 20091\n"
     ]
    }
   ],
   "source": [
    "print 'The number of traning instances is:', test.count() "
   ]
  },
  {
   "cell_type": "code",
   "execution_count": 22,
   "metadata": {
    "collapsed": false
   },
   "outputs": [
    {
     "data": {
      "text/plain": [
       "PythonRDD[18] at RDD at PythonRDD.scala:48"
      ]
     },
     "execution_count": 22,
     "metadata": {},
     "output_type": "execute_result"
    }
   ],
   "source": [
    "#Need to cache the data to speed up training\n",
    "train.cache()"
   ]
  },
  {
   "cell_type": "code",
   "execution_count": 23,
   "metadata": {
    "collapsed": false
   },
   "outputs": [
    {
     "data": {
      "text/plain": [
       "PythonRDD[19] at RDD at PythonRDD.scala:48"
      ]
     },
     "execution_count": 23,
     "metadata": {},
     "output_type": "execute_result"
    }
   ],
   "source": [
    "test.cache()"
   ]
  },
  {
   "cell_type": "code",
   "execution_count": 24,
   "metadata": {
    "collapsed": true
   },
   "outputs": [],
   "source": [
    "#Setting up the parameters for ALS\n",
    "rank = 5           # Latent Factors to be made\n",
    "numIterations = 10 # Times to repeat process"
   ]
  },
  {
   "cell_type": "code",
   "execution_count": 25,
   "metadata": {
    "collapsed": false
   },
   "outputs": [],
   "source": [
    "#Create the model on the training data\n",
    "model = ALS.train(train, rank, numIterations)"
   ]
  },
  {
   "cell_type": "code",
   "execution_count": 26,
   "metadata": {
    "collapsed": false
   },
   "outputs": [
    {
     "data": {
      "text/plain": [
       "(1,\n",
       " array('d', [0.18627141416072845, 0.35220956802368164, 0.4609048068523407, -2.304429054260254, -0.06592054665088654]))"
      ]
     },
     "execution_count": 26,
     "metadata": {},
     "output_type": "execute_result"
    }
   ],
   "source": [
    "#Examine the latent features for one product\n",
    "model.productFeatures().first()"
   ]
  },
  {
   "cell_type": "code",
   "execution_count": 27,
   "metadata": {
    "collapsed": false
   },
   "outputs": [
    {
     "data": {
      "text/plain": [
       "(1,\n",
       " array('d', [0.23921744525432587, 0.4624086618423462, 1.2235586643218994, -1.3425638675689697, 0.19017109274864197]))"
      ]
     },
     "execution_count": 27,
     "metadata": {},
     "output_type": "execute_result"
    }
   ],
   "source": [
    "#Examine the latent features for one user\n",
    "model.userFeatures().first()"
   ]
  },
  {
   "cell_type": "code",
   "execution_count": 28,
   "metadata": {
    "collapsed": false
   },
   "outputs": [
    {
     "data": {
      "text/plain": [
       "[Rating(user=169, product=242, rating=5.906993115535968),\n",
       " Rating(user=97, product=242, rating=5.8877262624830475),\n",
       " Rating(user=443, product=242, rating=5.615114079579772),\n",
       " Rating(user=895, product=242, rating=5.490619320476549),\n",
       " Rating(user=353, product=242, rating=5.388828767130553),\n",
       " Rating(user=98, product=242, rating=5.357527553816799),\n",
       " Rating(user=4, product=242, rating=5.271224238730753),\n",
       " Rating(user=34, product=242, rating=5.237695136852757),\n",
       " Rating(user=583, product=242, rating=5.20319254876104),\n",
       " Rating(user=511, product=242, rating=5.176521175388039),\n",
       " Rating(user=22, product=242, rating=5.173710902830484),\n",
       " Rating(user=270, product=242, rating=5.172565262002639),\n",
       " Rating(user=165, product=242, rating=5.162151298220143),\n",
       " Rating(user=770, product=242, rating=5.157765735022165),\n",
       " Rating(user=240, product=242, rating=5.1574108425414895),\n",
       " Rating(user=888, product=242, rating=5.151970502353445),\n",
       " Rating(user=180, product=242, rating=5.1426624031315376),\n",
       " Rating(user=842, product=242, rating=5.1242507031643925),\n",
       " Rating(user=520, product=242, rating=5.111843538107488),\n",
       " Rating(user=697, product=242, rating=5.111600314005836),\n",
       " Rating(user=273, product=242, rating=5.098623141637639),\n",
       " Rating(user=310, product=242, rating=5.098238965784004),\n",
       " Rating(user=274, product=242, rating=5.091307645140562),\n",
       " Rating(user=941, product=242, rating=5.06355609308808),\n",
       " Rating(user=46, product=242, rating=5.058602351261012),\n",
       " Rating(user=928, product=242, rating=5.029388348310919),\n",
       " Rating(user=803, product=242, rating=5.027094842363262),\n",
       " Rating(user=531, product=242, rating=5.018689299850635),\n",
       " Rating(user=9, product=242, rating=5.004466553551705),\n",
       " Rating(user=153, product=242, rating=5.001260630177852),\n",
       " Rating(user=341, product=242, rating=4.9959172490607),\n",
       " Rating(user=355, product=242, rating=4.987396570370837),\n",
       " Rating(user=923, product=242, rating=4.970419276835539),\n",
       " Rating(user=182, product=242, rating=4.96336815036501),\n",
       " Rating(user=613, product=242, rating=4.934249701362775),\n",
       " Rating(user=414, product=242, rating=4.931197720515597),\n",
       " Rating(user=367, product=242, rating=4.908425924740504),\n",
       " Rating(user=696, product=242, rating=4.901930000402363),\n",
       " Rating(user=753, product=242, rating=4.896993563369895),\n",
       " Rating(user=849, product=242, rating=4.894606861047926),\n",
       " Rating(user=732, product=242, rating=4.8863510787536875),\n",
       " Rating(user=122, product=242, rating=4.882038861712724),\n",
       " Rating(user=295, product=242, rating=4.878154999532819),\n",
       " Rating(user=78, product=242, rating=4.877135765344423),\n",
       " Rating(user=711, product=242, rating=4.876739808776248),\n",
       " Rating(user=174, product=242, rating=4.8718177493531485),\n",
       " Rating(user=173, product=242, rating=4.8703707596854935),\n",
       " Rating(user=249, product=242, rating=4.8671894610304065),\n",
       " Rating(user=691, product=242, rating=4.855751860127286),\n",
       " Rating(user=611, product=242, rating=4.841037864503663),\n",
       " Rating(user=324, product=242, rating=4.839108344636913),\n",
       " Rating(user=415, product=242, rating=4.832446094016953),\n",
       " Rating(user=75, product=242, rating=4.829112269481126),\n",
       " Rating(user=212, product=242, rating=4.822135688247172),\n",
       " Rating(user=701, product=242, rating=4.815608758287317),\n",
       " Rating(user=776, product=242, rating=4.8137465615342965),\n",
       " Rating(user=472, product=242, rating=4.8102741015527535),\n",
       " Rating(user=517, product=242, rating=4.795911845466298),\n",
       " Rating(user=686, product=242, rating=4.79333894578126),\n",
       " Rating(user=808, product=242, rating=4.785857213758975),\n",
       " Rating(user=420, product=242, rating=4.773990477318325),\n",
       " Rating(user=675, product=242, rating=4.772299112157708),\n",
       " Rating(user=108, product=242, rating=4.771353530214936),\n",
       " Rating(user=131, product=242, rating=4.7703052188464525),\n",
       " Rating(user=526, product=242, rating=4.767511984475665),\n",
       " Rating(user=343, product=242, rating=4.76661650178143),\n",
       " Rating(user=339, product=242, rating=4.751910369202424),\n",
       " Rating(user=469, product=242, rating=4.744817839188438),\n",
       " Rating(user=641, product=242, rating=4.73782674370646),\n",
       " Rating(user=558, product=242, rating=4.735074426325124),\n",
       " Rating(user=118, product=242, rating=4.728877525374468),\n",
       " Rating(user=572, product=242, rating=4.7281876675497445),\n",
       " Rating(user=742, product=242, rating=4.717780738294106),\n",
       " Rating(user=810, product=242, rating=4.711981341579477),\n",
       " Rating(user=423, product=242, rating=4.709937336548089),\n",
       " Rating(user=794, product=242, rating=4.706235224329133),\n",
       " Rating(user=244, product=242, rating=4.7054675055004935),\n",
       " Rating(user=257, product=242, rating=4.7026982808103),\n",
       " Rating(user=555, product=242, rating=4.69908475392647),\n",
       " Rating(user=252, product=242, rating=4.6962762801970355),\n",
       " Rating(user=592, product=242, rating=4.692136139382635),\n",
       " Rating(user=867, product=242, rating=4.692049871803102),\n",
       " Rating(user=94, product=242, rating=4.690813140730307),\n",
       " Rating(user=508, product=242, rating=4.690474178345996),\n",
       " Rating(user=157, product=242, rating=4.690191973718131),\n",
       " Rating(user=315, product=242, rating=4.687048390458035),\n",
       " Rating(user=136, product=242, rating=4.682941627458381),\n",
       " Rating(user=12, product=242, rating=4.680569321853612),\n",
       " Rating(user=267, product=242, rating=4.676972546908312),\n",
       " Rating(user=21, product=242, rating=4.668809793268874),\n",
       " Rating(user=765, product=242, rating=4.661230187716204),\n",
       " Rating(user=103, product=242, rating=4.657294182082613),\n",
       " Rating(user=580, product=242, rating=4.65641345548333),\n",
       " Rating(user=233, product=242, rating=4.654174905025756),\n",
       " Rating(user=30, product=242, rating=4.652469368095604),\n",
       " Rating(user=565, product=242, rating=4.645448618178349),\n",
       " Rating(user=147, product=242, rating=4.644322340456501),\n",
       " Rating(user=891, product=242, rating=4.642683246718532),\n",
       " Rating(user=725, product=242, rating=4.639886486943968),\n",
       " Rating(user=523, product=242, rating=4.636381716452316)]"
      ]
     },
     "execution_count": 28,
     "metadata": {},
     "output_type": "execute_result"
    }
   ],
   "source": [
    "# For Product X, Find N Users to Sell To\n",
    "model.recommendUsers(242,100)"
   ]
  },
  {
   "cell_type": "code",
   "execution_count": 29,
   "metadata": {
    "collapsed": false
   },
   "outputs": [
    {
     "data": {
      "text/plain": [
       "[Rating(user=196, product=593, rating=6.984630282120642),\n",
       " Rating(user=196, product=1664, rating=6.325721017278127),\n",
       " Rating(user=196, product=361, rating=5.85662119959493),\n",
       " Rating(user=196, product=867, rating=5.751188326142186),\n",
       " Rating(user=196, product=1426, rating=5.739967376648849),\n",
       " Rating(user=196, product=1207, rating=5.650164178615768),\n",
       " Rating(user=196, product=1166, rating=5.444729524362961),\n",
       " Rating(user=196, product=1155, rating=5.44236415401739),\n",
       " Rating(user=196, product=1643, rating=5.363915512556903),\n",
       " Rating(user=196, product=1594, rating=5.271297493439602)]"
      ]
     },
     "execution_count": 29,
     "metadata": {},
     "output_type": "execute_result"
    }
   ],
   "source": [
    "# For User Y Find N Products to Promote\n",
    "model.recommendProducts(196,10)"
   ]
  },
  {
   "cell_type": "code",
   "execution_count": 30,
   "metadata": {
    "collapsed": false
   },
   "outputs": [
    {
     "data": {
      "text/plain": [
       "3.8662024781956785"
      ]
     },
     "execution_count": 30,
     "metadata": {},
     "output_type": "execute_result"
    }
   ],
   "source": [
    "#Predict Single Product for Single User\n",
    "model.predict(196, 242)"
   ]
  },
  {
   "cell_type": "code",
   "execution_count": 31,
   "metadata": {
    "collapsed": true
   },
   "outputs": [],
   "source": [
    "# Predict Multi Users and Multi Products\n",
    "# Pre-Processing\n",
    "pred_input = train.map(lambda x:(x[0],x[1]))   "
   ]
  },
  {
   "cell_type": "code",
   "execution_count": 32,
   "metadata": {
    "collapsed": true
   },
   "outputs": [],
   "source": [
    "# Lots of Predictions\n",
    "#Returns Ratings(user, item, prediction)\n",
    "pred = model.predictAll(pred_input) "
   ]
  },
  {
   "cell_type": "code",
   "execution_count": 33,
   "metadata": {
    "collapsed": true
   },
   "outputs": [],
   "source": [
    "#Get Performance Estimate\n",
    "#Organize the data to make (user, product) the key)\n",
    "true_reorg = train.map(lambda x:((x[0],x[1]), x[2]))\n",
    "pred_reorg = pred.map(lambda x:((x[0],x[1]), x[2]))"
   ]
  },
  {
   "cell_type": "code",
   "execution_count": 34,
   "metadata": {
    "collapsed": true
   },
   "outputs": [],
   "source": [
    "#Do the actual join\n",
    "true_pred = true_reorg.join(pred_reorg)"
   ]
  },
  {
   "cell_type": "code",
   "execution_count": 35,
   "metadata": {
    "collapsed": true
   },
   "outputs": [],
   "source": [
    "#Need to be able to square root the Mean-Squared Error\n",
    "from math import sqrt"
   ]
  },
  {
   "cell_type": "code",
   "execution_count": 36,
   "metadata": {
    "collapsed": true
   },
   "outputs": [],
   "source": [
    "MSE = true_pred.map(lambda r: (r[1][0] - r[1][1])**2).mean()\n",
    "RMSE = sqrt(MSE)#Results in 0.7629908117414474"
   ]
  },
  {
   "cell_type": "code",
   "execution_count": 37,
   "metadata": {
    "collapsed": true
   },
   "outputs": [],
   "source": [
    "#Test Set Evaluation\n",
    "#More dense, but nothing we haven't done before\n",
    "test_input = test.map(lambda x:(x[0],x[1])) \n",
    "pred_test = model.predictAll(test_input)\n",
    "test_reorg = test.map(lambda x:((x[0],x[1]), x[2]))\n",
    "pred_reorg = pred_test.map(lambda x:((x[0],x[1]), x[2]))\n",
    "test_pred = test_reorg.join(pred_reorg)\n",
    "test_MSE = test_pred.map(lambda r: (r[1][0] - r[1][1])**2).mean()\n",
    "test_RMSE = sqrt(test_MSE)#1.0145549956596238"
   ]
  },
  {
   "cell_type": "code",
   "execution_count": 38,
   "metadata": {
    "collapsed": true
   },
   "outputs": [],
   "source": [
    "#If you're happy, save your model!\n",
    "#model.save(sc,ROOT_PATH + \"/ml-model\")\n",
    "#sameModel = MatrixFactorizationModel.load(sc, ROOT_PATH + \"/ml-model)\n"
   ]
  },
  {
   "cell_type": "code",
   "execution_count": 43,
   "metadata": {
    "collapsed": false
   },
   "outputs": [
    {
     "data": {
      "text/plain": [
       "0.772560452603972"
      ]
     },
     "execution_count": 43,
     "metadata": {},
     "output_type": "execute_result"
    }
   ],
   "source": [
    "RMSE"
   ]
  },
  {
   "cell_type": "markdown",
   "metadata": {},
   "source": [
    "- [Alternating Least Squares for Low-Rank Matrix Reconstruction](https://arxiv.org/pdf/1206.2493.pdf)\n",
    "- [Amazon.com Recommendations Item-to-Item Collaborative Filtering](http://www.cin.ufpe.br/~idal/rs/Amazon-Recommendations.pdf)\n",
    "- [Matrix Factorization Techniques for Recommender Systems](https://datajobs.com/data-science-repo/Recommender-Systems-%5BNetflix%5D.pdf)\n",
    "- [Collaborative Filtering for Implicit Datasets](http://yifanhu.net/PUB/cf.pdf)\n",
    "- [Contextual Recommendation (long-term and short-term memory for recos)](http://eprints.dcs.warwick.ac.uk/676/1/am-contextual-recommendation-07.pdf)\n",
    "- [Matrix Factorization: A Simple Tutorial and Implementation in Python](http://www.quuxlabs.com/blog/2010/09/matrix-factorization-a-simple-tutorial-and-implementation-in-python/)\n",
    "- [Collaborative Filtering with Spark](https://www.slideshare.net/MrChrisJohnson/collaborative-filtering-with-spark)\n"
   ]
  }
 ],
 "metadata": {
  "kernelspec": {
   "display_name": "Python 2",
   "language": "python",
   "name": "python2"
  },
  "language_info": {
   "codemirror_mode": {
    "name": "ipython",
    "version": 2
   },
   "file_extension": ".py",
   "mimetype": "text/x-python",
   "name": "python",
   "nbconvert_exporter": "python",
   "pygments_lexer": "ipython2",
   "version": "2.7.13"
  }
 },
 "nbformat": 4,
 "nbformat_minor": 2
}
